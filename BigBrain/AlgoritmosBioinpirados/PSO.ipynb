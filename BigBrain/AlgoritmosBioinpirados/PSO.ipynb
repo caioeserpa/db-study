{
 "cells": [
  {
   "cell_type": "markdown",
   "metadata": {},
   "source": [
    "# Introdução ao PSO"
   ]
  },
  {
   "cell_type": "markdown",
   "metadata": {},
   "source": [
    "**Conceito de Otimização de Enxame de Partículas**\n",
    "\n",
    "Conforme descrito anteriormente, Swarm Intelligence é um ramo da Inteligência Artificial onde observamos a natureza e tentamos aprender como diferentes fenômenos biológicos podem ser imitados em um sistema de computador para otimizar os algoritmos de programação. Na inteligência de enxame, nos concentramos no comportamento coletivo de organismos simples e sua interação com o meio ambiente.\n",
    "\n",
    "https://acervolima.com/introducao-a-otimizacao-de-enxame-de-particulas-pso/"
   ]
  },
  {
   "cell_type": "code",
   "execution_count": null,
   "metadata": {},
   "outputs": [],
   "source": []
  }
 ],
 "metadata": {
  "kernelspec": {
   "display_name": "Python 3",
   "language": "python",
   "name": "python3"
  },
  "language_info": {
   "codemirror_mode": {
    "name": "ipython",
    "version": 3
   },
   "file_extension": ".py",
   "mimetype": "text/x-python",
   "name": "python",
   "nbconvert_exporter": "python",
   "pygments_lexer": "ipython3",
   "version": "3.10.7"
  }
 },
 "nbformat": 4,
 "nbformat_minor": 2
}
