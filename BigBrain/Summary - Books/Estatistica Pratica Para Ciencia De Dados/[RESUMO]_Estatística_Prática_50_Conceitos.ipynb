{
  "cells": [
    {
      "cell_type": "markdown",
      "metadata": {
        "colab_type": "text",
        "id": "view-in-github"
      },
      "source": [
        "<a href=\"https://colab.research.google.com/github/caioeserpa/data-brain/blob/main/%5BRESUMO%5D_Estat%C3%ADstica_Pr%C3%A1tica_50_Conceitos.ipynb\" target=\"_parent\"><img src=\"https://colab.research.google.com/assets/colab-badge.svg\" alt=\"Open In Colab\"/></a>"
      ]
    },
    {
      "cell_type": "markdown",
      "metadata": {
        "id": "wwI5QxANi_Z0"
      },
      "source": [
        "# Livro: Estatística Prática 50 Conceitos para Cientista de Dados"
      ]
    },
    {
      "cell_type": "markdown",
      "metadata": {
        "id": "X89HnZU1EvqX"
      },
      "source": [
        "Tenho como intuito aprender a utilizar o polars durante os meus estudos"
      ]
    },
    {
      "cell_type": "markdown",
      "metadata": {
        "id": "muUnMlcSfQLK"
      },
      "source": [
        "# Importando Bibliotecas"
      ]
    },
    {
      "cell_type": "markdown",
      "metadata": {},
      "source": [
        "## Colab import"
      ]
    },
    {
      "cell_type": "code",
      "execution_count": null,
      "metadata": {},
      "outputs": [],
      "source": [
        "# from google.colab import drive\n",
        "# from google.colab import files\n"
      ]
    },
    {
      "cell_type": "code",
      "execution_count": null,
      "metadata": {},
      "outputs": [],
      "source": [
        "# drive.mount('/content/gdrive')"
      ]
    },
    {
      "cell_type": "markdown",
      "metadata": {},
      "source": [
        "# Importando bibliotecas"
      ]
    },
    {
      "cell_type": "code",
      "execution_count": 20,
      "metadata": {
        "id": "OREedUVndz3h"
      },
      "outputs": [],
      "source": [
        "\n",
        "\n",
        "import pandas as pd\n",
        "import numpy as np\n",
        "import statistics\n",
        "import os"
      ]
    },
    {
      "cell_type": "markdown",
      "metadata": {},
      "source": [
        "# Importando datasets"
      ]
    },
    {
      "cell_type": "code",
      "execution_count": 19,
      "metadata": {
        "colab": {
          "base_uri": "https://localhost:8080/",
          "height": 192
        },
        "id": "2SE9gEpUMAAq",
        "outputId": "2ea582e6-27e4-410f-c4f8-b478b729d2d2"
      },
      "outputs": [
        {
          "data": {
            "text/html": [
              "<div>\n",
              "<style scoped>\n",
              "    .dataframe tbody tr th:only-of-type {\n",
              "        vertical-align: middle;\n",
              "    }\n",
              "\n",
              "    .dataframe tbody tr th {\n",
              "        vertical-align: top;\n",
              "    }\n",
              "\n",
              "    .dataframe thead th {\n",
              "        text-align: right;\n",
              "    }\n",
              "</style>\n",
              "<table border=\"1\" class=\"dataframe\">\n",
              "  <thead>\n",
              "    <tr style=\"text-align: right;\">\n",
              "      <th></th>\n",
              "      <th>Rank</th>\n",
              "      <th>Title</th>\n",
              "      <th>Popularity</th>\n",
              "      <th>Genre</th>\n",
              "      <th>Studio</th>\n",
              "      <th>Type</th>\n",
              "      <th>Episodes</th>\n",
              "      <th>Duration</th>\n",
              "      <th>Start_date</th>\n",
              "      <th>End_date</th>\n",
              "      <th>Members</th>\n",
              "      <th>Score</th>\n",
              "    </tr>\n",
              "  </thead>\n",
              "  <tbody>\n",
              "    <tr>\n",
              "      <th>0</th>\n",
              "      <td>1</td>\n",
              "      <td>Shingeki no Kyojin: The Final Season - Kankets...</td>\n",
              "      <td>609</td>\n",
              "      <td>Action, Drama, Suspense</td>\n",
              "      <td>MAPPA</td>\n",
              "      <td>Special</td>\n",
              "      <td>2.0</td>\n",
              "      <td>61</td>\n",
              "      <td>23-Mar</td>\n",
              "      <td>2023</td>\n",
              "      <td>347875.0</td>\n",
              "      <td>9.17</td>\n",
              "    </tr>\n",
              "    <tr>\n",
              "      <th>1</th>\n",
              "      <td>2</td>\n",
              "      <td>Fullmetal Alchemist: Brotherhood</td>\n",
              "      <td>3</td>\n",
              "      <td>Action, Adventure, Drama, Fantasy</td>\n",
              "      <td>Bones</td>\n",
              "      <td>TV</td>\n",
              "      <td>64.0</td>\n",
              "      <td>24</td>\n",
              "      <td>9-Apr</td>\n",
              "      <td>10-Jul</td>\n",
              "      <td>3109951.0</td>\n",
              "      <td>9.11</td>\n",
              "    </tr>\n",
              "    <tr>\n",
              "      <th>2</th>\n",
              "      <td>3</td>\n",
              "      <td>Bleach: Sennen Kessen-hen</td>\n",
              "      <td>508</td>\n",
              "      <td>Action, Adventure, Fantasy</td>\n",
              "      <td>Pierrot</td>\n",
              "      <td>TV</td>\n",
              "      <td>13.0</td>\n",
              "      <td>24</td>\n",
              "      <td>22-Oct</td>\n",
              "      <td>22-Dec</td>\n",
              "      <td>404036.0</td>\n",
              "      <td>9.09</td>\n",
              "    </tr>\n",
              "  </tbody>\n",
              "</table>\n",
              "</div>"
            ],
            "text/plain": [
              "   Rank                                              Title  Popularity  \\\n",
              "0     1  Shingeki no Kyojin: The Final Season - Kankets...         609   \n",
              "1     2                   Fullmetal Alchemist: Brotherhood           3   \n",
              "2     3                          Bleach: Sennen Kessen-hen         508   \n",
              "\n",
              "                               Genre   Studio     Type  Episodes  Duration  \\\n",
              "0            Action, Drama, Suspense    MAPPA  Special       2.0        61   \n",
              "1  Action, Adventure, Drama, Fantasy    Bones       TV      64.0        24   \n",
              "2         Action, Adventure, Fantasy  Pierrot       TV      13.0        24   \n",
              "\n",
              "  Start_date End_date    Members  Score  \n",
              "0     23-Mar     2023   347875.0   9.17  \n",
              "1      9-Apr   10-Jul  3109951.0   9.11  \n",
              "2     22-Oct   22-Dec   404036.0   9.09  "
            ]
          },
          "execution_count": 19,
          "metadata": {},
          "output_type": "execute_result"
        }
      ],
      "source": [
        "#dataset_anime = pd.read_csv(\"/content/gdrive/MyDrive/datasets/top250_anime.csv\")\n",
        "dataset_anime = pd.read_csv(\"C:\\\\Users\\\\g4f003\\\\OneDrive\\\\Outros\\\\12_bases-de-dados\\\\top_250_animes\\\\top250_anime.csv\")\n",
        "dataset_anime.head(3)"
      ]
    },
    {
      "cell_type": "markdown",
      "metadata": {
        "id": "B4Tm1irEgMkO"
      },
      "source": [
        "# Capítulo 1 - Análise Exploratória de Dados"
      ]
    },
    {
      "cell_type": "markdown",
      "metadata": {
        "id": "NisM7yLKiF1H"
      },
      "source": [
        "## **O que é inferência estatística?**\n",
        "\n",
        "Inferência estatística é o processo de extrair conclusões ou inferências sobre uma população com base em informações obtidas a partir de uma amostra dessa população.\n",
        "\n"
      ]
    },
    {
      "cell_type": "markdown",
      "metadata": {
        "id": "oylqqRupigtL"
      },
      "source": [
        "## **O que é Análise Exploratória de Dados?** AED\n",
        "\n",
        "\n",
        "É uma abordagem da análise de dados que visa compreender e resumir as características de um conjunto de dados por meio de técnicas gráficas e estatísticas descritivas, tendo como objetivo descobrir padrões, tendências, anomalias e relações entre variáveis ​​dentro dos dados, de modo a obter insights que possam orientar a tomada de decisão ou a formulação de hipóteses para análises mais avançadas."
      ]
    },
    {
      "cell_type": "markdown",
      "metadata": {
        "id": "sf_CPrxYi4u1"
      },
      "source": [
        "## **O que são Dados Estrutudados?**\n",
        "\n",
        "\n",
        "Dados estruturados são informações organizadas em um formato específico e com um esquema definido, onde cada campo de dados é claramente identificado e relacionado a um tipo de dado específico. Eles são criados para serem facilmente processados ​​e armazenados em bancos de dados relacionais, onde cada tabela é composta por uma série de campos, cada um com um tipo de dado específico, como texto, número, data, entre outros."
      ]
    },
    {
      "cell_type": "markdown",
      "metadata": {
        "id": "B_1tDK6-n8ZP"
      },
      "source": [
        "\n",
        "##  **Tipos de Dados**\n",
        "\n",
        "**Contínuos**:  Dados que podem assumir qualquer valor em um intervalo.\n",
        "\n",
        "Sinônimos: intervalo flutuação, numérico.\n",
        "\n",
        "<br />\n",
        "\n",
        "**Discretos** - Dados que podem assumir apenas valores inteiros, como contagens.\n",
        "\n",
        "Sinônimos: inteiro, contagem\n",
        "\n",
        "<br />\n",
        "\n",
        "**Categóricos** - Dados que podem assumir apenas um conjunto específico de valores representando um conjunto de possíveis categorias.\n",
        "\n",
        "Sinônimos: enumeração, enumerado, fatores, nominal, politômico\n",
        "\n",
        "<br />\n",
        "\n",
        "**Binários**: - Um caso especial de dados categóricos com apenas duas categorias de valores (0/1, verdadeiro/falso). Sinônimos: dicotômico, lógico, indicador, booleano.\n",
        "\n",
        "<br />\n",
        "\n",
        "**Ordinais**: - Dado categórico que tem uma ordem explícita. Sinônimo: fator ordenado\n"
      ]
    },
    {
      "cell_type": "markdown",
      "metadata": {
        "id": "e8xV7HdcvUfJ"
      },
      "source": [
        "\n",
        "<p>\n",
        "\n",
        "**Contínuos**\n",
        "Dados que podem assumir qualquer valor em um intervalo.\n",
        "\n",
        "Sinônimos: intervalo flutuação, numérico.\n",
        "\n",
        "\n",
        "<br />\n",
        "\n",
        "**Discretos**\n",
        " Dados que podem assumir apenas valores inteiros, como contagens.\n",
        "\n",
        " Sinônimos: inteiro, contagem\n",
        "\n",
        "<br />\n",
        "\n",
        "**Categóricos**\n",
        " Dados que podem assumir apenas um conjunto específico de valores representando um conjunto de possíveis categorias.\n",
        "\n",
        "Sinônimos: enumeração, enumerado, fatores, nominal, politômico\n",
        "\n",
        "<br />\n",
        "\n",
        "**Binários**\n",
        "Um caso especial de dados categóricos com apenas duas categorias de valores (0/1, verdadeiro/falso).\n",
        "\n",
        "Sinônimos: dicotômico, lógico, indicador, booleano.\n",
        "\n",
        "<br />\n",
        "\n",
        "**Ordinais**\n",
        "Dado categórico que tem uma ordem explícita.\n",
        "\n",
        "Sinônimo: fator ordenado\n",
        "</p>"
      ]
    },
    {
      "cell_type": "markdown",
      "metadata": {
        "id": "-A9hugSnyy2X"
      },
      "source": [
        "## **Dados Não estruturados**\n",
        "\n",
        "Dados não estruturados são informações que não possuem um formato definido e organizado, dificultando a análise e o processamento automatizado. Esses dados podem ser compostos por textos, imagens, vídeos, áudios, redes sociais, e-mails, entre outros."
      ]
    },
    {
      "cell_type": "markdown",
      "metadata": {
        "id": "6HavS0a-y35l"
      },
      "source": [
        "## **Estimativas de Localização**"
      ]
    },
    {
      "cell_type": "markdown",
      "metadata": {
        "id": "sIuJruk50B0x"
      },
      "source": [
        "### Algumas estimavidas de localização\n",
        "\n",
        "\n",
        "<p>\n",
        "\n",
        " **Média**\n",
        "<br />\n",
        "A soma de todos os valores, dividida pelo número de valores.\n",
        "\n",
        "Sinônimo:  média aritmética simples.\n",
        "\n",
        "<br />\n",
        "\n",
        "**Média ponderada**\n",
        "\n",
        "\n",
        "<br />\n",
        "\n",
        "\n",
        "A soma de todos os valores, multiplicada por um peso e dividida pela soma dos pesos.\n",
        "\n",
        "Sinônimo: média aritmética ponderada\n",
        "\n",
        "<br />\n",
        "\n",
        "\n",
        "**Mediana**\n",
        "\n",
        "<br />\n",
        "\n",
        " O valor que ocupa a posição central dos dados.\n",
        "\n",
        " Sinônimo:  50° percentil\n",
        "\n",
        "<br />\n",
        "\n",
        "**Mediana ponderada**\n",
        "\n",
        "\n",
        "<br />\n",
        "\n",
        " Valor cuja posição está no centro da soma dos pesos, estando metade da soma antes e metade depois desse dado.\n",
        "\n",
        "<br />\n",
        "\n",
        "**Média aparada**\n",
        "\n",
        "<br />\n",
        "\n",
        "A média de todos os valores depois da exclusão de um número fixo de valores extremos.\n",
        "\n",
        "Sinônimo: média truncada\n",
        "\n",
        "<br />\n",
        "\n",
        "**Robusto**\n",
        "\n",
        "<br />\n",
        "\n",
        " Não sensível a valores extremos.\n",
        "Sinônimo: resistente\n",
        "\n",
        "\n",
        "<br />\n",
        "\n",
        "**Outlier**\n",
        "\n",
        "<br />\n",
        "\n",
        "Um valor de dados que é muito diferente da maioria dos dados.\n",
        "Sinônimo: valor extremo\n",
        "\n",
        "<p/>"
      ]
    },
    {
      "cell_type": "markdown",
      "metadata": {
        "id": "lTscXkjUTvfj"
      },
      "source": [
        "### Mediana\n"
      ]
    },
    {
      "cell_type": "code",
      "execution_count": 28,
      "metadata": {
        "colab": {
          "base_uri": "https://localhost:8080/"
        },
        "id": "ntz8j6ZgTxIU",
        "outputId": "fd35b534-aef6-452d-a197-f263428340f3"
      },
      "outputs": [
        {
          "data": {
            "text/plain": [
              "490.0"
            ]
          },
          "execution_count": 28,
          "metadata": {},
          "output_type": "execute_result"
        }
      ],
      "source": [
        "dataset_anime['Popularity'].median()"
      ]
    },
    {
      "cell_type": "markdown",
      "metadata": {
        "id": "N2Jq_Wu9Tc_T"
      },
      "source": [
        "### Moda"
      ]
    },
    {
      "cell_type": "code",
      "execution_count": 27,
      "metadata": {
        "colab": {
          "base_uri": "https://localhost:8080/"
        },
        "id": "mHboXMVAOvLB",
        "outputId": "b0907803-4dec-4c4b-917a-eb9ba5083fc4"
      },
      "outputs": [
        {
          "data": {
            "text/plain": [
              "0    1.0\n",
              "Name: Episodes, dtype: float64"
            ]
          },
          "execution_count": 27,
          "metadata": {},
          "output_type": "execute_result"
        }
      ],
      "source": [
        "dataset_anime['Episodes'].mode()"
      ]
    },
    {
      "cell_type": "markdown",
      "metadata": {
        "id": "f3W7KHPzjkD7"
      },
      "source": [
        "A estimativa de localização mais básica é a média, ou valor médio. A média é a soma de todos os valores, dividida pelo número de valores.\n",
        "\n",
        "Você encontrará o símbolo x (chamado “x barra”) para representar a média de uma amostra de população. A fórmula para computar a média para um conjunto de valores n x1, x2, ..., xN é:"
      ]
    },
    {
      "cell_type": "markdown",
      "metadata": {
        "id": "L5v1w8jXgIuT"
      },
      "source": [
        "$$\n",
        "\\text{Média} = \\frac{\\sum_{i=1}^{n} x_i}{n}\n",
        "$$\n"
      ]
    },
    {
      "cell_type": "markdown",
      "metadata": {
        "id": "_eS90ywkjl_o"
      },
      "source": [
        "N (ou n) se refere ao número total de registros ou observações. Em estatística, ele é maiúsculo se for referente a uma população, e minúsculo se for referente a uma amostra de população."
      ]
    },
    {
      "cell_type": "code",
      "execution_count": 29,
      "metadata": {
        "colab": {
          "base_uri": "https://localhost:8080/"
        },
        "id": "Jl3HrcslMGNr",
        "outputId": "b6d1a753-a57c-4415-9273-6c6f063ec609"
      },
      "outputs": [
        {
          "data": {
            "text/plain": [
              "855.46"
            ]
          },
          "execution_count": 29,
          "metadata": {},
          "output_type": "execute_result"
        }
      ],
      "source": [
        "dataset_anime['Popularity'].mean() "
      ]
    },
    {
      "cell_type": "code",
      "execution_count": 34,
      "metadata": {
        "colab": {
          "base_uri": "https://localhost:8080/"
        },
        "id": "lScBootxMc-R",
        "outputId": "326d4392-e067-43bc-a14c-dff8daca0e63"
      },
      "outputs": [
        {
          "data": {
            "text/plain": [
              "855.46"
            ]
          },
          "execution_count": 34,
          "metadata": {},
          "output_type": "execute_result"
        }
      ],
      "source": [
        "def med_calculada(dataset, coluna):\n",
        "    return dataset[f\"{coluna}\"].sum() / len(dataset[f'{coluna}'])\n",
        "     \n",
        "\n",
        "media_calculada =  med_calculada(dataset_anime, 'Popularity')\n",
        "media_calculada"
      ]
    },
    {
      "cell_type": "markdown",
      "metadata": {
        "id": "Pwx_ShO9fO_1"
      },
      "source": [
        "### Média Aparada\n",
        "\n",
        "se calcula excluindo um número fixado de valores selecionados em cada ponta, e então tirando uma média dos valores restantes. Representando esses valores selecionados por x(1), x(2), ..., x(n), em que x(1) é o menor valor, e x(n) o maior, a fórmula para computar a média aparada com os maiores e menores valores p omitidos é:\n",
        "\n",
        "![image.png](data:image/png;base64,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)\n",
        "\n",
        "\n",
        "Uma média aparada elimina a influência dos valores extremos."
      ]
    },
    {
      "cell_type": "markdown",
      "metadata": {},
      "source": [
        "$$\n",
        "\\overline{x}_\\text{ap} = \\frac{1}{n - 2r} \\sum_{i=r+1}^{n-r} x_{(i)}\n",
        "$$"
      ]
    },
    {
      "cell_type": "code",
      "execution_count": 37,
      "metadata": {
        "colab": {
          "base_uri": "https://localhost:8080/"
        },
        "id": "LucRZBBuFXtj",
        "outputId": "5ae5eaf6-bb8c-41e2-e944-42e69140fff2"
      },
      "outputs": [
        {
          "data": {
            "text/plain": [
              "5"
            ]
          },
          "execution_count": 37,
          "metadata": {},
          "output_type": "execute_result"
        }
      ],
      "source": [
        "def media_aparada(arr, percent):\n",
        "    n = len(arr)\n",
        "    k = int(n * percent / 100)\n",
        "    arr_sorted = sorted(arr)\n",
        "    arr_trimmed = arr_sorted[k:n-k]\n",
        "    return statistics.mean(arr_trimmed)\n",
        "\n",
        "valores = [4, 7, 1, 9, 5, 8, 6, 3, 2]\n",
        "avg_aparada = media_aparada(valores, 10)\n",
        "avg_aparada"
      ]
    },
    {
      "cell_type": "code",
      "execution_count": 38,
      "metadata": {
        "colab": {
          "base_uri": "https://localhost:8080/"
        },
        "id": "JlWeEprgD_t9",
        "outputId": "ce607d3b-029a-4496-c62f-a5f3ddf4d7f3"
      },
      "outputs": [
        {
          "name": "stdout",
          "output_type": "stream",
          "text": [
            "5.0\n"
          ]
        }
      ],
      "source": [
        "def med_aparada(valores, porcentagem):\n",
        "    k = int(len(valores) * porcentagem / 100)\n",
        "    valores.sort()\n",
        "    media_aparada = valores[k:len(valores)-k]\n",
        "    return pd.Series(media_aparada).mean()\n",
        "\n",
        "\n",
        "valores = [4, 7, 1, 9, 5, 8, 6, 3, 2]\n",
        "media_aparada = med_aparada(valores, 10)\n",
        "print(media_aparada) # Output: 5.5\n"
      ]
    },
    {
      "cell_type": "markdown",
      "metadata": {
        "id": "fKjB08xDg13v"
      },
      "source": [
        "### Média Ponderada\n",
        "\n",
        "Calculada pela multiplicação de cada valor de dado *xi* por um peso *wi* e dividindo sua somatória pela soma de todos os pesos.\n",
        "\n",
        "![image.png](data:image/png;base64,iVBORw0KGgoAAAANSUhEUgAAAeUAAAB2CAYAAAD2tYs7AAAAAXNSR0IArs4c6QAAAARnQU1BAACxjwv8YQUAAAAJcEhZcwAAEnQAABJ0Ad5mH3gAAES9SURBVHhe7d0JuK9VWTbwv82l2GCoIEKIQGmGQgEaCQkqIClCkaLkFEqkOIBCOIGAlSkqMjigIBQmSAKFiCaIGiiCYIFKGkZJgaFmNk//7/09n/e+Xnd7H9iHvffZ5+znvq51vcOah3fd63nW8N5jOmCyTFjGqBqNRmO9R/pM1+/6ru+q6z3ucY+Z6//8z/9Mvvu7v3vmubH0WOpy/q5vXxuNRqOxDqCTn8sg2v/4j/8o4mU8M7n/r//6r7LP+8aGgSblRqPRWGEIyX7f931f3X/P93zPDBmTmMH1+7//++v+P//zP8u+sf6jSbnRaDTWIcaSruv//u//lvnv//7vyV/8xV9MnvnMZ0622mqrIl3v/u3f/m3y53/+55MnP/nJkx/+4R+eXHrppZMf+IEfmCHrxvqNrsVGo9FYQQhJX3LJJZMjjjhi8v73v79U1Uj3H//xHydnnnnm5Nhjj53cfPPNk3//93+ffOUrXymyRuSN9R9Nyo1Go7GOMJaSx/DusssumzzucY+bbLzxxpOHP/zhk9tvv31y3HHHlar6DW94w2TXXXcttfb973//ImwLvhrrP5qUG41GYwUhJP27v/u7kwc96EGTf/mXf5k8+tGPnpxwwgmTzTfffPIbv/Ebkx/5kR+Z3HHHHSUhI+zGhoPeEtVoNBqLBCrkv//7v598/vOfrzlg0iviJNFmRXXej/tD9w9+8IMnm222WdllTvn3fu/3SlV95JFH1vuXvexlk3ve856TL3/5yzXX/LWvfW3yuc99rtz3nPLyQD0uJZqUG41GY5Ggj/vkJz852WuvvSb/+q//WsT667/+60WYDPLkBkmbD6aS/tjHPjb553/+58lrX/vayYte9KIiX8b88W/+5m9OzjvvvMnBBx88Of7440tCFo6FXk960pMqnje/+c0V7vd+7/eWv8bSokm50Wg01hPo4xDxC1/4wsnb3va26sCf8pSnTE477bQiU/Zjg5itnj766KMnT3va00pFbe/xD/3QD03+7u/+bvL4xz++/CFu25+YPD/2sY+dvPWtb508/elPr4VgP/iDP7jkhNFYelJufUej0WgsEhAtidVCrF/4hV8oEn3ve99bJOo9sqV+ZjbaaKPJj//4j5fEu9NOO00+85nPVIfPDWL/+te/Xmpqi73uda97VVjChyuuuKLc8sft2K6xfqNJudFoNBYJkYCZQw89tIiXecUrXjH5y7/8y5pPZhAqN6Tie9/73iX15qAQJEsa/vjHP173O+64Y70PqKq/8IUv1N5lfm2Jov5ubBhoUm40Go1FAjKlknaYB6Klkv6nf/qnIuRzzjmnSNi8L5LllsrZ/T777FMLutwjXeYTn/hEbXfadttti8S9c2Wuvfbaml+mIj///PNnwmys/+g55Uaj0VgkhFBDnt/85jcnD3vYw2p+mFqaGvunfuqnirTNA5OOAxI0otZPIvZNNtlksv3220/OOOOMyRZbbDEjYXNDFS4ei8jMV7vPCu+VBHmRJukD96R/75OH5Mn+a3mIu4Ab9sAvKDtlqEyEEwg3cUHCjoYiC+z4Gav93auL1EH8Jv3j9IzvlwItKTcajcYiQYeu09a5g7ngU089dXKf+9ynjse0xxhRh4wQUUgkK6dJ06Tr3XffvVZf3+9+9yt3wkYScNhhh03e/e53T974xjdWXHm/0iBv+WkG/Nmf/VktTHvoQx9aK8/lWTnYi+3+1ltvney2226TE088sfzKN7/u//Zv/3ay5557lubACnfvkWzCFg6jnBjEbU7eqWgPfOADJyeffHKFZ3CkLhCzVey/+qu/WtvR7AsXj/CEkwFA6me50KTcaDQaiwQdOELQ4SNL17333ru2NJHErrvuutraZA4YCUUyRAQhA9Kbeeg//MM/rEVgwuAXSQifm9e85jW1qjukFkJfaUCC0i/dl19++eSQQw6pY0P/6q/+qrQG3isnC99IsB/+8IdrvhxxQubZmb/+67+u/d/m0IUl37PhXYzBD0K2pey2226bnH322RVvVrebAnjWs55VBG+/t3PGxRMgdeGoz+VEk3Kj0WgsEkIUOneE46pTd9CHk7cQq9XYjtAMeaTTD+kiWCTlfUiXHXLz7N5cdIjYFYGsRBhgyMf1118/edWrXjV5+ctfPvmZn/mZIluSb8pL+mkHnOuNIEnUyauBC0OVLzzlQPOgbFOGgfIL0b/+9a+vwc1b3vKWCuuLX/xiScb8I/iXvvSlNehB8KToww8/vMJPONTj4pCG5USTcqPRaCwikITOXAdP+kNKW265Ze1dRia2Ojnwg9TGXcgF8YSgvUMkIWlX75BNnhlx8IvkxuS0UiA/pGVq5Be/+MWT/fbbr1TXSJgKGaSbO1Ly1VdfXffKjRt5dfXMnWdluPPOO1f+A3bKB1Kmwnnd6143ecITnlBaBfH96Z/+aZG+efhHPOIRkxe84AWTrbfeevJrv/ZrNWgiXY/LURxIfDnRpNxoNBqLBGQQsgiBgo4eOTDuv/GNbxTZzCYWGJMLYuHGVXiu3nPrHkhyeb/SEAnfbyYR8ji/iDblZX7ZiWZ+Ren5xhtvrEGKe3k16EDYTjkz50zaZhcpNmUCyoIhlVuhrtwOOOCAqouPfOQjpam46aaban4fwbNPeUY6TnmuizJtUm40Go1FQggB4eroEYGOHcGYx9xuu+1q8dfznve8+tkEN0w6/zEReI94PIfcPQt/TPa5Xw5Ii7y5IjPpcZ0P3EmjNCefzvd2RbRx47AVzxZdcWvQkryStL/1rW9Nzj333NoiRvqNSluY7IH7cVzCYwwKSNY/+qM/WueSW0T2W7/1W7XPG6mLn1/gdpzWcfjLhSblRqPRWCToyJEWiUtHnw7fOwuYqK2pSZ/73OfWu9mEigRyRUQIIiQhHCQTsvAeco3fpYQ4EFfylfTNB+65Hac5BBjJ/6qrrpr8/u//fh01amU1lTxV8y233FJuDGZuuOGGyZVXXlnl51eWCDlhSg/33CpTBpQV0vXeQOgxj3lM2TmM5ed//ufLH//qIOElLwnb+7yj2ibdLzXmL81Go9FoLBg6+xAW6OAtYnrTm95UBGMVMKKwWCvqVwQQ5N5iL+Hw7+cWIZl1CelBbNLISNuaJEmEF7d5lgdlY+BCIj7rrLNqhfov//IvF+EqP0C03BmckKQdxoJQEy+4lyZE7l0GOSH+1AFyJaELO/PKkZJBntQJ5L2wQsKpL+EsNZqUG41GY5GgQw8huDKI4Y//+I+LDPyKkQpW544IIqHNhndMSAWZhDTWJZI3aZE++Q2JzoWQJhM/kPxdc801k7/5m7+p+V0kaCCSeV3Eyd8pp5xSc8lU/uwC7jNAAGnJNe+E4/6zn/3s5KMf/WgdS4rknR3OPzvpclXWqS/G1ikDIXXkvUFCk3Kj0WisRwjJ6tR19J5vvvnm2g70jGc8Y/KLv/iLRQbcIBiHZswHJIAMSKL29u6xxx61l3ZdIyTmP86O+bRv+M7AfQjSYq4MNqyCpla2Ejp2GYAgZQuzfud3fqfmgQ1mUnbcMsJBwkjWD0Cot2Ov7JQ/LYOFXvYkWyDGvaNJgbvUmThTb/ySvp3EZpGaAQEVOHdLjSblRqPRWETo9ElwOniEdeSRR9aRmfvuu+8M4bBz1dEjAZ09f0xIhbqUG+Tw7Gc/u1Yf21q0LvHVr3518r73va/+4/xzP/dzdb8myIu8IlPk5+qEMvn6kz/5kwrPXmFuqIrlmTSrHOxVttfYquyHPOQhZYcsGe6RbUjanLSDWfiJ5M7NP/zDP9S2J2Rs25M5a1COJHR+qdDN9wvXc+KQRmeW28d8ySWXlORsXnmp0aTcaDQaiwSdOlJAqiTdd77znaW2Pu644+oMbMSELNgHOn/SMNIlwbkPMXDv6i9TL3nJSyY77LDDt33NDW6lgYHx/ZogDdzF/3ywx1r6SO3cyYf8zIfkA8TBPQ2Bq5O0nv/859dZ4MrKe4TMTth/9Ed/VIviSKmelUXKw3NU2YjZf6dJwo4lzX5nhExydkiJ+XyDG+5cHSTy6U9/ugZPpHCnp8kX4hWePLH7iZ/4iTr4xZy29QC2WC01+ocUjUajsUgg4SEVJuc8I4tXvvKVRSizoU+kwiYFIrpHP/rRtQqZW0SFCMA8KLLgbj4STP+KtLiRlsQpPbPBHhEhqdjzK5653AchWvOtu+66ay1cs4hqLghfeMhOPPAHf/AHRXTKhSScvclIG+lb9EVN7z/Szva2dUzeki4meUSc7r1TRqYKhC0+/6pmZx5/l112qTAsuPvJn/zJmqN2iEm2SZH4N99889JcpNz4hcwtu3qvDpYSLSk3Go3GIgFRMHfcccfkt3/7t0vFe9RRR5WdTn4uw73fOiJxalpqXO91/kgNOYfsEUvIdza4Gat0hbEmIBikz21IOEQ3H+KWuzzPlx6gNWCflePu+fUDCOd3R1UtLa6I1GIvP5Dw041tttmmyDoqaQMY+VIu0um9/Coj9+xJxrZTUU+Tsh/1qEeVH+lGwgY9yNc52tyRyO1ZztGm0iKdwhUPsgd+xgvNlgotKTcajcYiIYRBXU1l6teKVLA6+rmgTzSfSdoksSESc64ICpzRbMvQ6aefXidUUfcil5DoGOIWnitCyTuYK35kN7YPOY79z8a4D+fW4ippR6JzAXEmbvdIz+BDvmgRgpA8+FvTj/3Yj9UcsPj4H9snfa5I2AldFpxtuummdXY24wjTpz71qXVoiHwh0+RVvtWN+WH7xUnI7BjxCZtU7IcZ73jHO2rOWR4tNOPGAGMp0aTcaDQaiwQdPpKgmkWcCCFSIru5EOkMsWXBEbd+nmC+EzmQvP2qcf/99y+3c5EyaVFcBgVRFQsLyczlHrgVv/iSDmmNZDob4z6c2zsj5YQrzBC9d0mT8JI29+NnaRcHzUHyzF54CJ4q2t+3zB374QWpmKo6cSat4hoPDvIc+7wHcfqDl3I3cKBqN6XgT1OkbBi7Xwq0+rrRaDQWCciAZKvTR0Qh2BDOXAaQo58mgDAQB4nyZS97WUloD3jAA2rR0XxkCaRBC5jMwSIQ0iZjzpaaeC5jHhvhj+eVFxPyYrCAyEifnhn5FZ+yGUO+Uybs+ZE27917F5L+wAc+UAvgnvjEJ5adU7rGxK3slVfqIWHy7wrCIW0L3zuETP3tj1THHHNMhWUhmit77pYayyopp2BABjNikgQmBcmOgfhhl6SyGyc7z+NrMPv5rmIcF4zjm421CR98uBrNOM9rk95xWuM/ZbtYmK88EudsLDQPjfUT47qfr87TJmd/2xsiQsA6e8RDch1/53MhZYK8zCMjkZSRVcS2Q4HFT/rB+cpQ3AiHmjtpEJbrXN8o3Pe+961fFqZ/dYVc5wO3+hdSpO1I8y30Svy5hoTTNyFTZSQ/wlRG4o57z9zmPTf8sGPMoVNB+xUmlbVy5o772fHxO86j+1y5T7nm3h5q29lOPfXUOpM7auvF7FfnwrKSchqsQpFpBT8uIJnVgMeZ9qxwUzHCSAELw3PCGIc1NtzH7q6An4TrXjyueR7HCeP0LgQ+INCQhMvIq/gWgqRp3Ahd04juLtJIQVy593589T51s5Dybqy/UNeB+tcW0kbyvXiX79f7tJ/GmuEbtirYPLIVxQ7RAOU6VxkqX/0lf8jdNXUwVx81rhv+4i51Nx+4A/0NUqa+no+UFxs4QxqTN4uwHvWoR5UW4YILLqi0ST83a8rDXBAm/678O/aTWty0QaTwhL2UWPaeU4YUbDIOKQijnpBSVBXAHbWCZ42IEQakUbHjX0Xw6+r9QismiD9pSyMUl3jYMeP0LBRGxdQyc0nKCwH3KQMfljCUpXJcLIhDeSfvJIAMqLxLXO5TT43VAXWt/fnmXPNtpJ2M3QQLbeOrFQbtTs1ypaJNPzEf2OkD9Cn6gLzLdzrbgLpQT+krmfStc2Fd1p24pVM56HPk1eI4B4GY206/P87fQiDfwgfz1Y7ltBrcdICwlenahLtQLCspK0SZSwNwL5PuFbLl+d5pJOZH2HmvsCxXT6UwpECN1b3CYpfRIb+ezRWkktYWqSRhMCE+4Sc9awNptUBBgzI34gfo9uXdXUjT+KNcDKR+lPd464G/tjgcwR5Mm/LtKZSvcQfc2PDhG8j3mg4937b2CL4b7Wgx2+WGDv2gvyOZH37kIx95l8pPed92222TW2+9tU4Ts5rbth/zpLNN3KQPTR/HrAnp+2KWE2lTIeZLL720+qOf/umfrvfyws2aBhbzQTi5OthE+ZtbpgXATd6rg6XGsqqv6f2/9KUvzYzMFKqP19Wig3322afey7yP2Hvka+m6VYm2FqRhkjKFowJsBHc2LMhOGpZ72wv8WDwFfleh0vkXl2sIfqONNqq0CU8ckPgWCosUnO3qsHSNyPzOXTlHdjbyoUpD0pZGuxhQzsISfhq7urS38jOf+czMilELI/ynVDktR+NtrHv4Nnx/1Hy2jmgn3oE24Pv2DWs37Lbccsvai+s7b6wZDsIgIfszkp8ypM9RrvP1N9S5CMr3qIxduXedDfXkAA0ri3NIiXdr+n7Zp37VZ9TX862+XiwkTvl2n/zsvvvuM1uW5IU9O27Wts+X9+OPP35ywgknVLk/7WlPm4nf4HO+slksLCsp+1PKe97znmoEaVQIBWk6ceWQQw6p9z5iDUrm2Tt79IgjjpicccYZdYapJHPnQ+fGh+98VOoGBMcPiW3PPfesSrNXMPHdFQg/YTNUSCeffHINKI499tja+5aKCSEutJMRh1WPFicgso9//OM1IrMMfyEQThoT1bHBTconaby7EB6yl9c0dOF7dn6t8jVwchiAvLBbSHk31l9oGzfeeGPNe5LqdO60KaANaJvaYdrki1/84slLX/rSRRswbsigifK7Qtt8rJK2RWq//fab9/vyPSpnUl7KXPmvqW8i3PgZRNzxw6zJT9yoQ2pjq8232GKLb9suDRJn8u3qZxEGIOZ7ldGFF15Y7Sv5WGgby8CRAObnIQS9T33qUxWPMrICXhkv1lqd+bCs4owGZtIcMevkGY3BYgbnuubEFJlmBwr34osvrg+eO88aXIzK4e/Vr351nTGLoHUMjm/TWGxQF8dCEfIhJfoDic3prqRb8abjSToWCmmyXcGJNeNFEiH5hUD8GtRFF11Uz8JemzzPB2FprOpGg09jd2+7gDqQBnXmXloaqwfaxdZbb11zbyRhbcLgmeTCONbQO2c/Z69n486BEEwZIdnddtutVKlr6h/Y+Sadj23xUwzV9/g5hnCBbMyf+n595yG9OwN3catPXmqM0xVuoKEjDFDPH3TQQSW1RyuzNn2yslMW/k6FiD1bee2MbHPL6d+WGstKygpKRv2+jASbiiWBgnv2ClXhaiTmXf1zk+SbTfTCyYglhZTK4F8jpPYJkXATouKGQd6eNSjEG/vAfdLjDy9Uy0aVjs3jXrgZVEjLOBzhe877uInhTx6YpJ+b5Md9/Ahr7Fd4eZewNUwHpvsnqeeUc8Jw9XHH/diM0yf943hipCn37CDp9ywu16jNvV8ohD37yiirvEt5g/hSzjEpl9jnXfI5H7hNGbgmnFy9i33Cg8QbN9KXck583sVemwP3woG4847xPPbjmnyrn5UIRKzzsn3HtAbNlmkZ17H50Ic+VIc9aC+NOwdyMIjRpj7xiU/cqYo4/Ye+EtJ/pY+ZjXzDfrLgGrdrqh8qdfO4Dkfxveub9T3q1h5paQXtm0n7vrvIN+U7kD5h4wJp0D9b16JvZj9ffu8MvjMCnekY35p2baBJS6tM9f8Llb7XBstOygqWZEtqVngy6QOeXeiuQEK2KMHKaiMiqjLh8KdiXHVcwrrqqqsqDP/n3HjjjcsdeJdGkgpTmWk03CU+leG9MMGVat3cAhP1CIwrSIX6KLhnL1xII/GeSRrYJ13cSwPpmxt+PAszaePHvfRJu2fvhUFt428o7JIP74WV/EqbD8ZzypebhJP3SQu7uAFhuY8djP3nmf/EuRDww7+wlEnSFKIXP8RNyifux3auKYsY74Q3O23ejw375NWV4R/EI17wjtvE7VneES8jfldu+GGf9pJ0JP3igvFVWK7C58+9OlyJkEb5gaR9nDfPKafGXQfB4u1vf3sNeKiH0+bWJfwwgoSKAB2Had7VudF+cWhuN5BW34D6X0wITxn4LrfbbruaVmRMVWpn4+9soRA2/0je3m1aXVMt1hEtJ5aVlBWmjOtcqLJk3seKTNPgXMGVufbaa2vxAjv/3vTPzEgjaaCpeIuOwLyLTsH7GBWWzs29jjKdhXukH8Re/NJqJOkD8d9Pp+tAGoYr98gDXDXG2CUf4/C8T0fGr/ywSzjSwt69cEJMEL/e55mqxcfCnfyxY5J36RE/6d59nqMtEC9wq9wg6QdX7rkTd8idkZ/4B+EJZ6GQJkg8wh6nXbjS5D5wH5PyTFka1XqftCddc6WNXfKjTLgHYblPepJ/UE7mnhKnq7CzSlNbi4kfYXHL3ez08J8rP8LnPu0l9bkSkfpPXUl7yiz5hHx/jbsG86XW25DSlKfyg7SVdQH9th9F0Hi4+lWiqwM8qNe1V5DWaCkXC9qO8BKmgYrpSRKt7wPS7tYG+W7t9HFYyE477TTzHS4nlje2AQqW8ZcQE+dglEUa9l6h+pAVEP0+9YiN846KU0DmdXVs6aBdudXxcWsuS2Wlcti751a4IB6dL/WQbQHU50Z5OlmVwi3DHzfuLaJClshPuGkgrukw2Qsve+dI9vyxA+FRjdx+++0VT8hAQxaHPHDvI+SOf+FYkU2KZp/08Secm266qcrOs3KxUIw/aibqHWnjx9Xght+UrakBo17+xQfcpcxA2pN+4VOVy5/ThairaC6SD/5SJguFNOnU1TEIR33Io3IVpjRJqzxKt7phl/S6KkvvtSlplF7plu9xXsbgV9ziEj4jjKxIFa545DPlgvTFpdyytU3bEA+IRx7Up/J3rw69507e5FmY/GuDqUvuuBcvcMPtSobykXbtKpBukB/5VWdjaaqxZmhj2pv+QFvw/Xueqw0vF9IOXX2r0qWtepY2aVTfkG95seDbEp9wxad8GPErI++1ubS7hSLfbMLy7H5tw1tbLPuJXiDjSNEB4o5o83cPC6n22muvslOxKsAeO1LvSSedNHnLW95Sv9gitZpbtnAkFaDTQw7I2xFzRpf8C8tVeLKpE5UGHQdyNzciDiugdcr+4/mCF7ygRl786dB1tlToFl0gfaokiyPYy4OG6B4JWpDmvFrvxKHDNkAgYatkEq0wzKdLq/QhjBe96EWlKjF/YcWln3T76baV5NIgPfvuu2+VlwUH8iI8h6Wfffb//7sMIpY3KxGlx729w1ZDgzJSDspLvq2ER/bSLR3m+R3nZ7TLHfficBWfMvjgBz9YaZJvxIj4lBt7ebYITvnzlxHzXYU4QdjClS51avGe+SKjVuWrvViFmpWXytZcukVzOn7btKyaNIeprKwO9es8g7WkSX4h7QeZZHsXgvRscRKVmHryYfIjj67KVplfcsklpcmRRgOen/3Zn60/2/zKr/xK5YdbnYdOSvlpa/JkftCZxvJkLk6e7BxQbtqAPKlrg1ZlKxxGWqVhJUH6fD/+umMlvrbt5CnfqbSqE4MjvzHUtp3vbA6SFNVYM7QbbTZ175pvzf26gDYK6Rcg/UXSKH3sPOuLFiOtwsq34Co+3yGT+NglDYy4Fwr9WcJjwPM4rMXIzxoxRLxsGDI8HQpx5joQ0XTI4HTouKbDhzodKnw6kFRd2Z9xxhnToWOcDh3g9LLLLlNC5f7EE08sd0NjmA4Nt64DyUwH6buehS+MoYJm3HkepJayf/3rXz/dfPPNK/7Pfe5z04Eop0PHPh0KfvrIRz5yOpBV+Rk6zOkuu+wyHaT06dAIKu6BnCttwhYmd9ddd9106JCnW2211fTtb3/7dCCs6UDm07POOmt63/ved3rve997eq973Ws6dETTobOfDoRSfgcCmg6Sw/TAAw+cDh3/dCCR6ZFHHjndY489pq95zWumhx9++HQgnkrXPe95z+lAeNNByqr45UM8A4FNB1KvtDGf//znp0MnOR0kr4qHW/GkrE4//fRK55vf/ObpQBTTgYimhx566HRoeNMddthhOpBhuWWUIz/qYbvttpsecMABVQ+DxFPxDAOC6UMf+tDyq26kOXWrfBZilAe/A2FV/pXFMAquPA3kV+UyEOx0GDhMB9KbbrbZZhWnchlIYHrVVVeVv4EUps95znOmv/RLv1R+ta1tttmmynkcn/xpG8PgabrPPvtMDzrooOnVV19d+VJvG2+88XQglulxxx03HaTAMqnv8847r9rJMICr9F500UXTYTBU8fHnHXcp+4GUprvttlu1BemRbm3r1a9+9fQxj3lMtb3999+/8sReno499tgqe21WWIl7nIeVYKRxGARPN9lkk/pGfFfaSOrTt7XzzjtXm/MdDYPL6UDUc4bV5jtN+rF8v2kDa/N9LZZJGqRJOphx2mKX+8VKa+IaG+WTOMTPcHt34uVP+rVrz66zw1pqLCspjzMmo4NUUoTDPPnJTy7CYZfCHqS36THHHDNT2D5sHZ8OIBXBnY4LqSONQbKcKUThJK5UFCK5z33uUx25d8JQCcgIAeswkSG7VIhOXryMzp9dwh2k4ekTn/jE8qdzStpjDjvssLLTad90003lJx+b+zvuuGP61Kc+tTq0YVQ8HSSo6Ve/+tWy4x/pIkthIEbpRCQJX1jIMOnjT9qSf268Ex8iQBrcIxnvXb/2ta8VOSBX5MQtwmJ//vnn14BB2SbOfJDC/8hHPlKDDn6RjPdM0nBXjTBdUzZHHHFElYl8b7311tNB0qq6ZccN4hOvgQ7y1CZOOeWUCkMauT3++OPLP3PaaadVuviXZ+6Qg8HUwx72sBpYsUuZnnTSSVWe7AbJfOa9gZH2Okje0y9+8YsVpvA+/OEPTzfddNOqw+c+97nlXhzs+BMXgpcW/rk94YQT6r0w5P/6668vUlOW0mXwk/IUXsKcy3CjvYpLnO4Z9TiX4Uac7l09r4ksk3/34uLP1YAO0d54443T+9///pW/V77ylWV/++231yDJgErYF198cQ0E+Zsd/mIa4Uur+vzWt75VefPNJL9zGX2IqzKLO2HMl1blkXLIfa6Nxt3BOptTHjq8mlAfJJpSDVjAZb5paNT1TD06SC21vWlo7OWXWo8/C76oUt1zP3wktZePCtbhGd6BeHL1jorXakYrs62uE645v6ETrHdODBMmVSaVHBWJZ+G6JizpA/FSpVJNAnWnd5A0Z2uW/JlTi70whOWZiop7qu6jjz66VH/eM9SZ1LPSSJVObUudmjTcGYQ7dEqlTrdC20rCYZBRczHKRNqEnS1q9oKb33TvKm7bMqw6l56hoyo/Q4dXz+b6PQM/KfOFQhpSZmAqQfhglaf6Uk7i5Zbql5p46EArb1ZgUvkOnWqlQdty4IJ9smBaAZSbvPNnNb26M93BXeLnX1vjlrrZwS7eaZ/q0D21uEPw3UtP1jIoH+sKzEmDspEPcWrr1Nn8+Am+P9DEXlxWsfoxu3pR145LHNfzmupcuViFLx5tWRsxJ05NPJexA4LbXF/1qlfVdT4kbuWrnj2bWnFinqkl6n5tXR1ZuEm9b2WuMtJ2pMcxstrzUiPfqnL0LcmjqQz5m6ssmGGgXlf9B3cWNJmymg/ainpUn3en3Tcas3HXevZFhMYbo/Hb7+ZeR4a4dFAavPnjnPmq4XvvozZ36N78FX8+CB0FskKqIQsIOeejsfXKh2aTuU5FZyoN7LhN5ziM6mtQkLT4qL3Px849eEZcOiD35sb5cZ9OzDwj94jRwijvuUkaPSMInZl4daTSIm2uTObazVual4wdJE1zQbzCV37mLuXfoQEIK/65UQbDiL/ukYo5XWRhPhq5IEDz2so2Awj2jGd5SXiQ8lkI+JEXeROPDtI7z9mSkE5VXOyQAHDj8Arlw41whGF1v85WOs1RA7/Sb974/PPPr7RrD+pgTJDKg1v3GXTpsJ1cZZuEgY2ySl2n8weDBPEDe+FKL3txg/nitFXp507epAUMAKQp5cKkzcwFdWyLiLUZftD+1re+tdY/MH5BN9t4j0wNTPgxYJDfcT3OBeUL0mVAZj2EPfz8OZFPnqw7MAB06IJBpu+YvfRrL0uNlJl6SR6lRz7nKgvGYUPsDe6UnUGTQdJ8kA/hp7zEJ155dG2z4ZolxxDJsmFowKXiGRtzfcNou+YPqXG5oXLacccdp0cddVSpkrijJjJPa15Rss21Rr03EPj0sY99bM2xUj9xP3wcde/KUJ9xM3w8NbdlbnfoGEtd6DpIOaUOHTrQUocOHcpMei+44IKKk99B4qr3wnQdPuCZecL3vOc9Faf30jt0UHXPjqFO9RwjTfJPZSxsc4rCpTZLHhIPe2UkPvbC5obdfOprbuLOnObQ+Zfq3hzrIMFUfMn7QBileh06msrjtddeOx060+kwSJgO5FzqP2HLl/hzT23Jnbilw/txGu6qESYVYsIepNNKi7I1ZcCNtsAu5Xr55ZdXmsU9EMFMXqWLvbUIphSUm3lN72K0mWGAV361P2XwwAc+sIx787/U9tJAHatNSpuw1Zt6Fp/6k65PfvKT02233bbCMw0ykP5MWrjj19QDe/VwxRVXzKSFu9TllVdeWW1FvKYb+Jd3duIZl9lsIwxuxCWNc7kZm4SZ8sq72e5iUu78iItaWLl4x44xxST92pb5ZGnhlv+4W1Mci2GSRtdxmczlNoa71O34/XxpTXgJn7vx1FmbDdcsNZZ19XWiynVo0DXCtyKT2pSKizRJPb3//vvX35Oou0gS/HDvOM4zzzyz/BnVHnDAAXXiiufXve51MyNWyP1QkCWFGtEPH1OtSrbfmMp2+BDL7dCJVPzUXFRxw4c2I3VJB3WmsKhBSe/g2SpmZz+T0uzVo2qNNCFekrSV4qSs9773vTNq4uHjrfyIxx+irKQmPUVCB264NSpXBiQuI3/nsnqX8nN4umNGwTt+gH/heyYdu5J6pcch9/JLfU+idFqQdCsH0rp/k5IGaSGEbWV1ypKEICxX6lyHq9jm41xwq6+9XygSrjgY0xG77rpr5YGUT4KU/+SNe1MY/nk6dPTlnqQoDM+kTqvL1Ql3jhSkhmYvTPWk3Li1wtoWPVoY5apM1YUy1/7cSxN/3vGjXEmztCTqzspi0rfV21Tb2VUAiZN9pC9pcnSiuFLf8iYf8upeu1MG3Igf5itbYYzLMHG6pszGSH6iHQBu06ZmYxx+IAxhe+/q27JSnmQqb7RZyit+lZv4xvW4VJA3EKc6TZnMh9i7wrjs5kpryoI79/Jpl4jvbE3xNNZ/6O+XFEMjXDYMjbfM0JDrmhEm6Y/EMzTs6dAR1bPVrdwMH9V3jLQtPCLVDR92rTq+7bbbaiEQyYdbbsaGX++tmpbd4QObDh1mpUf88ZP7jOxzJRFdeOGF5W/42Epq4z7pIZ0PnWjZWYhlsU78MaRM+bIymFsj8aSJsVDs6U9/ekmEJLTYJf3S4Sq/4lA2cRMJZz5JmT1jEZO8828BE7/CYJJP+Xef54G0ZqRQK4HjNu4St0VQNAvCj7vEvxCTcPkXNmld3ML96Ec/OlMWMdyRlJWtsrGKPHbcCo+kbPW+cCy040fe1YG2wx8pOgvIEkfc5V2ecyXNDoOU6d57710LFK1Op8WhiZFe2pxbbrml3AsvebMwjL14LQyLvTgSj3zLk7oaiHsmTcqI/exyG5vUCY2Dq7R6PxfYS1fylDi8H4cZ4z2jTXse582zK3sL9KR/IKfSDHgfwz75HYe92Eb4yVPuk875wC3IFz9M7meHz8Re2O6FL8/qTR232XDNUmOdScpDRznzbJ6XxGNe2AktQ8OuRTMkr+EDmBmtck/idcSbgxZIP/bWcmdxCcmEu9kQhj89kaSGDqPmweylFN7QQdY1aQL3/ICrfb32CUuXPaakzOEjrhE4e3tiSfbDB1pzc/ZkksQtGLPYxftzzz23/AlbGkB89jJbCHPWt/+0YoHZOM/iHDrbmo+UVnNfhx566Exah46hpD7SLEmX9OYqjOTDb/VIs9JhlGdE7z2JeOhMyn3KAFwtiLO4StwkZntLze0mbebISQXmWy2Es+jHYiFziMnfQiEv8ks6Fy6NhDK2P5mGYej8yj55s1/dOgPpMX9pTQGoG2mwUEpZkdhoCLhPeVpkRaKTd/vC7e8WvrBcxZs65p7krfzMy2s/NAO0NvYl08AI1+I0Ur2w/HTFgqtIndJMC7LtttvWs7Rox/ypV3mWFu3LEbTSoN05Mla80uHdfGWrHknrwwDtO7QlqdPZ8J4bcfJL42SP/nxxcC8PwJ9naU/4/Fn0SOtA+0JLMQwg6xn4SdkKP+lbCkiTeKSPpsFV2tWFspwL6lc9J10WsPmm7IWfC8l3wJ+6a2z4oAlbUgyNa9kwfBhzGhKkLTmSY37yEY94RM1pzuWWsWVp+Ahm9v2ShrwfPsT/45YxijX3R8IWh7213sW9ebHhY61779xHIuCOFD50JDUSthXHu+EDLreMETOJ3Tw3N+JxNb82dNwVvrCEy5DU4s82sKFjr7nbBz3oQRVv0mL0bt6OW+lmTjvttLLjN/N5ttpIH3vuY/hnhEc6U2bmPW+99dbyb56YXdxkTkz+aAdSXub3SYLSzc41ZUMKN089dHwzc8rsFmqEFSMM0jHtgTRrCykXduKXP3UhfdxEQ8EIj7Roa5m2wQ1tBv/yzO/JJ59caWZI+Em3ehUGN8o39axsbOGzn1h8tix5F/cMSVm9m7+3/c07+RGWsEnK2iz/5ouFKz1Js3zJa/I0kHK9Z590eJ7LsKMBUhc0F74jZhhIzWm4c7W+wp5wW/GybmC+8JnUzzhNytW2OvPx73jHO0rzo1x9x+zG7lKHc8WxWCbp0wbkTznYrjW7DGYbawyUnfvtt9++9q0vdVrbrH9mqbEiJj9IlUak5jhJjsNHUatm5wPpJCN8c5okueEj/D+j12Do4CpMEgipxFYr/98cOosaURslw9BhVBjmtY2qSUquQ0XUaHvoXMs/uHovDaQ6EqK5WStPnc5EMqcB8J9nEqn0gbSQesTjnTBchSM9CZc9t+L17D0jvQw/JNWkGbgVDklE+bgmHhoF/q2sJiHKi3yLgx9X0rgtQJAV18KwKp60yb3wvEsa5QWS1uRzbSB9wkm5C8s1f4MRn3jdSwuJLPGnHPhRjvLvXcpOmMLmXvrzy0z35vr94SjxCceVsVaA0TYdw2mrEggL5Jl7BpSr+lHn0gGpQ++941d44pMPV2l1n7qIGYi6whYG//OBf9IubZMV89JKU0Cin8uYCzf/7d5cNwlbe5LOuZA2N26Dys472hmaB1Kp9SE0FsqZ9kR7Uo7c0A4oy+WA9EmrtmONCg2UvmV2OcRIK3fKzTOtg9PtGo3lxoogZR8P1a6PXOdj245FN/PBnlKqa50V1SH3/DHzwUfqaMNh1FwdBpUv1TI1m3B0gO6pwqmIdZ7SMyYI/oTDbTphKiuEd/bZZ9e2GOmmJqf+srgr0NkJj39+hScceZdudox3wE06vnTIjM4e+BMGO3kKHPmYjjVXbqgmqVP5s1jsmGOOqX3bIF86cCp9gwhkZ1BkARr3wrEoykI6nVfKA2EYgAhfehHKfJ36XUHKJGUrXOVvsOCdsL1juEVs7EE5pTyQm45VOr3nL/5BnnS4jktlr8O2WJC6WBnHnSkRC9wM4iD1KyydvWkB7sVrOkWnDoPEWcQYkmUvTHmTPvfIG4SVdAtL2iDlkIEXcDMf1KGykB/huAb8zTbCZ6Ql5RS3c8F74TK+DSp/gxn5M8DVlkzbSIdv2XYppG8wpy64sQVNnpYa8iU/KW/QVgwIkv/ZJu0o5aIeliOtjcb/wdDwlg1DBzCnGT6IUjVSMVGrDR/7jEpvLkMtRU02fDh1RCK3VIRr8kM1yN+rXvWqmcUYQ6dZ6i0nclE52sYxjPJL9Th0NjOqulNPPbXi4ud973tfheU9Q82abSBD51bq4cc97nF1zKNwbcl55jOfWUcyUrHKq3QOHW35txjGiUhDR1CnPAk7aWbvKj3SOnR4tZDGO+HEOOYx6jdbnZSN4z6lwdQAN8IaJOQKR1rlh/tBupk+6UlPqm1Bg2Rci6MSr7Q8//nPr/IaOrly73QxJ1E5vcvUgedBKq0w1d3jH//4GRX7Qo06zH22oTEWUg1EUO+dgJbyc1QoFbtyd/Sld+yolV2dhmbRlfRTR1Kxylvqlr36V/bUzsJSfupNPdoip7xTJ9Ig70MHX2GabhgGMaX6dcQrv9KrPGzBor61MFGcDJU1f9LrZLmEqX7cu5511llV1urnnHPOmXmfPHuez6TeLB4UbtrYbHdM0jRui3k/2y3DnXQIV5vSVk25UH0rBwvXkg9TDTkdjzvthGrbcaPczBfHYhr1Kx3S7Srda4qXHTfj6SN+lyOtbdYvs9T47kFiOmb4eNYphozWyJS6lwRBaiFlDh3Yt118J7g18nXAyEEHHVQj8+HjqfdGuXOBNMDO4hpSoEU3w8dXI2SSkqvFUBY0UW0aaVP1+rnB6aefXpLP8JGWepAqnERAaiIRi1sYQ+ddUoGDKhgSli1R1L9+dmAxFxWahQLSQ8q2IMj2I2EPHUlJqbZl0QAMHUQtIiPBCmuor0o3O+pZki8/8kPtxg1pgOqN1G9RFzW0fEujrVAWkzmARDlzy500cTeQX0mDkbpcLbZSrlSc8ufqBwP8OVzE9izbwqRHuQiTqtLJVAsB6VKdUvuT9knp8i/PpHOSl61JNAWkMnVP+iKNaT/KWX1QSWs7FlzJj59GyLv8MspWONoW9354om6pc4dOue7VsfhoTWgYSLzqhx9bmqRRPcsntbd2RPtg25y6ZkfCVf5OHXMwjh+MvPGNb6xyA5oJ5Wrqhlt+tAXSpvyCd+pu8803r7i1yfm+CfXFXnlJL3fzfQugTICbmGAuf8JVzuJQV+9617uqrrVFUzcWuWkv3HCrTdqCpm3Jo+/I9rI7+04XA+KX/5SBNKds5gN30sUPd3E7X3k3Vi+Wsu3COll9PRd8zMhEh6czW9PHIBwdgo7Z6ltzuXf2EQmfnU5Boeo8zR0jKOpRRIywdejpgHUq4xWV6XCYQUKvoxW58zHbM21VM+KjFhUHo7M0ryZvVJ6AaJHdINHWO+6EKSxXR/xZ7c3OymNpjJsAiTpGkh/pQir2UBsM8G9+L2rfcdhg3luakI+0yweVO8KCuHMVtripas3fi2eQIqusdLYGA9S+SFkHrS4crYgYFgp1g0QNYJKvXKnoneCFoJSfepH21CdIA5LV+TuRyXtGh4w4AWmbboCEj4hzNKQyt2fbCuqQIQhHuxCWOnWkpfZjf7MV0tLHLusJTKkoU/68s/+Yf2WaQQ/32pH6MtixtzlkmfqSR/l+yEMeUunlZz5wH9JzzyT9awJ3QcpyLiT/Bi8GPfKvHcsr8Jv2IkzqaoMm5wJoE/zGXjoNVnzDBqk77LBDvVcu0k/tLdy0SbC3W3gGP9qXcpwLyU/iUQbu1wR+ku7cw535W5+RfKa/S1vJd+E9e/fcuo6/N9e8X01Y6jaxYkh5fYFGSTrVcWiMKsjhEbZP2NpksQ1y0rDTQZKKdDK2DCEA87aOalzqym00ViJ8GwYhtBDInVaF5K1/YAwYDZxoDRxCEj8GqrRpDlUJifu+GmsHZTruk/VXYPCkj4uGyOAnBM3wk77Pffq51YKl7rdX1xBnkaDRUj9T5yJbi4FIRc7+pbYz2ldxGWHaP63jIRH5EEga44+h0VhN0MHTZPiOaKZoPXwP6exoh2iyEIPvLFNPviMICTQh3z0o00jJ+izkq2y9M0WR8veOG9NJtEm0FcBevXU9LC6alNcCGq/GiGCN5qnhHJKQjoI9O3ClOtUBUa9q3LZmNRqrFTp5uydso/Kt+DZCyNZmWMPhOzH/jiyQRL4r0wrWBAijB7Z3D/om5Ypcla1+ypSWerG+JlMu3pt+O+yww2qqixCSXRjATWPx0KS8FtBIdSJGk9ku4zQjHYnOAjRYnU1GkebfkPeBBx5Y23G6Q2msVvgmnvWsZ9WaB4vtfDMhZRI0bZPFbwgiHT/pzAJAC+esZch31Vh7pL9Sxgjaugp/QVPO+ipEzd5CTls+/fEu2/24j+DRWFw0KS8Q44ZohS6VtA7Fnufzzjuv7jV2xE3dwxjt2xdN/UYK0Ni5aTRWI/INWW1vtwH4TkwFWcTneFcr+a1u9z0ZwDqy02JMpIyQfVM9sL370BepD/2VnR36KT9EsUvD4sV3vvOdtR/dmhk7Lbi1+I7A0X3Y0qBLdYHQIaQxUkdb3GW1rsbqj0ROG/OvWvNkFqRo5M71Bu91MpGmG43ViHxDiNj3oIO3PgMBOKDGSXLmmu0SQL5Ws1uV75/IFh/5foSxmklZGci/fidXcD82eZc+x/3YLdW18jdA8t8BJys635024txzz63V8XaWWLyas+NtC0Tm6k5YrbVYXPTq6wVCI2Q0TqNLjT37je1rtm2IiocKTuO1StQKUts+qOr47VFmYzXDd6P9U5H6mYl7v3y85pprJieeeGKRMPW2uUqSM1KwkNJeaN9P1Kq+I8Sw2iDvDLWzPtVecGcd6H+Umfeu7JStcjK4Sb/Dr3Kjuct0QIQFp9IRMvy+Vt04i8A2R+XuSAs/qjnttNNqm5spBvEIl1ktWOo218ywQGRgoXEbITL2qRrFU1/bK6xzMdp0YISDP+yrjMqHe50S02isRvgGdObUoyQw88XmM2mZdHhU1w7GQTKkMxK1gW0IhpuQy2pEBvauyoLGzkDGwUfOPrDNjLbB3nbzwEjVdeutty4iNWfsKOF3v/vdRejK0o4QYTk+FRwidPDBB8+cDw/OKvDeQjuSNbAjbTcWD03KC0Q6how8dTA6Bx8G4nWwhlG9kWYadEg4I1Rus4Cl0VhtCKkgX1olpEtac+iOQW/2x+rsqVBJc559e/yGjD2vRig7eWccoqRPoXp2cJFn5yLQ0tkRQmCwatohSw5lcvqaldS2aCpH0wbgpDzhmtdXLwZIVlor9xirsaMBFHfqIQTdWBw0Ka8FfATIWAeRDmZMtBqrzsXVu9jxp3Hz02isVujQ8y34dhyTa1dC1K1WZcf4PzlyIFX7nnw78eu6GpEBvjIg+epfELIf7ihPmgcaOlKwKTPuLUpNf0X9b+GWMAyKXLlxDC2JmzTsNDXvlTHjlD2DJFKyMNWTPpAdv43FQ5PyApEOQQfiXuPMqDHvMpL1DnwIudeQ2TUaqxXjb8W9P5BRt/oufFtIg0RmXtkiybjV+ft+gJvVTAbKSj8TeN5///1LGtbffPrTn65FpsoNXHNPVY1cqbSVY8KxrdN2J1oL9QH8CM9UgroyQLIN1EptSL/WWDw0OywQ4wUT7jVYnUbeBe6NYNm5T2eiEadTajRWI0IQvh1EQFLOu3wrtkC96U1vKje0TNSsvifIN7dap4CS7/Qt+h5lh2CtXvdrW1KveWPnrnNvsGMQk37J1Q9bHOLCThgObtE3WZxKnZ064Z8Ezb+9434EQ2Wdfo//xuKhSXmB0PDTWDVuHYiGOR/ywUA+oPG7RmO1Id+Azt5VB59vIt8Tu3xjQJUdwmbYrdZvSDmkL0kZKBOEaj7eufpUzEjTeftORkuZGdDwF4FBOcfvtddeW+/MP3MrDu4ZP2pRB662gVqIl0GBsDJQinuDKEel+qmP5wgiiJ0w42plvbSxR+xxw968tzlsc+SxXy1YEb9ubDQajcbdBwKzpcmf5WghkKhBj795sYOQsGek6h7peXYEsD+XIW7PSJKh0jbP7Cci/p4G/I7JWziemVNOOaW2UJ155pm1aCySt3i4R9j50x7Jnt+kxe4VP/axN1265SdxrQQsdTpaUm40Go0NAAgt8/FWWZNmqbHtK/YPdGTMnrsQcoz3u+++++QpT3nKDDkiZn6Qsl+12topTGDHHYmXW5JxyMoiMwvJbrjhhtr3TOoF7kjV3L7tbW+rNIT8xY+wPVs9bm6bOt3fxMS/Ugh5OdCk3Gg0GhsAqKKtkEZy/l/tIBarsxGcn0hY4BVCjjrbO37ck6jZCYdBhnGLgEm7ruyAfcjZCWzu/cbWf7T9G/zhD394vXOUasgX8ZKE7ZX23qpu4VNZZ2rwCU94QqXJHnZq+NWGJuVGo9HYQID8Qqb77bdfrcZGokjQyWhIDwkiPQTNLlJqpNEQN7IF1zyzE36uceMesSLRs846q/ac2+/MH/INgduTfs4555Q0DBkohJhJ3rfffnuF66wHW728X01oUm40Go0NACHJkBzCzX/cEa7DjVwRIzsk6ZkfBoF6x6+wPLMPoYYcuY1fdoDUkbs5aSeJcWPRGXDLnltbqyz+shfae3/PE0/iEPcHP/jBCosqnSpeWMh6taBJudFoNDYAhERDoO6tmHZ99rOfPXnOc55T5GZeF9HFbUjWNSTrPmQZxB3wO9sAsnePkB34wn/IXtzPe97z6kxtf6Jil3lkYZPev/zlL9cisT322KPSLKwMILg34LAi23VDlaCblBuNRmMDAAILCSJeamMEhwyPOuqoIjImJBr38ctAyDLvQs78rgncJDwQBoTs7T03v33IIYfUCm5hf/3rXy91tTQi3ve///01kPBHPX4QcqTsxM/es3A3RDQpNxqNxgYARBVpGcmdffbZdZb1S17ykpJavY+UHLeuDISEGWQI7PKzijWB2hnG7jIAQLbU1OaaHQVqARi1tLARLglZmm688cb6VaR91lZ5JyzX8X3SI1x+NzQ0KTcajcYGAMSGCJEdEnz5y19ec7yOKrU6mj0i5sZ1LGnOJmfEB0jPqmskvybwK0wmEnLg2Y9F/KvZz0XAymqkSgVNeub/hBNOqF/cUm9nUAAIXxjSyz3VuHikzdzzhoYm5Uaj0dgAgGyRFJI7/PDDi/he+9rXzkismWdGaAjR1TOD8HIP7D772c+Wehkhe8/PfJgdBuLMNin7jf0S0krwLDaL5G7RmR9nOKebGptUnzAQtav0I2Zpsu/6U5/6VP1IA3FnILEhoUm50Wg0NgAgxaitb7755jo0xBalrIJGcGPpmPSJFF2R29jYQuUHF37/yA+DHOcDwow7RBxS5ufCCy+s87T90pZ0Kz7qa6Rq0Zb0cuOsbquyzRkLTzqkOYMJ5thjj53su+++pQpfU3rWZzQpNxqNxnqEsSoZeTGICxl+4QtfmLzhDW+oxVRWOCOyuI9KOFueHMV55JFHFjF7Bm6R3a233jr5xje+UcdrhhDNR88H/qWDO8QrLYlH+KRkv49EyN5nsRZS9tMMZ3TvtNNO5T/E7gpjVbYfY5CWDTa44X5DQ5Nyo9ForEcYq3IRaEjMOde2PW2//fYzv7xEgsh0LHky7p2N7RhL9twhZGEJ/xnPeMbkAx/4QK2YFjbS52c+8C8tjtCkQk98wjO3vdVWW9UzCVpY97vf/cq9tPhFp7nkEDZ3iF1Y3CRu6XjXu941ueyyyyYHHXRQhc1uQ0OTcqPRaKxHQFhIKr9PRIDf/OY3S0KO9LvZZpuVHSkTsQFS8w7ZmeM96aSTJptssskM4QGi417Y/rcc/8g04cwFZMqvRWEWiQkT9txzz8mBBx44M5AQDyImgQvbQjQHnGQ/NSQeR4QCkmeHtDfddNP6iQU3BhFrkt7XV9xjKLxlmylfxqgajUZjgwWCQnCIDglecMEFtReZqnivvfYq0kJ63Ol3Q3juSZc33XRTqbodvUm6RqjsXO1vdhQmon/hC19Y4SQM9nNBfLELqV5//fVF7o7KjP+kQ7rtSSZBsx+HGwLnB5AvgpZeZ2v7axTpOmnOgGK5kDwsFZqUG41GYz0CwgrBubdq2TnXV1999Uwfi9hC3GOyjF/u7AX2a8Wdd9655nu5o86mGrbC2a8aP/ShD82olddEftzwj0BD4uLiL2lKvMCO+7xzb3BB8h1LwQYQwrv00ktrRfmXvvSlyWGHHVZ/ouKXO8S/nBDvUqLV141Go7GeAakhQldzy0gNie62226TXXbZpQyy3XHHHeu3i+aZ2Xtn/nbXXXed7L333iWlZnW2vc2kZu4QI/U1IGPPtiHNB26kh6qZel16vHMP/Id8kVqk4RjkKx1x4x13wqNqd8KXxV3eywtw1+rru4lljKrRaDQ2SCA4hIeg3JMkQf+K3BCZeyZSXQiTe/74ce99JFtSMrK8+OKLSxq1Vcm2KGEg1zVJpCFR4YxJNe88h5CTNs/jvMQfuI/Uffnll0+22GKLOunL4jM/tTAXzq30cruckIelREvKjUajsR4BiQEyCiEDsiA5urLjzpVByOBd/OQ+BOk86gc84AGTj33sY7VQLHPByE+4SHI+8J94x8/gKq7xc9yN8wLs4i52pHuDDT+rcC9t3LMPiW9IaFJuNBqNVYgxoSFfZEhyRspbbrllEXlIMhL2UmNMyiFqErr/L5PkkbJ0WNDG3ZoGCusrmpQbjUZjlQLBReJEcvYuI0D/RLbKGRA1NXHIcilhcJBrpHS47rrrSlo2Dz5WuS/3Iq/lQJNyo9ForELMJWlabW37kcVUFl5xg7QR4XKQMoSYQZyk9GuuuWby4Ac/uIx3pGiG3YaGJuVGo9FYhQjhkkYRHJWw07IcAGL/MIT81gUBSh9jq9SVV1452WabbWrAkDlxkrN0bWhoUm40Go1VCBIptTSyRX7+LnXLLbfUoi7nXjuPGtghwOXafhS1dcxXvvKVSpe/Xl100UX1i0eDCYQsbRsampQbjUZjFQIZU0uDqyM6HcHpd43+2uT8bFuhEON4lfdyAOGGnK+66qoi3yuuuGJyww03TA4++OBSuxtQGCxsaGhSbjQajVUIRIfYHKeJoKmvScP2A7/iFa+oxV7IETEiyPFc71JBmgwQIr27Sp/tWUcffXQZp49JUw4p2dDQh4c0Go3GKgRiYzKvjABtg8riL4TH+L2iVc7uuV1qSAtCRroGDcx4UMDeAGKjjTaqd9wuJ5Y6viblRqPRWIXQHyM+qmmEi5RdvUfM7hFi3CIj75YSCBfEJc48i9e9d0lD3CzHQGGMpSblVl83Go3GKkQIDclRGbta6QzuQ3qwnKpi8RogZJAgje69T7oYaV5uQl4OtKTcaDQaqxj65RDwbLLzTGperoVeUV2PIV2RmKUr9hZ55fjQ5cTs9C02mpQbjUaj0biLWGpSbvV1o9FoNBorBE3KjUaj0WisEDQpNxqNRqOxQrCsc8qNRqPRaDTmR0vKjUaj0WisEDQpNxqNRqOxQtCk3Gg0Go3GCkGTcqPRaDQaKwRNyo1Go9ForBA0KTcajUajsULQpNxoNBqNxgpBk3Kj0Wg0GisETcqNRqPRaKwQNCk3Go1Go7FC0KTcaDQajcYKQZNyo9FoNBorBE3KjUaj0WisCEwm/w9qBPsZk81aBQAAAABJRU5ErkJggg==)\n"
      ]
    },
    {
      "cell_type": "markdown",
      "metadata": {},
      "source": [
        "$$\\overline{x}_\\text{pond} = \\frac{\\sum_{i=1}^{n} w_i \\cdot x_i}{\\sum_{i=1}^{n} w_i}\n"
      ]
    },
    {
      "cell_type": "code",
      "execution_count": null,
      "metadata": {},
      "outputs": [],
      "source": [
        "def media_ponderada(valores, pesos):\n",
        "    if len(valores) != len(pesos):\n",
        "        raise ValueError(\"O número de valores e pesos deve ser o mesmo.\")\n",
        "    \n",
        "    soma_produtos = sum([valor * peso for valor, peso in zip(valores, pesos)])\n",
        "    soma_pesos = sum(pesos)\n",
        "    \n",
        "    if soma_pesos == 0:\n",
        "        raise ValueError(\"A soma dos pesos não pode ser zero.\")\n",
        "    \n",
        "    media_ponderada = soma_produtos / soma_pesos\n",
        "    return media_ponderada\n",
        "\n",
        "# Exemplo de uso\n",
        "valores = [10, 20, 30, 40]\n",
        "pesos = [0.1, 0.2, 0.3, 0.4]\n",
        "\n",
        "media_pond = media_ponderada(valores, pesos)\n",
        "print(f\"Média Ponderada: {media_pond}\")\n"
      ]
    },
    {
      "cell_type": "markdown",
      "metadata": {
        "id": "cz9LpsoTh3yx"
      },
      "source": [
        "## Mediana e Estimativas Robustas"
      ]
    },
    {
      "cell_type": "markdown",
      "metadata": {
        "id": "AoKhbdpuiJ5W"
      },
      "source": [
        "### Mediana\n",
        "\n",
        "A mediana é o número central em uma lista de dados classificada. Se houver um número par de valores de dados, o valor central é aquele que não está realmente no conjunto de dados, mas sim a média dos dois valores que dividem os valores classificados nas metades superior e inferior. Comparada à média, que usa todas as observações, a mediana depende apenas dos valores no centro dos dados classificados.\n",
        "\n",
        "A mediana é chamada de estimativa robusta de localização, pois não é influenciada por outliers (casos extremos)"
      ]
    },
    {
      "cell_type": "markdown",
      "metadata": {
        "id": "uVbDIX3D-vV9"
      },
      "source": [
        "### Outliers\n",
        "\n",
        "Um outlier é qualquer valor que seja muito distante dos outros valores em um conjunto de dados. A definição exata de um outlier é bastante subjetiva, apesar de algumas convenções serem utilizadas em diversos sumários e gráficos de dados.\n",
        "\n",
        "Costumam ser o resultado de erros de dados, como misturar dados de unidades diferentes (quilômetros versus metros) ou leituras ruins de um sensor."
      ]
    },
    {
      "cell_type": "markdown",
      "metadata": {
        "id": "V7BZ9w_SndjX"
      },
      "source": [
        "## Estimativas de Variabilidade\n",
        "\n",
        "Conhecida também como dispersão, mede se os valores de dados estão compactados ou espelhados. Variabilidade fica no entro da estatística: medindo, reduzindo, distinguindo variabilidade aleatória de real, identificando as diversas fontes de variabilidade real e tomando decisões em sua presença."
      ]
    },
    {
      "cell_type": "markdown",
      "metadata": {
        "id": "y5bFrr7an_IO"
      },
      "source": [
        "###  Algumas estimativas de variabilidade\n",
        "\n",
        "**Desvios** - A diferença entre os valores observados e a estimativa de localização.\n",
        "\n",
        "Sinônimos: erros, resíduos\n",
        "\n",
        "<br />\n",
        "\n",
        "\n",
        "**Variância** - A soma dos quadrados dos desvios da média, divididos por n – 1, em que n é o número de valores de dados.\n",
        "\n",
        "Sinônimo: erro médio quadrático\n",
        "\n",
        "<br />\n",
        "\n",
        "**Desvio-padrão** - A raiz quadrada da variância.\n",
        "\n",
        "Sinônimos: norma l2, norma Euclidiana\n",
        "\n",
        "<br />\n",
        "\n",
        "**Desvio absoluto médio** -  A média do valor absoluto dos desvios da média.\n",
        "\n",
        "Sinônimos: norma l1, norma Manhattan\n",
        "\n",
        "<br />\n",
        "\n",
        "**Desvio absoluto mediano da mediana**  A mediana do valor absoluto dos desvios da mediana.\n",
        "\n",
        "<br />\n",
        "\n",
        "**Amplitude** -  A diferença entre o maior e o menor valor no conjunto de dados\n",
        "\n",
        "<br />\n",
        "\n",
        "**Estatísticas ordinais** -  Métricas baseadas nos valores de dados classificados do menor ao maior.\n",
        "\n",
        "Sinônimo: classificações\n",
        "\n",
        "<br />\n",
        "\n",
        "\n",
        "**Percentil** - Valor tal que P por cento dos valores assumam esse valor ou menos, e (100 – P) por cento assumam esse valor ou mais.\n",
        "\n",
        "Sinônimo: quantil\n",
        "\n",
        "<br />\n",
        "\n",
        "**Amplitude interquartílica** -  A diferença entre o 75° percentil e o 25° percentil.\n",
        "Sinônimo; IQR"
      ]
    },
    {
      "cell_type": "markdown",
      "metadata": {
        "id": "az2omveEy7Bi"
      },
      "source": [
        "## Desvio-padrão e Estimativas Relacionadas"
      ]
    },
    {
      "cell_type": "markdown",
      "metadata": {
        "id": "alyKMKQ864Bv"
      },
      "source": [
        "As estimativas de variação mais utilizadas são baseadas nas diferenças, ou desvios, entre a estimativa de localização e o dado observado. Para umconjunto de dados {1, 4, 4}, a média é 3 e a mediana é 4. Os desvios da\n",
        "média são as diferenças: (1 – 3 = –2), (4 – 3 = 1), (4 – 3 = 1). Esses **desvios nos dizem o quanto os dados estão dispersos em torno do valor central.**\n",
        "\n",
        "<br />\n",
        "\n",
        "Um jeito de medir a variabilidade é estimar um valor típico para esses\n",
        "desvios. Ponderar os desvios sozinhos não nos diria muito — os desvios\n",
        "negativos compensam os positivos.\n",
        "\n",
        "<br />\n",
        "\n",
        "**A soma dos desvios da média é exatamente zero.**\n",
        "\n",
        "Em vez disso, uma abordagem simples é tirar a média dos valores absolutos dos desvios da média. No exemplo anterior, o valor absoluto dos desvios é {2 1 1} e sua média é (2 + 1 + 1) / 3 = 1,33. Isso é\n",
        "conhecido como **desvio absoluto médio** e é calculado com a fórmula:\n",
        "\n",
        "![image.png](data:image/png;base64,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)\n",
        "\n",
        "em que x é a média da amostra.\n",
        "\n",
        "\n",
        "As estimativas de variabilidade mais conhecidas são:\n",
        "a variância e o desvio-padrão, que são baseados em desvios quadráticos.\n"
      ]
    },
    {
      "cell_type": "markdown",
      "metadata": {
        "id": "izVvvMHZ-Sfb"
      },
      "source": [
        "![image.png](data:image/png;base64,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)"
      ]
    },
    {
      "cell_type": "markdown",
      "metadata": {
        "id": "o6pPZn6T98FB"
      },
      "source": [
        "### A variância\n",
        "\n",
        "É uma média dos desvios quadráticos."
      ]
    },
    {
      "cell_type": "markdown",
      "metadata": {
        "id": "1uqLGESz-C0K"
      },
      "source": [
        "### Desvio-padrão é a raiz quadrada da variância.\n",
        "\n",
        "O desvio-padrão é mais fácil de interpretar do que a variância, pois está na mesma escala que os dados originais.\n",
        "\n",
        "Ainda assim, com sua fórmula mais complicada e menos intuitiva, pode parecer estranho que o desvio-padrão seja preferido na estatística, em vez do desvio absoluto médio.\n",
        "\n",
        "Ele deve sua preferência à teoria estatística: matematicamente, trabalhar com valores quadráticos é mais conveniente do que com valores absolutos, especialmente em modelos estatísticos."
      ]
    },
    {
      "cell_type": "markdown",
      "metadata": {
        "id": "1WRGHLI9-Utn"
      },
      "source": [
        "## Graus de Liberdade e n ou n - 1?"
      ]
    },
    {
      "cell_type": "markdown",
      "metadata": {
        "id": "b9FspQuPY_i0"
      },
      "source": [
        "A variância e o desvio-padrão são especialmente sensíveis aos outliers, pois são baseados em desvios quadráticos"
      ]
    },
    {
      "cell_type": "markdown",
      "metadata": {
        "id": "8q2jGr7XZCdB"
      },
      "source": [
        "Uma **estimativa de variabilidade robusta** é o desvio absoluto mediano da mediana ou MAD:"
      ]
    },
    {
      "cell_type": "markdown",
      "metadata": {
        "id": "WsGpE3hIZITM"
      },
      "source": [
        "![image.png](data:image/png;base64,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)"
      ]
    },
    {
      "cell_type": "markdown",
      "metadata": {
        "id": "QD-xJe9lcxF5"
      },
      "source": [
        "## Estimativas Baseadas em Percentis"
      ]
    },
    {
      "cell_type": "markdown",
      "metadata": {
        "id": "3a-BAZoTdFc_"
      },
      "source": [
        "A estatística baseada em dados classificados (ordenados) é chamada de **estatística ordinal**."
      ]
    },
    {
      "cell_type": "markdown",
      "metadata": {
        "id": "Zfd-qAc2dMVh"
      },
      "source": [
        "**Amplitude**: a diferença entre o maior e o menor número.\n",
        "\n",
        "Valores máximos e mínimos, que são úteis na identificação dos outliers, mas a **amplitude é extremamente sensível aos outliers e não é muito útil como medida geral da dispersão dos dados.**"
      ]
    },
    {
      "cell_type": "markdown",
      "metadata": {
        "id": "8Y8cEEP8Vp58"
      },
      "source": [
        "O percentil é basicamente o mesmo que um quantil, com quantis indexados por frações (então o quantil .8 é igual ao 80° percentil)."
      ]
    },
    {
      "cell_type": "markdown",
      "metadata": {
        "id": "My5DYQyYVsNm"
      },
      "source": [
        "**Amplitude interquartil (ou IQR)**\n",
        "\n",
        "<br />\n",
        "\n",
        "Uma medida comum da variabilidade é a diferença entre o 25° percentil e o 75° percentil"
      ]
    },
    {
      "cell_type": "markdown",
      "metadata": {
        "id": "Nt6KMx9VVyDt"
      },
      "source": [
        "### *Pecentil*\n",
        "![image.png](data:image/png;base64,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)"
      ]
    },
    {
      "cell_type": "markdown",
      "metadata": {
        "id": "MzGiRoKniXab"
      },
      "source": [
        "## Explorando a Distribuição de Dados"
      ]
    },
    {
      "cell_type": "markdown",
      "metadata": {
        "id": "NytZVUuSibVD"
      },
      "source": [
        "**Boxplot** -  Um gráfico apresentado por Tukey como um modo rápido de visualizar a distribuição dos dados.\n",
        "\n",
        " Sinônimo: gráfico de caixa e capilar.\n",
        "\n",
        "<br />\n",
        "\n",
        "**Tabela de frequências** -  Um registro da contagem de valores numéricos de dados que caem em um conjunto de intervalos (colunas).\n",
        "\n",
        "<br />\n",
        "\n",
        "**Histograma** - Um gráfico da tabela de frequências com as colunas no eixo x e a contagem (ou proporção) no eixo y.\n",
        "\n",
        "<br />\n",
        "\n",
        "**Gráfico de densidade** - Uma versão simplificada do histograma, frequentemente usado em estimativas de densidade Kernel."
      ]
    },
    {
      "cell_type": "markdown",
      "metadata": {
        "id": "b8t0U2Gyi_BL"
      },
      "source": [
        "### Percentis e Boxplots,\n",
        "\n",
        "Os percentis também são valiosos para resumir toda a distribuição.\n",
        "\n",
        "Percentis são especialmente valiosos para resumir as caudas (a amplitude externa) da distribuição. A cultura popular cunhou o termo um por cento para se referir às pessoas no 99° percentil superior de riqueza."
      ]
    },
    {
      "cell_type": "markdown",
      "metadata": {
        "id": "vPQ_TGWLkNBr"
      },
      "source": [
        "Os boxplots, apresentados por Tukey (Tukey, 1977), são baseados em percentis e são um modo rápido de visualizar a distribuição dos dados."
      ]
    },
    {
      "cell_type": "markdown",
      "metadata": {
        "id": "qwF9PhrZkRHk"
      },
      "source": [
        "As partes superior e inferior da caixa são o 75° e o 25° percentis, respectivamente. A mediana é mostrada pela linha horizontal na caixa. As linhas pontilhadas, chamadas de whiskers, se estendem do topo e da base para indicar a variação da massa de dados."
      ]
    },
    {
      "cell_type": "markdown",
      "metadata": {
        "id": "znxWJfI5kpdN"
      },
      "source": [
        "Quaisquer dados fora da whiskers são representados como pontos únicos."
      ]
    },
    {
      "cell_type": "markdown",
      "metadata": {
        "id": "gkBQIRnCkq7U"
      },
      "source": [
        "### Tabela de Frequências e Histogramas"
      ]
    },
    {
      "cell_type": "markdown",
      "metadata": {
        "id": "_IRY832plz8H"
      },
      "source": [
        "Uma tabela de frequências de uma variável divide a amplitude variável em segmentos igualmente espaçados e nos diz quantos valores caem em cada segmento."
      ]
    },
    {
      "cell_type": "markdown",
      "metadata": {
        "id": "lpw0JlgfmGHA"
      },
      "source": [
        "Tanto as tabelas de frequências quanto os percentis resumem os dados por meio da criação de colunas"
      ]
    },
    {
      "cell_type": "markdown",
      "metadata": {
        "id": "Yk8lozxmpapk"
      },
      "source": [
        "Em teoria estatística, a localização e a variabilidade são chamadas de primeiro e segundo momentos daquela distribuição. O terceiro e o quarto momentos são chamados de assimetria e curtose."
      ]
    },
    {
      "cell_type": "markdown",
      "metadata": {
        "id": "n20V98__pvPk"
      },
      "source": [
        " A **assimetria** - indica se um dado está inclinado a valores maiores ou menores.\n",
        "\n",
        " <br />\n",
        "\n",
        "A **curtose** - indica a propensão dos dados a terem valores extremos.\n",
        "\n",
        " Geralmente, as métricas não são usadas para medir assimetria e curtose. indica a propensão dos dados a terem valores extremos. Geralmente, as métricas não são usadas para medir assimetria e curtose."
      ]
    },
    {
      "cell_type": "markdown",
      "metadata": {
        "id": "3g61DHs3ps7E"
      },
      "source": [
        "## Estimativas de Densidade"
      ]
    },
    {
      "cell_type": "markdown",
      "metadata": {
        "id": "EnBsywwep_GM"
      },
      "source": [
        "Relacionado ao histograma, existe um gráfico de densidade, que mostra a distribuição dos valores dos dados como uma linha contínua. Um gráfico de densidade pode ser visto como um histograma simplificado, apesar de ser tipicamente calculado diretamente a partir dos dados através de umaestimativa de densidade de Kernel."
      ]
    },
    {
      "cell_type": "markdown",
      "metadata": {
        "id": "Co2-FABmqXVQ"
      },
      "source": [
        "Um gráfico de densidade é a versão simplificada de um histograma. Precisa de uma função para estimar um gráfico com base nos dados (é possível fazer múltiplas estimativas, obviamente)"
      ]
    },
    {
      "cell_type": "markdown",
      "metadata": {
        "id": "HOjlkgdnqapn"
      },
      "source": [
        "## Explorando Dados Binários e Categóricos"
      ]
    },
    {
      "cell_type": "markdown",
      "metadata": {
        "id": "Xs3NpsHHqeQZ"
      },
      "source": [
        "**Moda** -  A categoria, ou valor, de maior ocorrência em um conjunto de dados.\n",
        "\n",
        "<br />\n",
        "\n",
        "**Valor esperado** - Quando as categorias podem ser associadas a um valor numérico, isso nos dá um valor médio com base na probabilidade de ocorrência de uma categoria.\n",
        "\n",
        "<br />\n",
        "\n",
        "**Gráficos de barras** -  A frequência ou proporção de cada categoria representada por barras.\n",
        "\n",
        "<br />\n",
        "\n",
        "**Gráficos de pizza** A frequência ou proporção de cada categoria representada por fatias de uma pizza."
      ]
    },
    {
      "cell_type": "markdown",
      "metadata": {
        "id": "i5F-I7BVvUSW"
      },
      "source": [
        "### Moda\n",
        "A moda é o valor — ou valores, em caso de empate — que aparece com maior frequência nos dados. Por exemplo, a moda dos causadores de atraso no aeroporto Dallas/Fort é “Entrada”. Como outro exemplo, em muitas regiões dos Estados Unidos, a moda para preferências religiosas seria o cristianismo. A moda é um resumo estatístico simples para dados categóricos, e não costuma ser usada para dados numéricos."
      ]
    },
    {
      "cell_type": "markdown",
      "metadata": {
        "id": "_iYYH_bQvXX_"
      },
      "source": [
        "###Valor Esperado\n",
        " Um tipo especial de dado categórico é aquele no qual as categorias representam, ou podem ser transformadas em, valores discretos na mesma escala.\n",
        "É uma forma de média ponderada em que os pesos são as probabilidades."
      ]
    },
    {
      "cell_type": "markdown",
      "metadata": {
        "id": "OYILIZNu2ew8"
      },
      "source": [
        "O valor esperado é calculado da seguinte forma:\n",
        "\n",
        "1. Multiplique cada resultado por sua probabilidade de ocorrer.\n",
        "2. Some esses valores."
      ]
    },
    {
      "cell_type": "markdown",
      "metadata": {
        "id": "ZWKq8itn2mz2"
      },
      "source": [
        "O valor esperado é, na verdade, uma forma de média ponderada: ele soma as ideias das expectativas futuras e os pesos de probabilidades, geralmente com base em julgamentos subjetivos"
      ]
    },
    {
      "cell_type": "markdown",
      "metadata": {
        "id": "movQJkkx2tcq"
      },
      "source": [
        "O valor esperado é a soma dos valores vezes sua probabilidade de ocorrência, e costuma ser usado para resumir os níveis de uma variável de fator"
      ]
    },
    {
      "cell_type": "markdown",
      "metadata": {
        "id": "xpAnUDyC4xbK"
      },
      "source": [
        "## Correlação"
      ]
    },
    {
      "cell_type": "markdown",
      "metadata": {
        "id": "HP0Ox5Kd6iGV"
      },
      "source": [
        "A análise exploratória de dados, em muitos projetos de modelagem (seja em ciências de dados ou em pesquisa), envolve o estudo da correlação entrepreditores, e entre preditores e uma variável-alvo. As variáveis X e Y (cada uma com dados medidos) são tidas como positivamente correlacionadas se valores altos de X acompanharem os valores altos de Y, e os valores baixos de X acompanharem os valores baixos de Y. Se os valores altos de X acompanharem os valores baixos de Y, e vice-versa, as variáveis são"
      ]
    },
    {
      "cell_type": "markdown",
      "metadata": {
        "id": "S3WL_LFS6ken"
      },
      "source": [
        "**Coeficiente de correlação** -  Uma métrica que mede o nível em que as variáveis numéricas estão associadas umas às outras (varia de –1 a +1).\n",
        "\n",
        "<br />\n",
        "\n",
        "**Matriz de correlação** - Uma tabela na qual as variáveis são mostradas tanto nas linhas quanto nas colunas, e os valores das células são a correlação entre as variáveis.\n",
        "\n",
        "<br />\n",
        "\n",
        "**Diagrama de Dispersão** - Um gráfico no qual o eixo x é o valor de uma variável, e o eixo y é o valor de outra."
      ]
    },
    {
      "cell_type": "markdown",
      "metadata": {
        "id": "6TMR3tIU9a36"
      },
      "source": [
        "### Coeficiente de Correlação"
      ]
    },
    {
      "cell_type": "markdown",
      "metadata": {
        "id": "FeM-avyQ9Vbx"
      },
      "source": [
        "o coeficiente de correlação, que oferece uma estimativa da correlação entre duas variáveis que sempre ficam na mesma escala."
      ]
    },
    {
      "cell_type": "markdown",
      "metadata": {
        "id": "Q2ddkqTS9X-E"
      },
      "source": [
        "Para calcular o coeficiente de correlação de Pearson, multiplicamos os desvios da média da variável 1 pelos da variável 2, e dividimos pelo produto do desvio-padrão:\n",
        "\n",
        "![image.png](data:image/png;base64,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)"
      ]
    },
    {
      "cell_type": "markdown",
      "metadata": {
        "id": "-wS40SeD9qFW"
      },
      "source": [
        "O coeficiente de correlação sempre fica entre +1 (correlação positiva perfeita) e –1 (correlação negativa perfeita). O 0 indica ausência de correlação."
      ]
    },
    {
      "cell_type": "markdown",
      "metadata": {
        "id": "TWQyjml5Wi-w"
      },
      "source": [
        "**matriz de correlação**, mostra a correlação entre duas variáveis"
      ]
    },
    {
      "cell_type": "markdown",
      "metadata": {
        "id": "g5aXR57HaApp"
      },
      "source": [
        "Outras Estimativas de Correlação\n",
        "\n",
        "Estatísticos propuseram há muito tempo outros tipos de coeficientes de correlação, tais como rho de Spearman ou tau de Kendall. Estes são coeficientes de correlação baseados na classificação dos dados. Como trabalham com classificações, em vez de valores, essas estimativas são robustas contra outliers e podem manipular certos tipos de não linearidades. No entanto, os cientistas de dados geralmente podem continuar usando o coeficiente de correlação de Pearson, e suas alternativas robustas, para análises exploratórias. O apelo de estimativas baseadas em classificação é mais voltado a conjuntos de dados menores e testes de hipóteses específicas."
      ]
    },
    {
      "cell_type": "markdown",
      "metadata": {
        "id": "ludnvNEHaDOH"
      },
      "source": [
        "## Gráficos de Dispersão"
      ]
    },
    {
      "cell_type": "markdown",
      "metadata": {
        "id": "i3f73U2fagYD"
      },
      "source": [
        "O modo-padrão de visualizar o relacionamento entre duas variáveis de dados mensuradas é com um gráfico de dispersão. O eixo x representa uma variável, o eixo y, outra, e cada ponto no gráfico é um registro."
      ]
    },
    {
      "cell_type": "markdown",
      "metadata": {
        "id": "IOS9yxnIbF7g"
      },
      "source": [
        "## Explorando Duas ou Mais Variáveis"
      ]
    },
    {
      "cell_type": "markdown",
      "metadata": {
        "id": "pbCN7eO_bPoG"
      },
      "source": [
        "**Tabelas de contingência** - Um registro das contagens entre duas ou mais variáveis categóricas.\n",
        "\n",
        "<br />\n",
        "\n",
        "**Compartimentação hexagonal** - O gráfico de duas variáveis métricas com os registros compartimentados em hexágonos.\n",
        "\n",
        "<br />\n",
        "\n",
        "**Gráficos de contorno** - Um gráfico mostrando a densidade de duas variáveis numéricas como um mapa topográfico.\n",
        "\n",
        "<br />\n",
        "\n",
        "**Gráficos violino** - Semelhante a um boxplot, mas mostrando a estimativa de densidade."
      ]
    },
    {
      "cell_type": "markdown",
      "metadata": {
        "id": "rKVd7OxQfHdA"
      },
      "source": [
        "Como a análise univariada, a análise bivariada envolve tanto o cálculo de estatísticas resumidas quanto a produção de representações visuais. O tipo adequado de análise bivariada ou multivariada depende da natureza dos dados: numéricos versus categóricos."
      ]
    },
    {
      "cell_type": "markdown",
      "metadata": {
        "id": "9UzTrxg7fLvo"
      },
      "source": [
        "Compartimentação Hexagonal e Contornos (Representando Numéricos versus Dados Numéricos)"
      ]
    },
    {
      "cell_type": "markdown",
      "metadata": {
        "id": "TMhzluaif5cl"
      },
      "source": [
        "Os contornos são, basicamente, um mapa topográfico de duas variáveis. Cada faixa do contorno representa uma densidade de pontos específica, aumentando conforme um se aproxima de um “pico”."
      ]
    },
    {
      "cell_type": "markdown",
      "metadata": {
        "id": "j3WPuynJf_Zu"
      },
      "source": [
        "Outros tipos de gráficos são usados para mostrar o relacionamento entre duas variáveis numéricas, incluindo mapas de calor. Mapas de calor, compartimentação hexagonal e gráficos de contorno oferecem uma representação visual de uma densidade bidimensional. Assim, são naturalmente análogos a histogramas e gráficos de densidade"
      ]
    },
    {
      "cell_type": "markdown",
      "metadata": {
        "id": "jAjoMjpUgBFv"
      },
      "source": [
        "## Duas Variáveis Categóricas"
      ]
    },
    {
      "cell_type": "markdown",
      "metadata": {
        "id": "pkhxNKkbgSxh"
      },
      "source": [
        "Um jeito útil de resumir duas variáveis categóricas é a tabela de contingências — uma tabela de contingências por categoria"
      ]
    },
    {
      "cell_type": "markdown",
      "metadata": {
        "id": "bMzCcSOdge0x"
      },
      "source": [
        "As tabelas de contingência conseguem olhar apenas para as contagens, ou incluir também porcentagens de coluna e total."
      ]
    },
    {
      "cell_type": "markdown",
      "metadata": {
        "id": "4Da1w_0KghiD"
      },
      "source": [
        "##Dados Categóricos e Numéricos"
      ]
    },
    {
      "cell_type": "markdown",
      "metadata": {
        "id": "_-NrKjBvgkmT"
      },
      "source": [
        "Boxplots (veja “Percentis e Boxplots”, antes, neste capítulo) são um jeito simples de comparar visualmente as distribuições de uma variável numérica agrupada conforme uma variável categórica."
      ]
    },
    {
      "cell_type": "markdown",
      "metadata": {
        "id": "AdHkkypHgs1b"
      },
      "source": [
        "Um gráfico violino, apresentado por Hintze-Nelson (1998), é uma melhoria no boxplot e registra a estimativa de densidade com a densidade no eixo y. A densidade é espelhada e invertida, então o formato resultante é preenchido, criando uma imagem que lembra um violino. A vantagem de um gráfico violino é que ele pode mostrar nuances na distribuição que não seriam perceptíveis em um boxplot. Por outro lado, o boxplot mostra mais claramente os outliers dos dados."
      ]
    },
    {
      "cell_type": "markdown",
      "metadata": {
        "id": "YOYI7SnNgxDI"
      },
      "source": [
        "## Visualizando Variáveis Múltiplas"
      ]
    },
    {
      "cell_type": "markdown",
      "metadata": {
        "id": "OZbLcIBZiPnS"
      },
      "source": [
        "Os tipos de gráficos usados para comparar duas variáveis — gráficos de dispersão, compartimentação hexagonal e boxplots — são facilmente extensíveis para mais variáveis através da noção de condicionamento."
      ]
    },
    {
      "cell_type": "code",
      "execution_count": null,
      "metadata": {
        "id": "T3H5OmeRagos"
      },
      "outputs": [],
      "source": []
    },
    {
      "cell_type": "markdown",
      "metadata": {
        "id": "6W7Po_wvii11"
      },
      "source": [
        "# Capítulo 2 - Distribuições de Dados e Amostras"
      ]
    },
    {
      "cell_type": "markdown",
      "metadata": {
        "id": "NaxhQ-EekZT4"
      },
      "source": [
        "## Amostragem Aleatória e Viés de Amostra"
      ]
    },
    {
      "cell_type": "markdown",
      "metadata": {
        "id": "R2mokD0QnvW3"
      },
      "source": [
        "**Amostra** -  Um subconjunto de um conjunto maior de dados.\n",
        "\n",
        "<br />\n",
        "\n",
        "**População** - O conjunto maior de dados, ou a ideia de um conjunto de dados.\n",
        "\n",
        "<br />\n",
        "\n",
        "**N (n)** - O tamanho da população (amostra).\n",
        "\n",
        "<br />\n",
        "\n",
        "**Amostragem aleatória** - Elementos aleatoriamente obtidos para uma amostra.\n",
        "\n",
        "<br />\n",
        "\n",
        "**Amostragem estratificada** -  Divide a população em estratos e faz amostragens aleatórias em cada estrato.\n",
        "\n",
        "<br />\n",
        "\n",
        "**Amostra aleatória simples** - A amostra que resulta de uma amostragem aleatória sem estratificar a população.\n",
        "\n",
        "<br />\n",
        "\n",
        "**Viés de amostragem** -  Uma amostra que não representa a população."
      ]
    },
    {
      "cell_type": "markdown",
      "metadata": {
        "id": "lWLuNXa9nmLy"
      },
      "source": [
        "Uma **amostra** é um subconjunto de dados de um conjunto maior de dados. Os estatísticos chamam esse conjunto maior de dados de população. Uma **população**, em estatística é um conjunto de dados grande, definido, mas algumas vezes teórico ou imaginário."
      ]
    },
    {
      "cell_type": "markdown",
      "metadata": {
        "id": "s0XkcAufo8LS"
      },
      "source": [
        "### Amostragem Aleatória"
      ]
    },
    {
      "cell_type": "markdown",
      "metadata": {
        "id": "VzuJSkW_pZVp"
      },
      "source": [
        "É um processo no qual cada membro disponível da população sendo amostrada tem chances iguais de ser escolhido para a amostra em cada extração. A amostra resultante é chamada de amostra aleatória simples"
      ]
    },
    {
      "cell_type": "markdown",
      "metadata": {
        "id": "qV_muBTYpeBH"
      },
      "source": [
        "A amostragem pode ser feita com reposição, na qual as observações são devolvidas à população depois de cada extração, para que tenham a possibilidade de ser escolhidas novamente. Ou pode ser feita sem reposição, na qual, uma vez que as observações sejam selecionadas, ficam indisponíveis para futuras extrações."
      ]
    },
    {
      "cell_type": "markdown",
      "metadata": {
        "id": "VMpSdTt4p_Ur"
      },
      "source": [
        "## Viés de Autosseleção de Amostragem"
      ]
    },
    {
      "cell_type": "markdown",
      "metadata": {
        "id": "_EbsSJnOp8bl"
      },
      "source": [
        "O **viés da amostra** ocorre quando a diferença é significativa e pode se propagar em outras amostras extraídas da mesma forma que a primeira."
      ]
    },
    {
      "cell_type": "markdown",
      "metadata": {
        "id": "IA-5evRXqfyX"
      },
      "source": [
        "## Viés\n"
      ]
    },
    {
      "cell_type": "markdown",
      "metadata": {
        "id": "wRTcAJU3qiut"
      },
      "source": [
        "O viés estatístico se refere a erros de medição ou amostragem que são sistemáticos e produzidos pelo processo de medição ou amostragem."
      ]
    },
    {
      "cell_type": "markdown",
      "metadata": {
        "id": "uwtgExAbrKQj"
      },
      "source": [
        "Deve-sefazer uma distinção importante entre erros devido ao acaso e erros devido a viés."
      ]
    },
    {
      "cell_type": "markdown",
      "metadata": {
        "id": "DAaEjbllrUkH"
      },
      "source": [
        "O viés aparece de diferentes formas e pode ser observável ou invisível. Quando um resultado sugere um viés (por exemplo, por referência a um padrão ou a valores reais), costuma ser um indicador de que um modelo estatístico ou de aprendizado de máquina contém erros de especificação, ou que alguma variável importante foi omitida"
      ]
    },
    {
      "cell_type": "markdown",
      "metadata": {
        "id": "Mj0dIc5mrxkt"
      },
      "source": [
        "## Seleção Aleatória"
      ]
    },
    {
      "cell_type": "markdown",
      "metadata": {
        "id": "LB3R6fA0ssVG"
      },
      "source": [
        "A **amostragem aleatória** nem sempre é fácil. A definição adequada de uma população acessível é a chave. Suponha que queiramos gerar um perfil representativo de clientes e precisamos conduzir um estudo-piloto de clientes. A pesquisa precisa ser representativa, mas é muito trabalhosa. Primeiro, precisamos definir quem é o cliente. Podemos selecionar todos os registros de clientes nos quais a quantia de compra for > 0. Incluiremos todos os clientes antigos? Incluiremos as devoluções? Testes de compra internos? Revendedores? Tanto agentes de cobrança quanto clientes?"
      ]
    },
    {
      "cell_type": "markdown",
      "metadata": {
        "id": "jjGedokVsxdO"
      },
      "source": [
        "Em **amostragem estratificada**#, a população é dividida em estratos, e são extraídas amostras aleatórias de cada estrato. Pesquisadores políticos podem tentar conhecer as preferências eleitorais de brancos, negros e hispânicos. Uma simples amostra aleatória da população resultaria em muitos poucosnegros e hispânicos, então esses estratos podem ser enfatizados em amostragens estratificadas para resultar amostras de tamanhos equivalentes."
      ]
    },
    {
      "cell_type": "markdown",
      "metadata": {
        "id": "DTFLI5c_uM_B"
      },
      "source": [
        "## Média Amostral versus Média Populacional"
      ]
    },
    {
      "cell_type": "markdown",
      "metadata": {
        "id": "G6If2ARmvh_8"
      },
      "source": [
        "O símbolo x (chamado x-barra) é usado para representar a média de uma amostra de uma população, enquanto μ é usado para representar a média de uma população."
      ]
    },
    {
      "cell_type": "markdown",
      "metadata": {
        "id": "X2Lo72Icvm_w"
      },
      "source": [
        "## Viés de Seleção"
      ]
    },
    {
      "cell_type": "markdown",
      "metadata": {
        "id": "OZsgC1AgxODO"
      },
      "source": [
        "O viés de seleção se refere à prática de escolher os dados de forma seletiva — conscientemente ou inconscientemente —, de modo que isso leva a uma conclusão que é enganosa ou efêmera."
      ]
    },
    {
      "cell_type": "markdown",
      "metadata": {
        "id": "igxLZ_H-xP9n"
      },
      "source": [
        "**Viés** -  Erro sistemático.\n",
        "\n",
        "<br />\n",
        "\n",
        "**Bisbilhotagem de dados** -  Pesquisa extensa nos dados em busca de algo interessante.\n",
        "\n",
        "<br />\n",
        "\n",
        "**Efeito de busca vasta** - Viés ou não representabilidade resultante da modelagem repetitiva de dados, ou modelagem de dados com grande número de variáveis preditoras."
      ]
    },
    {
      "cell_type": "markdown",
      "metadata": {
        "id": "o6AZMTo_yIv8"
      },
      "source": [
        "chama de efeito de busca vasta. Se você aplica modelos e faz perguntas diferentes repetitivamente com um grande conjunto de dados, está sujeito a encontrar algo interessante. O resultado que você encontrou é realmente interessante, ou é talvez um outlier?"
      ]
    },
    {
      "cell_type": "markdown",
      "metadata": {
        "id": "5xjf_szLyPEs"
      },
      "source": [
        "## Regressão à Média"
      ]
    },
    {
      "cell_type": "markdown",
      "metadata": {
        "id": "KsdhgfHbySi1"
      },
      "source": [
        "Regressão à média se refere a um fenômeno envolvendo sucessivas medições em dada variável: observações extremas tendem a ser seguidas pelas mais centrais."
      ]
    },
    {
      "cell_type": "markdown",
      "metadata": {
        "id": "365FQ2gLyZHi"
      },
      "source": [
        "A regressão à média é uma consequência de uma forma específica de viés de seleção. Quando escolhemos o novato com o melhor desempenho, é provável que habilidade e sorte estejam contribuindo. Em sua próxima temporada, a habilidade ainda estará presente, mas, em muitos casos, a sorte não, então seu desempenho diminuirá — vai regredir."
      ]
    },
    {
      "cell_type": "markdown",
      "metadata": {
        "id": "Ko7IqhLJzWcN"
      },
      "source": [
        "## Distribuição de Amostragem de uma Estatística"
      ]
    },
    {
      "cell_type": "markdown",
      "metadata": {
        "id": "ClyridFWzZ9E"
      },
      "source": [
        "O termo distribuição de amostragem de uma estatística se refere à distribuição de alguma amostra estatística dentre muitas amostras extraídas de uma mesma população."
      ]
    },
    {
      "cell_type": "markdown",
      "metadata": {
        "id": "9LZ7IXFWzbIp"
      },
      "source": [
        "**Estatística amostral** - Uma métrica calculada para uma amostra de dados extraída de uma população maior.\n",
        "\n",
        "<b />\n",
        "\n",
        "**Distribuição de dados** - A distribuição de frequências de valores específicos em um conjunto de dados.\n",
        "\n",
        "<br />\n",
        "\n",
        "**Distribuição amostral** - A distribuição de frequências de uma amostra estatística sobre muitas amostras ou reamostras.\n",
        "\n",
        "<br />\n",
        "\n",
        "**Teorema de limite central** -\n",
        "A tendência da distribuição amostral de assumir uma forma normal conforme o tamanho da amostra cresce.\n",
        "\n",
        "<br />\n",
        "\n",
        "**Erro-padrão** -  A variabilidade (desvio-padrão) de uma estatística amostral sobre muitas amostras (não deve ser confundida com desvio-padrão, o qual, por si mesmo, se refere à variabilidade de valores de dados individuais)."
      ]
    },
    {
      "cell_type": "markdown",
      "metadata": {
        "id": "RDL_crgx2gDl"
      },
      "source": [
        "## Teorema de Limite Central"
      ]
    },
    {
      "cell_type": "markdown",
      "metadata": {
        "id": "PGq6OeHg2mFL"
      },
      "source": [
        "A teorema de limite central informa que as médias extraídas de múltiplas amostras serão semelhantes à conhecida curva normal campanular, mesmo se a população fonte não for normalmente distribuída, já que o tamanho da amostra é grande o bastante e o desvio dos dados da normalidade não é muito grande. O teorema de limite central permite fórmulas de aproximação normal como a distribuição t, a ser usada no cálculo de distribuições de amostra para inferência — ou seja, intervalos de confiança e testes de hipótese."
      ]
    },
    {
      "cell_type": "markdown",
      "metadata": {
        "id": "vEVqbKQE2uVW"
      },
      "source": [
        "O teorema de limite central recebe muita atenção em textos de estatística tradicional, pois fundamenta os mecanismos de testes de hipótese e intervalos de confiança, os quais, por si só, consomem metade do espaço de tais textos"
      ]
    },
    {
      "cell_type": "markdown",
      "metadata": {
        "id": "AqrV4MYw32fC"
      },
      "source": [
        "## Erro-padrão"
      ]
    },
    {
      "cell_type": "markdown",
      "metadata": {
        "id": "NvPqc8QQ4jCr"
      },
      "source": [
        "Resume a variabilidade na distribuição de amostragem para uma estatística. Ele pode ser estimado utilizando uma estatística baseada no desvio-padrão s dos valores da amostra e no tamanho de amostra n:"
      ]
    },
    {
      "cell_type": "markdown",
      "metadata": {
        "id": "qwE_LodP4r2j"
      },
      "source": [
        "![image.png](data:image/png;base64,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)"
      ]
    },
    {
      "cell_type": "markdown",
      "metadata": {
        "id": "1MvkwWBw4up6"
      },
      "source": [
        "Conforme o tamanho da amostra cresce, o erro-padrão diminui"
      ]
    },
    {
      "cell_type": "markdown",
      "metadata": {
        "id": "qUqRCkQs4yLm"
      },
      "source": [
        "O relacionamento entre o erro-padrão e o tamanho da amostra às vezes é chamado de regra da raiz quadrada de n: a fim de reduzir o erro-padrão em um fator de 2, o tamanho da amostra deve ser elevado em um fator de 4."
      ]
    },
    {
      "cell_type": "markdown",
      "metadata": {
        "id": "rvqC_fYq6WEt"
      },
      "source": [
        "Considere a abordagem a seguir para medir o erro-padrão:\n",
        "\n",
        "1. Colete um número de amostras novas de uma população.\n",
        "\n",
        "2. Para cada nova amostra, calcule a estatística (por exemplo, a média).\n",
        "3. Calcule o desvio-padrão da estatística calculada no Passo 2 e use-o como sua estimativa de erro-padrão."
      ]
    },
    {
      "cell_type": "markdown",
      "metadata": {
        "id": "rljUOo_66iUG"
      },
      "source": [
        "essa abordagem de coletar novas amostras para estimar o erropadrão não costuma ser viável (além de ser um desperdício estatístico). Felizmente, acontece que não é necessário extrair novas amostras. Em vez disso, você pode usar reamostras bootstrap"
      ]
    },
    {
      "cell_type": "markdown",
      "metadata": {
        "id": "enMAPS8F6kIP"
      },
      "source": [
        "o **bootstrap** se tornou o modo padrão de estimar o erropadrão. Pode ser usado para praticamente qualquer estatística e não se baseia no teorema de limite central ou outras suposições distribucionais."
      ]
    },
    {
      "cell_type": "markdown",
      "metadata": {
        "id": "Zqv4OcYx6nN9"
      },
      "source": [
        "Desvio-padrão versus Erro-padrão Não confunda desvio-padrão (que mede a variabilidade de pontos de dados individuais) com erro-padrão (que mede a variabilidade da métrica de uma amostra)."
      ]
    },
    {
      "cell_type": "markdown",
      "metadata": {
        "id": "HOrBwvPS8PQm"
      },
      "source": [
        "## O Bootstrap"
      ]
    },
    {
      "cell_type": "markdown",
      "metadata": {
        "id": "I-KgW4va8zyl"
      },
      "source": [
        "É o processo de extrair amostras adicionais, com reposição, da própria amostra, e recalcular a estatística ou modelo para cada reamostra"
      ]
    },
    {
      "cell_type": "markdown",
      "metadata": {
        "id": "6sby8gta86s2"
      },
      "source": [
        "**Amostra bootstrap** - Uma amostra extraída com reposição de um conjunto de dados observado.\n",
        "\n",
        "<b />\n",
        "\n",
        "**Reamostragem** -  O processo de extrair repetidas amostras dos dados observados. Inclui ambos os procedimentos, de bootstrap e permutação (embaralhamento)."
      ]
    },
    {
      "cell_type": "markdown",
      "metadata": {
        "id": "eaZcP0y59ZFu"
      },
      "source": [
        "**O algoritmo para uma reamostragem bootstrap da média é o seguinte, para uma amostra de tamanho n:**"
      ]
    },
    {
      "cell_type": "markdown",
      "metadata": {
        "id": "3Vi9gR5y9cUS"
      },
      "source": [
        "1. Extraia um valor de amostra, registre, reponha.\n",
        "2. Repita n vezes.\n",
        "3. Registre a média dos n valores reamostrados.\n",
        "4. Repita os Passos de 1 a 3 R vezes.\n",
        "5. Use os resultados R para:\n",
        "\n",
        "    a. Calcular seu desvio-padrão (isso estima o erro-padrão da média da amostra.\n",
        "    b. Produza um histograma ou boxplot.\n",
        "    c. Encontre um intervalo de confiança."
      ]
    },
    {
      "cell_type": "markdown",
      "metadata": {
        "id": "addxLyq-94yR"
      },
      "source": [
        "R, o número de iterações do bootstrap, é ajustado de forma arbitrária. Quanto mais iterações são feitas, mais precisa é a estimativa do erro-padrão ou o intervalo de confiança. O resultado desse procedimento é um conjunto bootstrap de estatísticas amostrais ou parâmetros de modelo estimados, os quais podem ser então examinados a fim de encontrar o quão variáveis são."
      ]
    },
    {
      "cell_type": "markdown",
      "metadata": {
        "id": "mpcUDGZT-Dqh"
      },
      "source": [
        "O bootstrap pode ser usado com dados multivariados, em que as linhas são amostradas como unidades"
      ]
    },
    {
      "cell_type": "markdown",
      "metadata": {
        "id": "SUfAJ3Sg-IYt"
      },
      "source": [
        "Um modelo pode então ser aplicado em dados bootstrapped, por exemplo, para estimar a estabilidade(variabilidade) de parâmetros de modelo ou para aumentar o poder preditivo."
      ]
    },
    {
      "cell_type": "markdown",
      "metadata": {
        "id": "V3fjXJJo-Nzl"
      },
      "source": [
        "Com árvores de classificação e regressão (também chamadas de árvores de decisão), executar múltiplas árvores nas amostras bootstrap e então tirar a média de suas previsões (ou, com classificação, fazendo uma votação da maioria) geralmente traz resultados melhores do que usar uma única árvore. Esse processo é chamado de bagging (abreviação de “bootstrap aggregating”"
      ]
    },
    {
      "cell_type": "markdown",
      "metadata": {
        "id": "_rvuMzZe-aM4"
      },
      "source": [
        "*O bootstrap não compensa pequenos tamanhos de amostra. Ele não cria novos dados nem preenche buracos em um conjunto de dados existente. Ele meramente nos informa sobre como diversas amostras adicionais se comportariam ao serem extraídas de uma população como amostra original.*"
      ]
    },
    {
      "cell_type": "markdown",
      "metadata": {
        "id": "QKhLw_zz_I79"
      },
      "source": [
        "## Reamostragem versus Bootstrapping"
      ]
    },
    {
      "cell_type": "markdown",
      "metadata": {
        "id": "kUeZCgM8C8_T"
      },
      "source": [
        "o termo reamostragem também inclui procedimentos de permutação, em que múltiplas amostras são combinadas e a amostragem pode ser feita sem reposição. De qualquer forma, o termo bootstrap sempre significa amostragem com reposição de um conjunto de dados observado."
      ]
    },
    {
      "cell_type": "markdown",
      "metadata": {
        "id": "mnKQu3BdDQxP"
      },
      "source": [
        "O bootstrap (amostragem com reposição de um conjunto de dados) é uma ferramenta poderosa para avaliar a variabilidade de uma estatística amostral. O bootstrap pode ser aplicado de forma similar em uma grande variedade de circunstâncias, sem maiores estudos de aproximações matemáticas para distribuições de amostragem. Nos permite também estimar distribuições de amostragem para estatísticas em que nenhuma aproximação matemática foi desenvolvida. Quando aplicado a modelos preditivos, agregando múltiplas previsões de amostra, o bootstrap (bagging) supera o uso de um único modelo."
      ]
    },
    {
      "cell_type": "markdown",
      "metadata": {
        "id": "OFsQwDDlDTw4"
      },
      "source": [
        "## Intervalos de Confiança"
      ]
    },
    {
      "cell_type": "markdown",
      "metadata": {
        "id": "vML5VipWDWsq"
      },
      "source": [
        "Tabelas de frequência, histogramas, boxplots e erros-padrão são todos meios de entender o potencial erro de uma estimativa de amostra. Intervalos de confiança são outro"
      ]
    },
    {
      "cell_type": "markdown",
      "metadata": {
        "id": "c9KnstBJDYRy"
      },
      "source": [
        "**Nível de confiança** - A porcentagem de intervalos de confiança, construída da mesma forma e de uma mesma população, em que se espera que haja a estatística de interesse.\n",
        "\n",
        "<br />\n",
        "\n",
        "**Extremidades de intervalo** - O topo e a base do intervalo de confiança."
      ]
    },
    {
      "cell_type": "markdown",
      "metadata": {
        "id": "F3uuWwkbDmZf"
      },
      "source": [
        "Os intervalos de confiança sempre vêm com um nível de cobertura, expressado como uma (alta) porcentagem, digamos 90% ou 95%. Um jeito de pensar sobre um intervalo de confiança de 90% é o seguinte: é o intervalo que abrange os 90% centrais da distribuição de amostragem de uma estatística amostral"
      ]
    },
    {
      "cell_type": "markdown",
      "metadata": {
        "id": "f595TULVDqEx"
      },
      "source": [
        "Mais comumente, um intervalo de confiança de x% em torno de uma estimativa amostral deveria, em média, conter estimativas amostrais semelhantes em x% do tempo"
      ]
    },
    {
      "cell_type": "markdown",
      "metadata": {
        "id": "A6EIhU_hDso3"
      },
      "source": [
        "Dada uma amostra de tamanho n e uma estatística amostral de interesse, o algoritmo para um intervalo de confiança do bootstrap é o seguinte:\n",
        "\n",
        "\n",
        "1. Extrair uma amostra aleatória de tamanho n com reposição de dados (uma reamostragem).\n",
        "\n",
        "2. Registrar as estatísticas de interesse para a reamostra.\n",
        "\n",
        "3. Repetir os Passos 1 e 2 muitas (R) vezes.\n",
        " 4. Para um intervalo de confiança de x%, apare [(1 – [x/100]) / 2]% dos resultados da reamostra R de cada ponta da distribuição.\n",
        "\n",
        "5. Os pontos de apara são as extremidades de um intervalo de confiança de bootstrap de x%."
      ]
    },
    {
      "cell_type": "markdown",
      "metadata": {
        "id": "qcZvGBP0FZft"
      },
      "source": [
        "Intervalos de confiança são um jeito típico de apresentar estimativas como uma amplitude intervalar.\n",
        "Quanto mais dados você tem, menos variável uma estimativa amostral será.\n",
        "Quanto menor o nível de confiança que se pode tolerar, mais estreito o intervalo de confiança será. O bootstrap é um jeito eficaz de construir intervalos de confiança."
      ]
    },
    {
      "cell_type": "markdown",
      "metadata": {
        "id": "IhYgQS20FwMC"
      },
      "source": [
        "## Distribuição Normal"
      ]
    },
    {
      "cell_type": "markdown",
      "metadata": {
        "id": "979W4X-_Fz1B"
      },
      "source": [
        "A distribuição normal campanular é simbólica na estatística tradicional.1 O fato de as distribuições de estatísticas amostrais serem geralmente moldadas de forma normal as tornou uma ferramenta poderosa no desenvolvimento de fórmulas matemáticas que aproximam essas distribuições."
      ]
    },
    {
      "cell_type": "markdown",
      "metadata": {
        "id": "Sct_x3UHGbJo"
      },
      "source": [
        "**Erro** - A diferença entre um ponto de dado e um valor médio ou previsto.\n",
        "\n",
        "<br />\n",
        "\n",
        "**Padronizar** - Subtrair a média e dividir pelo desvio-padrão.\n",
        "\n",
        "<br />\n",
        "\n",
        "**Escore-z** - O resultado da padronização de um ponto de dado individual.\n",
        "\n",
        "<br />\n",
        "\n",
        "**Normal padrão** - Uma distribuição normal com média = 0 e desvio-padrão = 1.\n",
        "\n",
        "<br />\n",
        "\n",
        "**Gráfico QQ** Um gráfico para visualizar quão próxima uma distribuição amostral está de uma distribuição normal."
      ]
    },
    {
      "cell_type": "markdown",
      "metadata": {
        "id": "hUrU_VePVjWO"
      },
      "source": [
        "Em uma distribuição normal (Figura 2-10), 68% dos dados ficam dentro de um desvio-padrão da média, e 95% ficam dentro de dois desvios-padrão."
      ]
    },
    {
      "cell_type": "markdown",
      "metadata": {
        "id": "Q2G0WQRZWSVb"
      },
      "source": [
        "![image.png](data:image/png;base64,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)"
      ]
    },
    {
      "cell_type": "markdown",
      "metadata": {
        "id": "UNE90pstWWl2"
      },
      "source": [
        "A distribuição normal também é chamada de distribuição gaussiana, de Carl Friedrich Gauss, um grande matemático alemão de meados do século XVIII ao início do século\n",
        "XIX. Outro nome usado anteriormente para a distribuição normal era distribuição de “erro”. Falando estatisticamente, um erro é a diferença entre um valor real e uma\n",
        "estimativa estatística como a média amostral."
      ]
    },
    {
      "cell_type": "markdown",
      "metadata": {
        "id": "J1eqWSZYWrDm"
      },
      "source": [
        "## Normal Padrão e Gráficos QQ"
      ]
    },
    {
      "cell_type": "markdown",
      "metadata": {
        "id": "9Orqn_kbXnPN"
      },
      "source": [
        "Uma distribuição normal padrão é aquela na qual as unidades no eixo x são expressas em termos de desvios-padrão da média. Para comparar os dados a uma distribuição padrão normal deve-se subtrair a média e então dividir pelodesvio-padrão. Isso é chamado também de normalização ou padronização"
      ]
    },
    {
      "cell_type": "markdown",
      "metadata": {
        "id": "iKZ0wLkKZp0i"
      },
      "source": [
        "Observe que a “padronização”, nesse sentido, não está relacionada à padronização de registros de bancos de dados (conversão para um formato comum). O valor transformado é chamado de escore z, e a distribuição normal às vezes é chamada de distribuição z."
      ]
    },
    {
      "cell_type": "markdown",
      "metadata": {
        "id": "NOfSR3qfZx9D"
      },
      "source": [
        "Um gráfico QQ é usado para determinar visualmente quão próxima uma amostra está da distribuição normal. O gráfico QQ ordena os escores z de baixos a altos e registra cada valor do escore z no eixo y, e o eixo x é o quantil correspondente a uma distribuição normal para a posição daquele valor. Como os dados estão normalizados, as unidades correspondem a um número de desvios-padrão dos dados da média."
      ]
    },
    {
      "cell_type": "markdown",
      "metadata": {
        "id": "Sflw2ev7Z010"
      },
      "source": [
        "## Distribuições de Cauda Longa"
      ]
    },
    {
      "cell_type": "markdown",
      "metadata": {
        "id": "OzlUxq1lZkwM"
      },
      "source": [
        "distribuição é altamente desequilibrada (assimétrica), como com dados de receita, ou a distribuição pode ser discreta, como com dados binomiais. Ambas as distribuições, simétrica e assimétrica, podem ter caudas longas. As caudas de uma distribuição correspondem a valores extremos (pequenos e grandes). As caudas longas, e a proteção contra elas, são altamente reconhecidas no trabalho prático."
      ]
    },
    {
      "cell_type": "markdown",
      "metadata": {
        "id": "isgFoll9GcF-"
      },
      "source": [
        "**Cauda** - A porção longa e estreita de uma distribuição de frequências, na qual valores relativamente extremos ocorrem em baixa frequência.\n",
        "\n",
        "\n",
        "**Desequilíbrio** - No qual uma cauda de uma distribuição é mais longa que outra."
      ]
    },
    {
      "cell_type": "markdown",
      "metadata": {
        "id": "azZ-22wiZXUf"
      },
      "source": [
        "## Distribuição t de Student"
      ]
    },
    {
      "cell_type": "markdown",
      "metadata": {
        "id": "2KdfZFANZ82L"
      },
      "source": [
        "A distribuição t é uma distribuição normalmente formatada, mas um pouco mais espessa e mais longa nas caudas. É extensivamente usada para representar distribuições de estatísticas amostrais. As distribuições de médias amostrais costumam ser formatadas como uma distribuição t, e existe uma família de distribuições t que difere dependendo de quão grande é a amostra."
      ]
    },
    {
      "cell_type": "markdown",
      "metadata": {
        "id": "5YSaHOJOZ_J5"
      },
      "source": [
        "Quanto maior a amostra, mais normalmente formatada se torna a distribuição t."
      ]
    },
    {
      "cell_type": "markdown",
      "metadata": {
        "id": "SYvhdIzgaBQb"
      },
      "source": [
        "**n** - Tamanho da amostra.\n",
        "\n",
        "<br />\n",
        "\n",
        "**Graus de liberdade** - Um parâmetro que permite que a distribuição t se ajuste a diferentes tamanhos de amostras, estatísticas e números de grupos."
      ]
    },
    {
      "cell_type": "markdown",
      "metadata": {
        "id": "VBVKPUcvafLx"
      },
      "source": [
        "A distribuição t tem sido usada como referência para a distribuição de uma média amostral, a diferença entre duas médias amostrais, parâmetros de regressão e ouras estatísticas."
      ]
    },
    {
      "cell_type": "code",
      "execution_count": null,
      "metadata": {
        "id": "CB-dsRTXimlV"
      },
      "outputs": [],
      "source": []
    },
    {
      "cell_type": "markdown",
      "metadata": {
        "id": "WlzTcAJOasWm"
      },
      "source": [
        "A distribuição t tem sido usada como referência para a distribuição de uma média amostral, a diferença entre duas médias amostrais, parâmetros de regressão e ouras estatísticas."
      ]
    },
    {
      "cell_type": "markdown",
      "metadata": {
        "id": "INmULNLfawCr"
      },
      "source": [
        "## Distribuição Binomial"
      ]
    },
    {
      "cell_type": "markdown",
      "metadata": {
        "id": "LU0hOIrkazCj"
      },
      "source": [
        "**Ensaio** - Um evento com um resultado discreto (por exemplo, jogar uma moeda).\n",
        "\n",
        "<br />\n",
        "\n",
        "**Sucesso** - O resultado de interesse para um ensaio.\n",
        "\n",
        "Sinônimo: “1” (diferente de “0”)\n",
        "\n",
        "<br />\n",
        "\n",
        "**Binomial** - Ter dois resultados.\n",
        "\n",
        "Sinônimos: sim/não, 0/1, binário\n",
        "\n",
        "<br />\n",
        "\n",
        "**Ensaio binomial** - Um ensaio com dois resultados.\n",
        "\n",
        "Sinônimo: ensaio Bernoulli\n",
        "\n",
        "<br />\n",
        "\n",
        "**Distribuição binomial** - Distribuição do número de sucessos em x ensaios.\n",
        "Sinônimo: distribuição Bernoulli"
      ]
    },
    {
      "cell_type": "markdown",
      "metadata": {
        "id": "i60Nbz6SPeKI"
      },
      "source": [
        "## Poisson e Distribuições Relacionadas"
      ]
    },
    {
      "cell_type": "markdown",
      "metadata": {
        "id": "FoNoMlQ4xhTx"
      },
      "source": [
        "**Lambda** -  A taxa (por unidade de tempo ou espaço) na qual os eventos ocorrem.\n",
        "\n",
        "<br />\n",
        "\n",
        "**Distribuição Poisson** -  A distribuição de frequências do número de eventos em unidades amostradas de tempo ou espaço.\n",
        "\n",
        "<br />\n",
        "\n",
        "**Distribuição exponencial** - A distribuição de frequência de tempo ou distância de um evento ao próximo.\n",
        "\n",
        "<br />\n",
        "\n",
        "**Distribuição Weibull** -  Uma versão generalizada da exponencial, na qual a taxa do evento pode mudar com o tempo."
      ]
    },
    {
      "cell_type": "markdown",
      "metadata": {
        "id": "t_2omNURx08Y"
      },
      "source": [
        "A distribuição Poisson nos diz a distribuição dos eventos por unidade de tempo ou espaço quando tiramos muitas amostras de tal unidade.\n",
        "\n",
        "É útil ao abordar questões de enfileiramento, como: “Qual é a capacidade necessária para ter 95% de certeza de processar totalmente o tráfego de internet que chega a um servidor em qualquer período de cinco segundos?”"
      ]
    },
    {
      "cell_type": "markdown",
      "metadata": {
        "id": "-nPMov5Mx959"
      },
      "source": [
        "O parâmetro-chave em uma distribuição Poisson é λ, ou lambda. Esse é o número médio de eventos que ocorrem em um intervalo especificado de tempo ou espaço. A variância para uma distribuição Poisson também é λ."
      ]
    },
    {
      "cell_type": "markdown",
      "metadata": {
        "id": "VH4qAgceyKfZ"
      },
      "source": [
        "##  Distribuição Exponencial"
      ]
    },
    {
      "cell_type": "markdown",
      "metadata": {
        "id": "trvBmAh7yR4B"
      },
      "source": [
        "Usando o mesmo parâmetro λ que usamos na distribuição Poisson, podemos também modelar a distribuição do tempo entre eventos: tempo entre as visitas a um site ou entre carros chegando a uma praça de pedágio. É utilizado também em engenharia, para modelar tempo para a falha, e em gerenciamento de processos para modelar, por exemplo, o tempo necessário por chamada de serviço."
      ]
    },
    {
      "cell_type": "markdown",
      "metadata": {
        "id": "IFDyKdI5yfMA"
      },
      "source": [
        "Uma suposição-chave em qualquer estudo de simulação, tanto para distribuição Poisson quanto para exponencial, é a de que a taxa, λ, permanece constante ao longo do período sendo considerado."
      ]
    },
    {
      "cell_type": "markdown",
      "metadata": {
        "id": "9C2KFr7UyiQi"
      },
      "source": [
        "### Estimando a Taxa de Falha"
      ]
    },
    {
      "cell_type": "markdown",
      "metadata": {
        "id": "dtI2MAtWyoBw"
      },
      "source": [
        "a taxa de evento, λ, é conhecida ou pode ser estimada dos dados a priori. No entanto, para eventos raros, isso não é necessariamente verdade. Falhas em motores de aeronaves, por exemplo, são tão suficientemente raros (felizmente), que, para um certo tipo de motor, pode haver poucos dados nos quais basear uma estimativa de tempo entre falhas."
      ]
    },
    {
      "cell_type": "markdown",
      "metadata": {
        "id": "3MmkqICDyvig"
      },
      "source": [
        "## Distribuição Weibull\n"
      ]
    },
    {
      "cell_type": "markdown",
      "metadata": {
        "id": "scI6hTcAzK8o"
      },
      "source": [
        "Se, no entanto, a taxa de evento muda ao longo do tempo do intervalo, as distribuições exponenciais (ou Poisson) não são mais úteis. Esse costuma ser o caso de falhas mecânicas — o risco de falha aumenta com o passar do tempo. A distribuição Weibull é uma extensão da distribuição exponencial, na qual a taxa de evento pode mudar, conforme especificado por um parâmetro de forma, β. Se β > 1, a probabilidade de um evento aumenta com o tempo, e se β < 1, ela diminui. Como a distribuição Weibull é utilizada com análises de tempo até a falha, em vez da taxa de evento, o segundo parâmetro é expressado em termos de vida característica, em vez dos termos de taxa de evento por intervalo. O símbolo usado é η, a letra grega eta. É chamado também de parâmetro de escala."
      ]
    },
    {
      "cell_type": "markdown",
      "metadata": {
        "id": "BtaZagzNzVYf"
      },
      "source": [
        "Com a Weibull, a tarefa de estimação inclui agora a estimação dos dois parâmetros, β e η."
      ]
    },
    {
      "cell_type": "markdown",
      "metadata": {
        "id": "Tf32vPVjzZvt"
      },
      "source": [
        "* Para eventos que ocorrem em uma taxa constante, o número de eventos por unidade de tempo ou espaço pode ser modelado como uma distribuição Poisson.\n",
        "\n",
        "\n",
        "* Neste cenário pode-se também modelar o tempo ou a distância entre um evento e o próximo como uma distribuição exponencial.\n",
        "\n",
        "\n",
        "* Uma taxa de evento que muda com o tempo (por exemplo, uma probabilidade crescente de falha de dispositivo) pode ser modelada com a distribuição Weibull."
      ]
    },
    {
      "cell_type": "markdown",
      "metadata": {
        "id": "zq9qcZcozkrr"
      },
      "source": [
        "# Capítulo 3 - Experimentos Estatísticos e Teste de Significância"
      ]
    },
    {
      "cell_type": "markdown",
      "metadata": {
        "id": "kyTUy4Np0RiC"
      },
      "source": [
        "empre que você vir referências à significância estatística, testes t ou valores p, será tipicamente no contexto da “cadeia” clássica de inferência estatística (veja a Figura 3-1). Esse processo começa com uma hipótese (“a droga A é melhor que a droga-padrão existente”, “o preço A é mais lucrativo que o preço B existente”). Um experimento (pode ser um teste A/B) é desenhado para testar a hipótese — projetado de modo a, espera-se, trazer resultados conclusivos. Os dados são coletados e analisados, e então se tira uma conclusão. O termo inferência reflete a intenção de aplicar os resultados do experimento, o que envolve um conjunto limitado de dados, em um processo ou população maiores."
      ]
    },
    {
      "cell_type": "markdown",
      "metadata": {
        "id": "t6oJC8Ra0kD_"
      },
      "source": [
        "## Testagem A/B"
      ]
    },
    {
      "cell_type": "markdown",
      "metadata": {
        "id": "A56RXT8L06l4"
      },
      "source": [
        "Um teste A/B é um experimento com dois grupos para determinar qual dos dois tratamentos, produtos, procedimentos ou semelhantes é o superior. Geralmente, um dos dois tratamentos é o tratamento-padrão existente, ou nenhum tratamento. **Se um tratamento-padrão (ou nenhum) for usado, este será chamado de controle.** Uma hipótese típica é a de que o tratamento seja melhor que o controle."
      ]
    },
    {
      "cell_type": "markdown",
      "metadata": {
        "id": "h5LVOBgm1B5N"
      },
      "source": [
        "**Tratamento** - Algo (droga, preço, título de site) ao qual um indivíduo é exposto.\n",
        "\n",
        "<br />\n",
        "\n",
        "**Grupo de tratamento** - Um grupo de indivíduos expostos a um tratamento específico.\n",
        "\n",
        "\n",
        "<br />\n",
        "\n",
        "**Grupo de controle** - Um grupo de indivíduos expostos a nenhum tratamento (ou padrão).\n",
        "\n",
        "<br />\n",
        "\n",
        "**Randomização** - O processo de atribuir aleatoriamente indivíduos a tratamentos.\n",
        "\n",
        "<br />\n",
        "\n",
        "**Indivíduos** -  Os itens (visitantes de um site, pacientes etc.) que são expostos aos tratamentos.\n",
        "\n",
        "<br />\n",
        "\n",
        "**Estatística de teste** - A métrica usada para medir o efeito do tratamento."
      ]
    },
    {
      "cell_type": "markdown",
      "metadata": {
        "id": "8S2wH5de17nJ"
      },
      "source": [
        "Um teste A/B adequado tem indivíduos que podem ser atribuídos a um tratamento ou outro. O indivíduo pode ser uma pessoa, uma semente, um visitante de site, e a chave é que o indivíduo seja exposto ao tratamento. O ideal é que os indivíduos sejam randomizados (atribuídos aleatoriamente) aostratamentos. Dessa forma, sabe-se que qualquer diferença entre os grupos de tratamento é devido a um dos seguintes motivos:\n",
        "\n",
        "* O efeito de diferentes tratamentos.\n",
        "* O sorteio no qual os indivíduos são atribuídos a quais tratamentos (ou seja, a atribuição aleatória pode resultar a concentração de indivíduos com melhor desempenho em A ou B)."
      ]
    },
    {
      "cell_type": "markdown",
      "metadata": {
        "id": "plhmkB003whS"
      },
      "source": [
        "Em um experimento A/B padrão, é necessário optar por uma métrica com antecedência."
      ]
    },
    {
      "cell_type": "markdown",
      "metadata": {
        "id": "WRIlg1hL30XW"
      },
      "source": [
        "Múltiplas métricas podem ser coletadas e ser de interesse, mas se for esperado que o experimento leve a uma decisão entre o tratamento A e o tratamento B, deve-se estabelecer uma única métrica, estatística de teste, com antecedência. Escolher uma estatística de teste após o experimento ser conduzido abre a porta para viés de pesquisador."
      ]
    },
    {
      "cell_type": "markdown",
      "metadata": {
        "id": "AQnBrFwg3_CZ"
      },
      "source": [
        "## Testes de Hipótese"
      ]
    },
    {
      "cell_type": "markdown",
      "metadata": {
        "id": "F7We8boE4E17"
      },
      "source": [
        "Os testes de hipótese, também chamados de testes de significância, são onipresentes nas análises estatísticas tradicionais de pesquisas publicadas. Seu propósito é ajudá-lo a descobrir se uma chance aleatória poderia ser responsável por um efeito observado."
      ]
    },
    {
      "cell_type": "markdown",
      "metadata": {
        "id": "--A2QBFaDySh"
      },
      "source": [
        "**Hipótese nula** - A hipótese cuja possibilidade é provada.\n",
        "<br />\n",
        "\n",
        "**Hipótese alternativa** - Contraponto da nula (o que se espera provar).\n",
        "\n",
        "<br />\n",
        "\n",
        "**Teste unilateral** - Teste de hipótese que conta as possibilidades em apenas uma direção.\n",
        "\n",
        "<br />\n",
        "\n",
        "**Teste bilateral** -  Teste de hipótese que conta as possibilidades em duas direções."
      ]
    },
    {
      "cell_type": "markdown",
      "metadata": {
        "id": "57bm54aNPpgT"
      },
      "source": [
        "Um teste de hipótese estatística é uma análise mais aprofundada de um teste A/B, ou qualquer experimento randomizado, para avaliar se a possibilidade aleatória é uma explicação plausível para a diferença observada entre os grupos A e B."
      ]
    },
    {
      "cell_type": "markdown",
      "metadata": {
        "id": "G84jA563Prvi"
      },
      "source": [
        "## A Hipótese Nula"
      ]
    },
    {
      "cell_type": "markdown",
      "metadata": {
        "id": "cExPgcHG8rwN"
      },
      "source": [
        "Suposição de linha de base é chamada de hipótese nula. Nossa esperança é então poder, de fato, provar que a hipótese nula está errada e mostrar que os resultados para os grupos A e B são mais diferentes do que o acaso poderia produzir."
      ]
    },
    {
      "cell_type": "markdown",
      "metadata": {
        "id": "ptndBVrI88El"
      },
      "source": [
        "A natureza da hipótese nula determina a estrutura do teste de hipótese."
      ]
    },
    {
      "cell_type": "markdown",
      "metadata": {
        "id": "WAIrvYl98wnB"
      },
      "source": [
        "## Hipótese Alternativa"
      ]
    },
    {
      "cell_type": "markdown",
      "metadata": {
        "id": "Fw_x_QNR8yq_"
      },
      "source": [
        "Os testes de hipótese envolvem, por natureza, não apenas uma hipótese nula, mas também uma hipótese alternativa contrária. Aqui estão alguns exemplos:\n",
        "\n",
        "* Nula = “nenhuma diferença entre as médias dos grupos A e B”, alternativa = “A é diferente de B” (poderia ser maior ou menor)\n",
        "\n",
        "* Nula = “A ≤ B”, alternativa = “B > A”\n",
        "\n",
        "* Nula = “B não é X% maior que A”, alternativa = “B é X% maior que A”"
      ]
    },
    {
      "cell_type": "markdown",
      "metadata": {
        "id": "e-sa4AjeKmg7"
      },
      "source": [
        "##  Teste de Hipótese Unilateral, Bilateral"
      ]
    },
    {
      "cell_type": "markdown",
      "metadata": {
        "id": "Kp6qYNxXp1HM"
      },
      "source": [
        "Uma hipótese unicaudal costuma acomodar a natureza da tomada de decisão\n",
        "A/B, na qual uma decisão é necessária e uma opção costuma receber status “padrão”, a menos que a outra se prove melhor."
      ]
    },
    {
      "cell_type": "markdown",
      "metadata": {
        "id": "ueqSwu10qEOG"
      },
      "source": [
        "* Uma hipótese nula é uma construção lógica que expressa a noção de que não aconteceu nada especial e qualquer efeito que for observado será devido a possibilidades aleatórias.\n",
        "\n",
        "* O teste de hipótese presume que a hipótese nula é verdade, cria um “modelo nulo” (um modelo de probabilidade) e testa se o efeito observado é um resultado plausível daquele modelo."
      ]
    },
    {
      "cell_type": "markdown",
      "metadata": {
        "id": "t-RXriXhEf7k"
      },
      "source": [
        "## Reamostragem"
      ]
    },
    {
      "cell_type": "markdown",
      "metadata": {
        "id": "p0NLtNIXGehq"
      },
      "source": [
        "Reamostragem é amostrar repetitivamente os valores a partir dos dados observados, com o objetivo de avaliar a variabilidade aleatória de uma estatística;\n",
        "\n",
        "Também pode ser usada para avaliar e aumentar a pecisão de alguns modelos de aprendizagem de máquina."
      ]
    },
    {
      "cell_type": "markdown",
      "metadata": {
        "id": "bPvnI1oxG_Kn"
      },
      "source": [
        "* Dois tipos principais de procedimento de reamostra:\n",
        "\n",
        "Bootstrap e testes de permutação\n",
        "\n",
        "\n",
        "**Bootstrap** -> é usado para avaliar a confiabilidade de uma estimativa;\n",
        "\n",
        "**Testes de permutação** -> Usados para testar hipóteses, geralmente envolvendo dois o mais grupos"
      ]
    },
    {
      "cell_type": "markdown",
      "metadata": {
        "id": "EjjiVOpMHVE0"
      },
      "source": [
        "## Teste de Permutação\n",
        "\n",
        "- O procedimento de combinar duas ou mais amostras e aleatoriamente (ou exaustivamente) ealocar as obserçãoes em reamostras\n",
        "\n",
        "Com ou sem reposição\n",
        "Se um item será ou não realocado na amostra antes da próxima extração.\n",
        "\n",
        "\n",
        "Permuta significa mudar a ordem de um conjunto de valores."
      ]
    },
    {
      "cell_type": "markdown",
      "metadata": {
        "id": "1O9OL6Hp6KHx"
      },
      "source": [
        "O primeiro passo em um teste de permutação de uma hipótese é combinar os resultados dos grupos A e B (e, se usados, C, D…). Essa é a representação lógica da hipótese nula da qual os tratamentos aos quais os grupos foram expostos não diferem. Então testamos **tal hipótese extraindo aleatoriamente os grupos desse conjunto combinado e vendo o quanto eles diferem um do outro.** O procedimento de permutação é o seguinte:\n",
        "\n",
        "1. Combine os resultados dos diferentes grupos em um único conjunto de dados.\n",
        "2. Embaralhe os dados combinados, então extraia aleatoriamente (sem reposição) uma reamostra de tamanho igual ao do grupo A.\n",
        "3. Dos dados restantes, extraia aleatoriamente (sem reposição) uma reamostra de tamanho igual ao do grupo B.\n",
        "4. Faça o mesmo para os grupos C, D e assim por diante. 5. Seja qual for a estatística ou estimativa calculada para as amostras originais (por exemplo, diferenças entre proporções de grupo), calcule-a agora para as reamostras e registre. Isso constitui uma iteração de permutação.\n",
        "6. Repita os passos anteriores R vezes para produzir uma distribuição de permutação da estatística de teste."
      ]
    },
    {
      "cell_type": "markdown",
      "metadata": {
        "id": "r3paJdZ26cyj"
      },
      "source": [
        "Agora volte à diferença observada entre os grupos e compare ao conjunto das diferenças permutadas. Se a diferença observada estiver dentro do conjunto de diferenças permutadas, então não provamos nada — a diferença observada está dentro do intervalo do que o acaso pode produzir. No entanto, se a diferença observada estiver fora da maior parte da distribuição de permutação, então concluímos que o acaso não é responsável. Em termos técnicos, a diferença é estatisticamente significante."
      ]
    },
    {
      "cell_type": "markdown",
      "metadata": {
        "id": "8g3oRkER63Sm"
      },
      "source": [
        "**Uma variável proxy é aquela que se apresenta no lugar da real variável de interesse, a qual pode não estar disponível, ser muito cara ou muito demorada de medir.**"
      ]
    },
    {
      "cell_type": "markdown",
      "metadata": {
        "id": "xZ5N2D87ck5U"
      },
      "source": [
        "## Testes de Permutação Exaustiva e Bootstrap"
      ]
    },
    {
      "cell_type": "markdown",
      "metadata": {
        "id": "S2Lrg5azNX8e"
      },
      "source": [
        "* Permutação Exaustiva\n",
        "\n",
        "Em vez de simplesmente embaralhar aleatoriamente e dividir os dados, nós na verdade adivinhamos todos os modos possíveis em que podem ser divididos.\n",
        "\n",
        "Os testes de permutação exaustiva também são chamados às vezes de testes exatos, devido à sua propriedade estatística de garantir que o modelo\n",
        "nulo não seja testado como “significante” além do nível alfa do teste"
      ]
    },
    {
      "cell_type": "markdown",
      "metadata": {
        "id": "uWigseIdpdjf"
      },
      "source": [
        "Em um teste de permutação bootstrap, as extrações descritas nos passos 2 e 3 do teste de permutação aleatória são feitas com reposição, ao invés de sem reposição. Dessa forma, o procedimento de reamostragem modela não somente o elemento aleatório na atribuição do tratamento ao indivíduo, mas também o elemento aleatório na seleção de indivíduos de uma população. Ambos os procedimentos são encontrados na estatística, e a distinção entre eles é um pouco complexa, e não consequência da prática da ciência de dados."
      ]
    },
    {
      "cell_type": "markdown",
      "metadata": {
        "id": "oUx_54Blpp-T"
      },
      "source": [
        "Os testes de permutação são úteis em procedimentos heurísticos para a exploração do papel da variação aleatória. Eles são relativamente fáceis de codificar, interpretar e explicar e oferecem um desvio útil ao redor do formalismo e “falso determinismo” das estatísticas baseadas em fórmulas. Uma virtude da reamostragem, ao contrário das abordagens por fórmula, é que chega muito mais perto de uma abordagem “tamanho único” à inferência."
      ]
    },
    {
      "cell_type": "markdown",
      "metadata": {
        "id": "wSZP1LRfp9nT"
      },
      "source": [
        "## Significância Estatística e Valores P"
      ]
    },
    {
      "cell_type": "markdown",
      "metadata": {
        "id": "T4LmfMp8qCST"
      },
      "source": [
        "Significância estatística é como os estatísticos medem se um experimento (ou até mesmo um estudo de dados existente) produz um resultado mais extremo do que o acaso poderia produzir. Se o resultado estiver além do domínio da variação do acaso, é chamado de estatisticamente significante."
      ]
    },
    {
      "cell_type": "markdown",
      "metadata": {
        "id": "21Nk2NA6qD-v"
      },
      "source": [
        "* **Valor p** <br />\n",
        " Dado um modelo de acaso que representa a hipótese nula, o valor p é a probabilidade de obter resultados tão incomuns ou extremos quanto os resultados observados.\n",
        "\n",
        "* **Alfa** <br />\n",
        " Um limiar de probabilidade de “ser incomum” que os resultados do acaso podem ultrapassar, para resultados reais serem definidos como estatisticamente significantes.\n",
        "\n",
        "* **Erro tipo 1** <br />\n",
        " Concluir erroneamente que um efeito é real (quando acontece pelo acaso).\n",
        "\n",
        " Concluir erroneamente que um efeito ocorreu pelo acaso (quando é real)."
      ]
    },
    {
      "cell_type": "markdown",
      "metadata": {
        "id": "Mj4XwK4Zt-UQ"
      },
      "source": [
        "## Valor P\n",
        "\n",
        " Esta é a frequência com a qual o modelo de acaso produz um resultado mais extremo que o resultado observado."
      ]
    },
    {
      "cell_type": "markdown",
      "metadata": {
        "id": "2D5hdNmRxdS8"
      },
      "source": [
        "O real problema é que as pessoas querem um significado além daquele que o valor p oferece. Aqui está o que queríamos que o valor p expressasse: A probabilidade de que o resultado ocorre pelo acaso."
      ]
    },
    {
      "cell_type": "markdown",
      "metadata": {
        "id": "elzt6pQsxhnD"
      },
      "source": [
        "A probabilidade de que, dado um modelo de acaso, podem ocorrer resultados tão extremos quanto os resultados observados."
      ]
    },
    {
      "cell_type": "markdown",
      "metadata": {
        "id": "4WeU-A2ixuVA"
      },
      "source": [
        "A declaração da ASA frisou os seis princípios para pesquisadores e editores de periódicos:\n",
        "1. Os valores p podem indicar o quanto os dados são incompatíveis com um modelo estatístico específico.\n",
        "2. Os valores p não medem a probabilidade de a hipótese estudada ser verdade ou a probabilidade de os dados terem sido produzidos apenas pelo acaso.\n",
        "3. Conclusões científicas e decisões empresariais ou políticas não devem se basear apenas no fato de um valor p exceder um limiar específico.\n",
        "4. A inferência adequada exige informações completas e transparência. 5. Um valor p, ou significância estatística, não mede o tamanho de um efeito ou a importância de um resultado.\n",
        "6. Sozinho, um valor p não oferece uma boa medição das evidências no que diz respeito a um modelo ou hipótese."
      ]
    },
    {
      "cell_type": "markdown",
      "metadata": {
        "id": "KTTi6cvbzYuy"
      },
      "source": [
        "*Para um cientista de dados, um valor p é uma métrica útil em situações em que se quer saber se um resultado de modelo que parece interessante e útil está dentro da faixa de variabilidade de acaso normal.*"
      ]
    },
    {
      "cell_type": "markdown",
      "metadata": {
        "id": "Err3YyM0vHvg"
      },
      "source": [
        "## Alfa\n",
        "\n",
        "Os estatísticos não gostam da ideia de deixar a definição de um resultado como “muito incomum” para acontecer por acaso a critério dos pesquisadores. Em vez disso, especifica-se com antecedência um limiar, como em “mais extremo que 5% do resultado do acaso (hipótese nula)”. Esse limiar é conhecido como alfa. Os típicos níveis de alfa são 5% e 1%."
      ]
    },
    {
      "cell_type": "markdown",
      "metadata": {
        "id": "5qHK8z27zg3w"
      },
      "source": [
        "O valor alfa é o limiar de “não ser comum” em um modelo de acaso de hipótese nula."
      ]
    },
    {
      "cell_type": "markdown",
      "metadata": {
        "id": "-ycPoJ3nxxR6"
      },
      "source": [
        "## Erros Tipo 1 e Tipo 2"
      ]
    },
    {
      "cell_type": "markdown",
      "metadata": {
        "id": "D32DGLtVx0fP"
      },
      "source": [
        "* Erro tipo 1, no qual se conclui erroneamente que um efeito é real, quando, na verdade, ocorre por acaso.\n",
        "*  Erro tipo 2, no qual se conclui erroneamente que um efeito não é real (ou seja, ocorre por acaso), quando, na verdade, é real."
      ]
    },
    {
      "cell_type": "markdown",
      "metadata": {
        "id": "qmnjUSd-zAh5"
      },
      "source": [
        "Na verdade, um erro tipo 2 não é bem um erro, mas, sim, uma conclusão de que o tamanho da amostra é muito pequeno para detectar o efeito. Quando um valor p fica aquém da significância estatística (por exemplo, excede 5%), o que estamos dizendo, na verdade, é “efeito não provado”. Pode ser que uma amostra maior resulte em um valor p menor."
      ]
    },
    {
      "cell_type": "markdown",
      "metadata": {
        "id": "A8zh7AwlzS_q"
      },
      "source": [
        "A função básica dos testes de significância (também chamados de testes de hipótese) é a proteção contra os enganos pelo acaso, então são comumente estruturados de modo a minimizar os erros Tipo 1"
      ]
    },
    {
      "cell_type": "markdown",
      "metadata": {
        "id": "y3t4ZR3gzi6r"
      },
      "source": [
        "## Testes t"
      ]
    },
    {
      "cell_type": "markdown",
      "metadata": {
        "id": "qIWtLaJkWLPo"
      },
      "source": [
        "batizado assim por causa da distribuição t de Student, originalmente desenvolvida por W. S.\n",
        "Gossett para aproximar a distribuição de uma média amostral"
      ]
    },
    {
      "cell_type": "markdown",
      "metadata": {
        "id": "xW53fmnBWNs_"
      },
      "source": [
        "* **Estatística de teste**\n",
        "\n",
        " Uma métrica para a diferença ou efeito de interesse.\n",
        "\n",
        "* **Estatística t**\n",
        "\n",
        "Uma versão padronizada da estatística de teste.\n",
        "\n",
        "* **Distribuição t**\n",
        "\n",
        "Uma distribuição de referência (neste caso, derivada de uma hipótese nula), com a qual a estatística t observada pode ser comparada."
      ]
    },
    {
      "cell_type": "markdown",
      "metadata": {
        "id": "ZloJf4VFWNi0"
      },
      "source": [
        "Mas para que a distribuição t seja usada sem considerar a escala é preciso usar uma forma padronizada da estatística de teste."
      ]
    },
    {
      "cell_type": "markdown",
      "metadata": {
        "id": "7_RwolHzbuSc"
      },
      "source": [
        "## Testagem Múltipla"
      ]
    },
    {
      "cell_type": "markdown",
      "metadata": {
        "id": "ha4cSx7Vb1X5"
      },
      "source": [
        "**Erro tipo 1** - Concluir erroneamente que um efeito é estatisticamente significativo.\n",
        "\n",
        "**Taxa de falsa descoberta** -  Através de múltiplos testes, a taxa de cometer um erro tipo 1.\n",
        "\n",
        "**Ajuste dos valores p** -  Contabilização da realização de múltiplos testes nos mesmos dados.\n",
        "\n",
        "**Sobreajuste** -  Ajuste do ruído."
      ]
    },
    {
      "cell_type": "markdown",
      "metadata": {
        "id": "Y6fZL_JrchiK"
      },
      "source": [
        "**o ajuste de Bonferroni, simplesmente divide o alfa pelo número de observações n.**"
      ]
    },
    {
      "cell_type": "markdown",
      "metadata": {
        "id": "yZLr7zMccz9V"
      },
      "source": [
        "###**Taxa de Falsa Descoberta**\n",
        "\n",
        "O termo taxa de falsa descoberta foi originalmente usado para **descrever a taxa na qual um dado conjunto de testes de hipótese identificaria falsamente um efeito significativo.** Ela se tornou especialmente útil com o advento da pesquisa genômica, em que números massivos de testes estatísticos podem ser conduzidos como parte de um projeto de sequenciamento genético. Nesses casos, o termo se aplica ao protocolo de testagem, e uma única “descoberta” falsa se refere ao resultado de um teste de hipótese (por exemplo, entre duas amostras). Os pesquisadores procuram ajustar os parâmetros do processo de testagem a fim de controlar a taxa de falsa descoberta em um nível específico. O termo tem sido usado também na comunidade de pesquisa de dados em um contexto de classificação, em que uma descoberta falsa é uma falsa rotulagem de 0s como 1"
      ]
    },
    {
      "cell_type": "markdown",
      "metadata": {
        "id": "sLNmFERTdNC3"
      },
      "source": [
        "## Graus de Liberdade"
      ]
    },
    {
      "cell_type": "markdown",
      "metadata": {
        "id": "R1BOXF4-dSQ_"
      },
      "source": [
        "O conceito é aplicado a estatísticas calculadas de dados de amostra e se refere ao número de valores livres para variar."
      ]
    },
    {
      "cell_type": "markdown",
      "metadata": {
        "id": "jHOtk64adWHe"
      },
      "source": [
        "**n ou tamanho da amostra** -  O número de observações (também chamadas de linhas ou registros) nos dados.\n",
        "\n",
        "**g.l.** -  Graus de liberdade."
      ]
    },
    {
      "cell_type": "markdown",
      "metadata": {
        "id": "yAptqXuodlZ-"
      },
      "source": [
        "número de graus de liberdade é um fator em muitos testes estatísticos. Por exemplo, graus de liberdade é o nome dado ao denominador n – 1 visto nos cálculos de variância e desvio-padrão. Por que isso importa? Quando se usa uma amostra para estimar a variância de uma população, se usar n nodenominador, obterá uma estimativa levemente enviesada para baixo. Se usar n – 1 no denominador, a estimativa ficará livre desse viés."
      ]
    },
    {
      "cell_type": "markdown",
      "metadata": {
        "id": "lNYw0Accdr7L"
      },
      "source": [
        "os graus de liberdade fazem parte do cálculo de padronização para garantir que os dados padronizados correspondam à distribuição de referências adequada (distribuição t, distribuição F etc.)."
      ]
    },
    {
      "cell_type": "markdown",
      "metadata": {
        "id": "TI9xYJq0dzTU"
      },
      "source": [
        "É importante para a ciência de dados? Não muito, ao menos no contexto de teste de significância. Por"
      ]
    },
    {
      "cell_type": "markdown",
      "metadata": {
        "id": "cupkawd1eFDZ"
      },
      "source": [
        "## ANOVA"
      ]
    },
    {
      "cell_type": "markdown",
      "metadata": {
        "id": "PdVqs55deKN-"
      },
      "source": [
        "O procedimento estatístico que testa se há uma diferença estatisticamente significativa entre os grupos é chamado de análise de variância, ou ANOVA."
      ]
    },
    {
      "cell_type": "markdown",
      "metadata": {
        "id": "L37-5jf9fD6z"
      },
      "source": [
        "**Comparação em pares**\n",
        "\n",
        " Um teste de hipótese (por exemplo, de médias) entre dois grupos em meio a múltiplos grupos.\n",
        "\n",
        "**Teste coletivo**\n",
        "\n",
        " Um único teste de hipótese da variância geral entre múltiplas médias de grupo.\n",
        "\n",
        "**Decomposição de variância**\n",
        "\n",
        "  A separação de componentes, contribuindo com um valor individual (por exemplo, da média geral, de uma média de tratamento e de um erro residual).\n",
        "\n",
        "**Estatística F**\n",
        "\n",
        "Uma estatística padronizada que mede o quanto as diferenças entre as médias dos grupos excedem o que poderia ser esperado em um modelo de acaso.\n",
        "\n",
        "**SQ (SS)**\n",
        "\n",
        "A “Soma dos Quadrados (Sum of Squares)”, se referindo aos desvios de algum valor médio."
      ]
    },
    {
      "cell_type": "markdown",
      "metadata": {
        "id": "0Tg1s3MKgO_J"
      },
      "source": [
        "### Estatística F"
      ]
    },
    {
      "cell_type": "markdown",
      "metadata": {
        "id": "vD30N2lxgX8Z"
      },
      "source": [
        "Assim como o teste t pode ser usado no lugar de um teste de permutação para comparar a média de dois grupos, existe um teste estatístico para ANOVA baseado na estatística F. A estatística F se baseia na relação da variância entre as médias dos grupos (ou seja, o efeito do tratamento) com a variância devido a erro residual. Quanto maior essa relação, mais estatisticamente significativo é o resultado. Se os dados seguirem uma distribuição normal, então a teoria estatística determina que a estatística deve ter uma certa distribuição. Com base nisso, é possível calcular um valor p."
      ]
    },
    {
      "cell_type": "markdown",
      "metadata": {
        "id": "1ChK_q6Igoy3"
      },
      "source": [
        "### Decomposição de Variância\n",
        "Os valores observados em um conjunto de dados podem ser considerados somas de diferentes componentes. Qualquer valor de dado observado dentro de um conjunto de dados pode ser decomposto na média global, no efeito do tratamento e no erro residual. Chamamos isso de uma “decomposição de variância”."
      ]
    },
    {
      "cell_type": "markdown",
      "metadata": {
        "id": "CdiU0KJogsxA"
      },
      "source": [
        "### ANOVA Bidirecional"
      ]
    },
    {
      "cell_type": "markdown",
      "metadata": {
        "id": "aqPxa2xJg1cW"
      },
      "source": [
        "O teste A-B-C-D descrito é uma ANOVA “unidirecional”, em que temos apenas um fator (grupo) que está variando. Poderíamos ter um segundo fator envolvido — digamos, “fim de semana versus dia útil” — com dados coletados em cada combinação (grupo A dia útil, grupo B fim de semana etc.). Isso seria uma “ANOVA bidirecional”, e trataríamos isso de modo semelhante ao da ANOVA unidirecional, identificando o “efeito de interação”. Depois de identificar o efeito da média global e o efeito do tratamento, separamos as observações de fim de semana e dia útil de cada grupo e encontramos a diferença entre as médias para aqueles subconjuntos e a média do tratamento."
      ]
    },
    {
      "cell_type": "markdown",
      "metadata": {
        "id": "4fgl9OHVg4k8"
      },
      "source": [
        "## Teste de Qui Quadrado\n",
        "\n",
        "O teste de qui quadrado é usado para contar os dados para testar quão bem se encaixam em alguma distribuição desejada. O uso mais comum da estatística qui quadrada em prática estatística é com tabelas de contingência r × c, para avaliar se a hipótese nula de independência entre as variáveis é razoável."
      ]
    },
    {
      "cell_type": "markdown",
      "metadata": {
        "id": "X7kgXvNhhCVj"
      },
      "source": [
        "termo “qui” vem da letra grega ξ usada por Pearson no artigo."
      ]
    },
    {
      "cell_type": "markdown",
      "metadata": {
        "id": "QhcmGXwehFFw"
      },
      "source": [
        "**Estatística qui quadrada**\n",
        "\n",
        "Uma medida da extensão em que alguns dados observados partem da expectativa.\n",
        "\n",
        "**Expectativa ou esperado**\n",
        "\n",
        " Como esperamos que os dados se comportem sob alguma suposição, tipicamente a hipótese é nula."
      ]
    },
    {
      "cell_type": "markdown",
      "metadata": {
        "id": "FwXGrjpBhO34"
      },
      "source": [
        "### Teste de Qui Quadrado: Uma Abordagem à Reamostra\n",
        "\n",
        "O residual de Pearson é definido como:\n",
        "\n",
        "R = Observed-Expected/rExpetec"
      ]
    },
    {
      "cell_type": "markdown",
      "metadata": {
        "id": "gzU154mrhgqG"
      },
      "source": [
        "A estatística qui quadrada é definida como a soma dos residuais quadráticos de Pearson:"
      ]
    },
    {
      "cell_type": "markdown",
      "metadata": {
        "id": "h69ZpjNjhxdv"
      },
      "source": [
        "![image.png](data:image/png;base64,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)"
      ]
    },
    {
      "cell_type": "markdown",
      "metadata": {
        "id": "Tpfm31g1h1d8"
      },
      "source": [
        "### Teste de Qui Quadrado: Teoria Estatística"
      ]
    },
    {
      "cell_type": "markdown",
      "metadata": {
        "id": "7lMabSVah7hD"
      },
      "source": [
        "A teoria estatística assintótica mostra que a distribuição da estatística qui quadrada pode ser aproximada por uma distribuição qui quadrada. O padrão adequado de distribuição qui quadrada é determinado pelos graus de liberdade"
      ]
    },
    {
      "cell_type": "markdown",
      "metadata": {
        "id": "WwHKVw4Uh-Mi"
      },
      "source": [
        "Para uma tabela de contingências, os graus de liberdade estão relacionados ao número de linhas (r) e colunas (s) da seguinte forma:\n",
        "\n",
        "gl = (r-1) x (c-1)"
      ]
    },
    {
      "cell_type": "markdown",
      "metadata": {
        "id": "WQSxuWU5iEZd"
      },
      "source": [
        "A distribuição qui quadrada costuma ser assimétrica, com uma cauda longa à direita.\n",
        "\n",
        "Quanto mais espalhada na distribuição qui quadrada estiver a estatística observada, menor o valor p"
      ]
    },
    {
      "cell_type": "markdown",
      "metadata": {
        "id": "Jcdx5G2ZiMzF"
      },
      "source": [
        "O valor p é um pouco menor que o valor p de reamostragem: isso ocorre porque a distribuição qui quadrada é apenas uma aproximação da distribuição real da estatística."
      ]
    },
    {
      "cell_type": "markdown",
      "metadata": {
        "id": "iNFjPdl8iSzM"
      },
      "source": [
        "## Teste Exato de Fisher\n",
        "\n",
        "A distribuição qui quadrada é uma boa aproximação do teste de reamostragem embaralhada descrito anteriormente, exceto quando as contagens são extremamente baixas (dígitos únicos, especialmente cinco ou menos). Nesses casos, o procedimento de reamostra resultará em valores p mais precisos. Na verdade, a maioria dos softwares estatísticos tem um procedimento para realmente enumerar todas as possíveis reorganizações (permutações) que podem ocorrer, tabular suas frequências e determinar exatamente quão extremo é o resultado observado. Isso se chama teste exato de Fisher, em homenagem ao grande estatístico R. A. Fisher."
      ]
    },
    {
      "cell_type": "markdown",
      "metadata": {
        "id": "TdeMg-jpkh3s"
      },
      "source": [
        "## Algoritmo de Bandido Multibraços\n",
        "\n",
        "Bandidos multibraços oferecem uma abordagem à testagem, que permite a explícita otimização e tomada de decisão mais rápida do que a abordagem tradicional ao planejamento de experimentos."
      ]
    },
    {
      "cell_type": "markdown",
      "metadata": {
        "id": "P2VS87FilCu6"
      },
      "source": [
        "**Bandido multibraços**\n",
        "\n",
        " Uma máquina caça-níqueis imaginária com múltiplas alavancas para o cliente escolher, cada uma com diferentes prêmios, tomada aqui como uma analogia para um experimento de múltiplos tratamentos.\n",
        "\n",
        "**Braço**\n",
        "\n",
        " Um tratamento em um experimento (por exemplo, “título A em um teste web”).\n",
        "\n",
        "**Ganho**\n",
        "\n",
        "O análogo experimental do ganho em uma máquina caça-níqueis (por exemplo, “cliques de clientes no link”)."
      ]
    },
    {
      "cell_type": "markdown",
      "metadata": {
        "id": "j8P8sfkTlax1"
      },
      "source": [
        "Os algoritmos bandidos, que são muito populares em testagens web, permitem testar múltiplos tratamentos ao mesmo tempo e chegar a conclusões mais rápido do que os projetos estatísticos tradicionais."
      ]
    },
    {
      "cell_type": "markdown",
      "metadata": {
        "id": "G-65oBz8may2"
      },
      "source": [
        "****?o algoritmo epsilon-greedy\n"
      ]
    },
    {
      "cell_type": "markdown",
      "metadata": {
        "id": "V6zUCkP_mgu5"
      },
      "source": [
        "Aqui temos um algoritmo simples, o algoritmo epsilon-greedy para um teste A/B:\n",
        "1. Gere um número aleatório entre 0 e 1. 2. Se o número ficar entre 0 e epsilon (em que epsilon é um número entre 0 e 1, geralmente bem pequeno), jogue uma moeda justa (probabilidade de 50/50): a. Se a moeda der cara, mostre a oferta A. b. Se a moeda der coroa, mostre a oferta B.\n",
        "3. Se o número for ≥ epsilon, mostre a oferta com maior taxa de resposta até o momento."
      ]
    },
    {
      "cell_type": "markdown",
      "metadata": {
        "id": "xPJJfx_um7nX"
      },
      "source": [
        "Epsilon é um único parâmetro que governa esse algoritmo. Se epsilon for 1, teremos um simples experimento A/B padrão (alocação aleatória entre A e B para cada indivíduo). Se epsilon for 0, teremos um algoritmo puramente greedy — que não busca maior experimentação, simplesmente atribui os indivíduos (visitante web) ao tratamento com melhor desempenho."
      ]
    },
    {
      "cell_type": "markdown",
      "metadata": {
        "id": "p6CWWOd5oJQx"
      },
      "source": [
        "Um algoritmo mais sofisticado usa a “amostragem de Thompson”. Esse procedimento “amostra” (puxa um braço do bandido) em cada estágio, para maximizar a probabilidade de escolher o melhor braço. É claro que não sabemos qual é o melhor braço — esse é o problema! Mas, conforme se observa o prêmio em cada extração sucessiva, mais informações se obtém. A amostragem de Thompson usa a abordagem Bayesiana: supõe-se antecipadamente uma distribuição de recompensas inicial, usando a chamada distribuição beta (esse é um mecanismo comum para especificar informações antecipadas em um problema Bayesiano)."
      ]
    },
    {
      "cell_type": "markdown",
      "metadata": {
        "id": "rs87Gtn2oMP8"
      },
      "source": [
        "## Potência e Tamanho de Amostra\n",
        "\n",
        "**Tamanho do efeito**\n",
        "\n",
        " O tamanho mínimo do efeito que se espera poder detectar em um teste estatístico, por exemplo, “uma melhora de 20% em taxas de clique”.\n",
        "\n",
        "**Potência**\n",
        "\n",
        "A probabilidade de detectar um dado tamanho de efeito com dado tamanho de amostra.\n",
        "\n",
        "**Nível de significância**\n",
        "\n",
        " O nível de significância estatística no qual o teste será conduzido."
      ]
    },
    {
      "cell_type": "markdown",
      "metadata": {
        "id": "D92ETYaNunMI"
      },
      "source": [
        "A potência é a probabilidade de detectar um tamanho de efeito especificado com características de amostra especificadas (tamanho e variabilidade)."
      ]
    },
    {
      "cell_type": "markdown",
      "metadata": {
        "id": "j-fvWAEYwrjZ"
      },
      "source": [
        "## Tamanho da Amostra"
      ]
    },
    {
      "cell_type": "markdown",
      "metadata": {
        "id": "vAUvNMJUyoSE"
      },
      "source": [
        "O uso mais comum dos cálculos de potência é estimar quão grande será a amostra necessária."
      ]
    },
    {
      "cell_type": "markdown",
      "metadata": {
        "id": "kRciztemzI-a"
      },
      "source": [
        "Resumindo, para calcular a potência ou o tamanho de amostra necessário, existem quatro partes móveis:\n",
        "Tamanho da amostra. Tamanho do efeito que queremos detectar. Nível de significância (alfa) em que o teste será conduzido. Potência."
      ]
    },
    {
      "cell_type": "markdown",
      "metadata": {
        "id": "eoG2tImpzRB_"
      },
      "source": [
        "* Descobrir qual é o tamanho de amostra necessário exige a consideração antecipada ao teste estatístico que planeja conduzir.\n",
        "\n",
        "* É necessário especificar o tamanho mínimo do efeito que se quer detectar.\n",
        "\n",
        "*Deve-se também especificar a probabilidade exigida de se detectar tal tamanho de efeito (potência).\n",
        "\n",
        "* Finalmente, é necessário especificar o nível de significância (alfa) em que o teste será conduzido."
      ]
    },
    {
      "cell_type": "markdown",
      "metadata": {
        "id": "w1wAuE1XzzzL"
      },
      "source": [
        "# Regressão e Previsão"
      ]
    },
    {
      "cell_type": "markdown",
      "metadata": {
        "id": "XfWhtVD60OIB"
      },
      "source": [
        "## Regressão Linear Simples\n",
        "\n",
        "modela o relacionamento entre a magnitude de uma variável e aquela de uma segunda — por exemplo, conforme X aumenta, Y também aumenta. Ou conforme X aumenta, Y diminui."
      ]
    },
    {
      "cell_type": "markdown",
      "metadata": {
        "id": "5eFh36j-0U1K"
      },
      "source": [
        "A correlação é\n",
        "outro jeito de medir como duas variáveis estão relacionadas"
      ]
    },
    {
      "cell_type": "markdown",
      "metadata": {
        "id": "37ImwfvO0giz"
      },
      "source": [
        "**diferença é que enquanto a correlação mede a força de uma associação entre duas variáveis, a regressão quantifica a natureza do relacionamento.**"
      ]
    },
    {
      "cell_type": "markdown",
      "metadata": {
        "id": "4KrkeY5o0nCA"
      },
      "source": [
        "**Resposta**\n",
        "\n",
        " A variável que estamos tentando prever.\n",
        "\n",
        "***Sinônimos***: variável dependente, variável Y, alvo, resultado\n",
        "\n",
        "**Variável independente**\n",
        "\n",
        " A variável usada para prever a resposta.\n",
        " ***Sinônimos***: variável independente, variável X, característica, atributo\n",
        "\n",
        "**Registro**\n",
        "\n",
        " O vetor dos valores preditor e de resultado para um indivíduo ou caso específico.\n",
        "\n",
        " ***Sinônimos*** linha, caso, exemplo\n",
        "\n",
        "**Intercepto**\n",
        "\n",
        " O interceptor da linha de regressão — ou seja, o valor previsto quando X = 0.\n",
        "\n",
        " ***Sinônimos*** b0, β0\n",
        "\n",
        "***Coeficiente de Regressão**\n",
        "\n",
        " O declive da linha de regressão s.\n",
        "\n",
        " ***Sinônimos*** declive, b1, β1, estimativas de parâmetro, pesos\n",
        "\n",
        "**Valores ajustados**\n",
        "\n",
        " As estimativas Ŷi obtidas da linha de regressão.\n",
        "\n",
        " ***Sinônimo*** valores previstos\n",
        "\n",
        "**Resíduo**\n",
        "\n",
        " A diferença entre os valores observados e os valores ajustados.\n",
        "\n",
        " ***Sinônimo*** erros\n",
        "\n",
        "**Mínimos quadrados**\n",
        "\n",
        " O método de ajustar uma regressão pela minimização da soma dos quadrados dos resíduos.\n",
        "\n",
        " ***Sinônimo***\n",
        "mínimos quadrados ordinários"
      ]
    },
    {
      "cell_type": "markdown",
      "metadata": {
        "id": "LYBKVCOK3hIU"
      },
      "source": [
        "## A Equação de Regressão"
      ]
    },
    {
      "cell_type": "markdown",
      "metadata": {
        "id": "5GzrTPcy3mjx"
      },
      "source": [
        "A regressão linear simples estima exatamente o quanto Y mudará quando X mudar em uma certa quantidade. Com o coeficiente de correlação, as variáveis X e Y são intercambiáveis. Com a regressão, estamos tentando prever a variável Y a partir de X usando um relacionamento linear"
      ]
    },
    {
      "cell_type": "markdown",
      "metadata": {
        "id": "XbSGR3ij3nkh"
      },
      "source": [
        "y = b0 + b1X"
      ]
    },
    {
      "cell_type": "markdown",
      "metadata": {
        "id": "8GvqkL703wyx"
      },
      "source": [
        "Lemos isso como “Y é igual a b1 vezes X, mais uma constante b0”. O símbolo b0 é conhecido como o intercepto (ou constante), e o símbolo b1, como o declive para X. (PODENDO SEREM CONHECIMDOS COMO COEFICIENTES)"
      ]
    },
    {
      "cell_type": "markdown",
      "metadata": {
        "id": "5w4iyXRc37aY"
      },
      "source": [
        "A variável Y é conhecida como resposta ou variável dependente, já que depende de X. A variável X é conhecida como preditora ou variável independente. A comunidade de aprendizado de máquina costuma usar outros termos, chamando Y de alvo e X de vetor de característica."
      ]
    },
    {
      "cell_type": "markdown",
      "metadata": {
        "id": "KRRkfWaa4KiH"
      },
      "source": [
        "### Valores Ajustados e Resíduos"
      ]
    },
    {
      "cell_type": "markdown",
      "metadata": {
        "id": "rvPY_fDb4P_m"
      },
      "source": [
        "Alguns conceitos importantes na análise de regressão são os valores ajustados e resíduos. Em geral, os dados não ficam exatamente em uma linha, então a equação de regressão deveria incluir um termo explícito de erro ei"
      ]
    },
    {
      "cell_type": "markdown",
      "metadata": {
        "id": "Xo2twkxt4RMe"
      },
      "source": [
        "Y1 = b0+b1Xi+ei"
      ]
    },
    {
      "cell_type": "markdown",
      "metadata": {
        "id": "iVDrqNCU4Xej"
      },
      "source": [
        "Os valores ajustados, também chamados de valores previstos, são geralmente denotados por (Y-chapéu). Estes são os dados:"
      ]
    },
    {
      "cell_type": "markdown",
      "metadata": {
        "id": "HiyY3ye13w8m"
      },
      "source": [
        "^Yi=^b0+^b1Xj"
      ]
    },
    {
      "cell_type": "markdown",
      "metadata": {
        "id": "a-z7U_Sa4Yki"
      },
      "source": [
        "\n",
        "$$\\hat{Y_i} = \\hat{\\beta_0} + \\hat {\\beta_1} X_j $$\n"
      ]
    },
    {
      "cell_type": "markdown",
      "metadata": {
        "id": "fULzJb_B4fgm"
      },
      "source": [
        "As notações e indicam que os coeficientes são os estimados versus os conhecidos."
      ]
    },
    {
      "cell_type": "markdown",
      "metadata": {
        "id": "bCqlFP0z4iRh"
      },
      "source": [
        "Notação Chapéu: Estimativas Versus Valores Conhecidos A notação “chapéu” é usada para diferenciar as estimativas dos valores conhecidos. Então o símbolo (“b-chapéu”) é uma estimativa do parâmetro desconhecido b. Por que os estatísticos diferenciam entre a estimativa e o valor real? A estimativa tem incerteza, enquanto o valor real é fixado.2"
      ]
    },
    {
      "cell_type": "markdown",
      "metadata": {
        "id": "Hm13o2PX4m0Y"
      },
      "source": [
        "Calculamos os resíduos subtraindo os valores previstos dos dados originais:\n",
        "êi = Yi - ^Yi"
      ]
    },
    {
      "cell_type": "markdown",
      "metadata": {
        "id": "C5CSIyzr4sqe"
      },
      "source": [
        "### Mínimos Quadrados"
      ]
    },
    {
      "cell_type": "markdown",
      "metadata": {},
      "source": [
        "O método de ajustar uma regressão pela minimização da soma dos quadrados dos resíduos.\n"
      ]
    },
    {
      "cell_type": "markdown",
      "metadata": {
        "id": "94RIzDrK4zK0"
      },
      "source": [
        "a linha de regressão é a estimativa que minimiza a soma dos valores quadrados do resíduo, também chamados de residual sum of squares ou RSS:"
      ]
    },
    {
      "cell_type": "markdown",
      "metadata": {
        "id": "4iLT4vc645AO"
      },
      "source": [
        "![image.png](data:image/png;base64,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)"
      ]
    },
    {
      "cell_type": "markdown",
      "metadata": {
        "id": "L1pHwHfmtXYQ"
      },
      "source": [
        "O método de minimizar a soma dos resíduos quadrados é chamado de regressão de mínimos quadrados, ou regressão de mínimos quadrados ordinários (ordinary least squares — OLS"
      ]
    },
    {
      "cell_type": "markdown",
      "metadata": {
        "id": "8KKBj2QhtdRu"
      },
      "source": [
        "![image.png](data:image/png;base64,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)"
      ]
    },
    {
      "cell_type": "markdown",
      "metadata": {},
      "source": [
        "são sensíveis aos outliers, porém isso costuma ser um problema significativo apenas em problemas pequenos ou de tamanho moderado.\n"
      ]
    },
    {
      "cell_type": "markdown",
      "metadata": {},
      "source": [
        "A equação de regressão modela o relacionamento entre a variável responsiva Y e uma variável preditora X como uma linha.\n",
        "\n",
        " Um modelo de regressão gera valores ajustados em resíduos — previsões da resposta e erros das previsões. \n",
        " \n",
        " Os modelos de regressão costumam ser ajustados pelo método de mínimos quadrados. A regressão é usada tanto para previsão quanto para explicação.\n"
      ]
    },
    {
      "cell_type": "markdown",
      "metadata": {},
      "source": [
        "## Regressão Linear Múltipla "
      ]
    },
    {
      "cell_type": "markdown",
      "metadata": {},
      "source": [
        "$$ Y = b_0 + b_1 X_1 + b_2 X_2 + \\ldots + b_p X_p + e\n"
      ]
    },
    {
      "cell_type": "markdown",
      "metadata": {},
      "source": [
        "RMSE - Root Mean Squared Error (Erro médio Quadrático)\n",
        "\n",
        "A raiz quadrada do erro médio quadrático da regressão (este é o métrica mais amplamente utilizada para comparar modelos de regressão).\n"
      ]
    },
    {
      "cell_type": "markdown",
      "metadata": {},
      "source": [
        "RSE - Erro padrão residual (Residual Standard error)\n",
        "\n",
        "O mesmo que o erro médio quadrático, mas ajustado para graus de liberdade.\n"
      ]
    },
    {
      "cell_type": "markdown",
      "metadata": {},
      "source": [
        "R-quadrado - R Squared (coeficiente de determinação, R²)\n",
        "\n",
        "\n",
        "A proporção da variância explicada pelo modelo, variando de 0 a 1 e mede a proporção de variação nos dados que é\n",
        "contabilizada no modelo. É útil principalmente em usos explicativos da regressão nos quais se quer avaliar quão bem o modelo acomoda os dados\n",
        "\n",
        "\n",
        "t-estatística\n",
        "O coeficiente para um preditor, dividido pelo erro padrão do coeficiente, proporcionando uma métrica para comparar a importância das variáveis no modelo.\n",
        "\n"
      ]
    },
    {
      "cell_type": "markdown",
      "metadata": {},
      "source": [
        "Regressão ponderada\n",
        "Regressão com registros que têm diferentes pesos."
      ]
    },
    {
      "cell_type": "markdown",
      "metadata": {},
      "source": [
        "## Cross Validation"
      ]
    },
    {
      "cell_type": "markdown",
      "metadata": {},
      "source": [
        "Geralmente usado para testar pequenos conjuntos de dados onde podemos criar vários sub conjuntos de dados pequenos para realizaros os testes e validações."
      ]
    },
    {
      "cell_type": "markdown",
      "metadata": {},
      "source": [
        "O algoritmo para a validação cruzada k-fold básica é o seguinte:\n",
        "\n",
        "1 - Reserve 1/k dos dados como uma amostra de retenção.\n",
        "\n",
        "2 - Treine o modelo nos dados restantes.\n",
        "\n",
        "3 - Aplique (avalie) o modelo à amostra de retenção de 1/k e registre as métricas de avaliação do modelo necessárias.\n",
        "\n",
        "4 - Restaure a primeira porção de 1/k dos dados e reserve a próxima porção de 1/k (excluindo quaisquer registros que foram escolhidos na \n",
        "primeira vez).\n",
        "\n",
        "5 - Repita os passos 2 e 3.\n",
        "\n",
        "6 - Repita até que cada registro tenha sido utilizado na porção de retenção.\n",
        "\n",
        "7 - Calcule a média ou combine de outra forma as métricas de avaliação do modelo.\n",
        "\n",
        "A divisão dos dados entre a amostra de treinamento e a amostra de retenção também é chamada de \"fold\" (dobragem)."
      ]
    },
    {
      "cell_type": "markdown",
      "metadata": {},
      "source": [
        "# Seleção de Variáveis e Stepwise"
      ]
    },
    {
      "cell_type": "markdown",
      "metadata": {},
      "source": [
        "Adding more variables, however, does not necessarily mean we have a better model."
      ]
    },
    {
      "cell_type": "markdown",
      "metadata": {},
      "source": [
        "Incluir variáveis adicionais sempre reduz o RMSE e aumenta o \\(R^2\\) para os dados de treinamento. Portanto, essas não são apropriadas para orientar a escolha do modelo. Uma abordagem para incluir a complexidade do modelo é usar o \\(R^2\\) ajustado."
      ]
    },
    {
      "cell_type": "markdown",
      "metadata": {},
      "source": [
        "$$R^2_{\\text{ajustado}} = 1 - \\frac{(1 - R^2) \\cdot (n - 1)}{n - p - 1}\n"
      ]
    },
    {
      "cell_type": "markdown",
      "metadata": {},
      "source": [
        "Aqui, n é o número de registros e P é o número de variáveis no modelo."
      ]
    },
    {
      "cell_type": "markdown",
      "metadata": {},
      "source": [
        "### Critério de Avaliação Akike\n",
        "\n",
        " Hirotugu Akaike, o eminente estatístico japonês, desenvolveu uma métrica chamada AIC (Critério de Informação de Akaike) que penaliza a adição de termos a um modelo. No caso da regressão, o AIC tem a forma:\n",
        "\n",
        "$$AIC = 2P + n \\log\\left(\\frac{n}{\\text{RSS}}\\right)\n",
        " \n"
      ]
    },
    {
      "cell_type": "markdown",
      "metadata": {},
      "source": [
        "\n",
        " \n",
        "Onde\n",
        "P é o número de variáveis e n é o número de registros. O objetivo é encontrar o modelo que minimiza o AIC; modelos com k variáveis adicionais são penalizados por 2k."
      ]
    },
    {
      "cell_type": "markdown",
      "metadata": {},
      "source": [
        "## Vertentes AIC\n"
      ]
    },
    {
      "cell_type": "markdown",
      "metadata": {},
      "source": [
        "* AICc: Uma versão do AIC corrigida para tamanhos de amostra menores.\n",
        "* BIC ou critério Bayesiano de informação: Similar ao AIC com penalidades\n",
        "maiores para a inclusão de variáveis adicionais ao modelo.\n",
        "* Cp de Mallows: Uma variante do AIC desenvolvida por Colin Mallows."
      ]
    },
    {
      "cell_type": "markdown",
      "metadata": {},
      "source": [
        "### Seleção - Eliminação Progressiva\n",
        "\n",
        "Na seleção regressiva, eliminação regressiva, começamos com\n",
        "o modelo cheio e retiramos os preditores que não são estatisticamente\n",
        "significativos até termos um modelo em que todos os preditores são\n",
        "estatisticamente significativos."
      ]
    },
    {
      "cell_type": "markdown",
      "metadata": {},
      "source": [
        "## Regressão Personalizada\n",
        "\n",
        "A equação de ajuste de modelos incorpora uma restrição que penaliza o modelo para\n",
        "variáveis excessivas (parâmetros). "
      ]
    },
    {
      "cell_type": "markdown",
      "metadata": {},
      "source": [
        "#### Ridge e Lasso"
      ]
    },
    {
      "cell_type": "markdown",
      "metadata": {},
      "source": [
        "## Regressão Ponderada"
      ]
    },
    {
      "cell_type": "markdown",
      "metadata": {},
      "source": [
        "A regressão ponderada é usada por estatísticos para diversos propósitos. Em\n",
        "especial, é importante para a análise de pesquisas complexas. \n",
        "\n",
        "Útil em casos de:\n",
        "-  ponderação de variância inversa, quando diferentes observações foram medidas com precisão diferente.\n",
        "\n",
        "- Na análise de dados de forma agregada, de modo que a variável ponderada mostra quantas observações originais cada linha nos dados agregados representa."
      ]
    },
    {
      "cell_type": "markdown",
      "metadata": {},
      "source": [
        "A regressão ponderada é usada para dar a certos registros mais ou menos peso no ajuste\n",
        "da equação."
      ]
    },
    {
      "cell_type": "markdown",
      "metadata": {},
      "source": [
        "## Previsão usando Regressão"
      ]
    },
    {
      "cell_type": "markdown",
      "metadata": {},
      "source": [
        "**Intervalo de previsão**\n",
        "\n",
        "Um intervalo de incerteza em torno de um valor previsto individual.\n",
        "\n",
        "**Extrapolação**\n",
        "\n",
        "A extensão de um modelo além da faixa dos dados usados para ajustá-lo.\n"
      ]
    },
    {
      "cell_type": "markdown",
      "metadata": {},
      "source": [
        "## Intervalos de Confiança e Previsão\n",
        "\n",
        "Uma métrica mais útil é a dos intervalos de confiança, que são\n",
        "intervalos de incerteza posicionados em torno dos coeficientes de regressão e\n",
        "previsões."
      ]
    },
    {
      "cell_type": "markdown",
      "metadata": {},
      "source": [
        "Os intervalos de confiança de regressão mais comuns em\n",
        "resultados de software são aqueles para parâmetros de regressão\n",
        "(coeficientes)."
      ]
    },
    {
      "cell_type": "markdown",
      "metadata": {},
      "source": [
        "Intervalo de Previsão ou Intervalo de Confiança?\n",
        "\n",
        "Um intervalo de previsão diz respeito à incerteza em torno de um único valor, enquanto\n",
        "um intervalo de confiança diz respeito à média ou a outras estatísticas calculadas de\n",
        "múltiplos valores. Portanto, um intervalo de previsão geralmente será muito maior que\n",
        "um intervalo de confiança para o mesmo valor. Modelamos esse erro de valor individual\n",
        "no modelo bootstrap selecionando um resíduo individual para aderir ao valor previsto.\n",
        "Qual devemos usar? Isso depende do contexto e do propósito da análise, mas, em geral,\n",
        "os cientistas de dados estão mais interessados em previsões individuais específicas, então\n",
        "um intervalo de previsão seria mais adequado. Usar um intervalo de confiança quando\n",
        "deveria usar um intervalo de previsão subestimará grandemente a incerteza em dado\n",
        "valor previsto.\n"
      ]
    },
    {
      "cell_type": "markdown",
      "metadata": {},
      "source": [
        "* A extrapolação além da faixa dos dados pode levar a erros.\n",
        "* Os intervalos de confiança quantificam a incerteza em torno dos coeficientes de\n",
        "* regressão.\n",
        "* Os intervalos de previsão quantificam a incerteza em previsões individuais.\n",
        "* A maioria dos softwares, inclusive o R, produz intervalos de previsão e confiança por\n",
        "* predefinição ou resultado especificado usando fórmulas.\n",
        "* O bootstrap também pode ser usado. A interpretação e a ideia são as mesmas.\n"
      ]
    },
    {
      "cell_type": "markdown",
      "metadata": {},
      "source": [
        "# Variáveis Fatoriais em Regressão"
      ]
    },
    {
      "cell_type": "markdown",
      "metadata": {},
      "source": [
        "As variáveis fatoriais, também chamadas de variáveis categóricas, assumem\n",
        "um número limitado de valores discretos."
      ]
    },
    {
      "cell_type": "markdown",
      "metadata": {},
      "source": [
        "**Termos-chave para Variáveis Fatoriais**\n",
        "**Variáveis fictícias**\n",
        "Variáveis binárias 0–1 derivadas pelo registro dos dados fatoriais para uso em regressão e\n",
        "outros modelos.\n",
        "\n",
        "**Codificação de referência**\n",
        "O tipo mais comum de codificação usada pelos estatísticos, na qual um nível de um fator é\n",
        "usado como uma referência e outros fatores são comparados com aquele nível.\n",
        "\n",
        "**One hot encoder**\n",
        "Um tipo comum de codificação usado pela comunidade de aprendizado de máquina em que\n",
        "todos os níveis fatoriais são retidos. É útil para certos algoritmos de aprendizado de máquina,\n",
        "mas esta abordagem não é adequada para regressão linear múltipla.\n",
        "\n",
        "**Codificação de desvio**\n",
        "Um tipo de codificação que compara cada nível com a média global, ao contrário do nível de\n",
        "referência.\n"
      ]
    },
    {
      "cell_type": "markdown",
      "metadata": {},
      "source": [
        "* As variáveis fatoriais precisam ser convertidas em variáveis numéricas para uso em\n",
        "uma regressão.\n",
        "* O método mais comum para converter uma variável fatorial com P valores distintos é\n",
        "representá-la usando P-1 variáveis fictícias.\n",
        "* Uma variável fatorial com muitos níveis, mesmo em conjuntos de dados muito grandes,\n",
        "pode precisar ser consolidada em uma variável com menos níveis.\n",
        "* Alguns fatores têm níveis que são ordenados e podem ser representados como uma\n",
        "única variável numérica\n"
      ]
    },
    {
      "cell_type": "markdown",
      "metadata": {},
      "source": [
        "## Interpretando a Equação de Regressão\n"
      ]
    },
    {
      "cell_type": "markdown",
      "metadata": {},
      "source": [
        "**Variáveis correlacionadas**\n",
        "\n",
        "Quando as variáveis preditoras são altamente correlacionadas, é difícil interpretar os\n",
        "coeficientes individuais.\n",
        "\n",
        "**Multicolinearidade**\n",
        "Quando as variáveis preditoras têm correlação perfeita, ou quase perfeita, a regressão pode ser\n",
        "instável ou impossível de calcular.\n",
        "Sinônimo\n",
        "colinearidade\n",
        "\n",
        "**Variáveis de confundimento**\n",
        "Uma preditora importante que, quando omitida, leva a relacionamentos falsos em uma\n",
        "equação de regressão.\n",
        "\n",
        "**Efeitos principais**\n",
        "O relacionamento entre uma preditora e a variável resultante, independente de outras\n",
        "variáveis.\n",
        "\n",
        "**Interações**\n",
        "Um relacionamento independente entre duas ou mais preditoras e a resposta."
      ]
    },
    {
      "cell_type": "markdown",
      "metadata": {},
      "source": [
        "### Preditoras Correlacionadas\n"
      ]
    },
    {
      "cell_type": "markdown",
      "metadata": {},
      "source": [
        "Quando o coeficiente for negativo indica que a variável alvo perderá valor, e vice-versa"
      ]
    },
    {
      "cell_type": "markdown",
      "metadata": {},
      "source": [
        "Ter preditoras correlacionadas pode tornar difícil interpretar o sinal e o valor\n",
        "dos coeficientes de regressão (e pode inflar o erro-padrão das estimativas). "
      ]
    },
    {
      "cell_type": "markdown",
      "metadata": {},
      "source": [
        "### Multicolinearidade\n"
      ]
    },
    {
      "cell_type": "markdown",
      "metadata": {},
      "source": [
        "Um caso extremo de variáveis correlacionadas produz multicolinearidade —\n",
        "uma condição em que há redundância entre as variáveis preditoras. \n",
        "\n",
        "A multicolinearidade perfeita ocorre quando uma variável preditora pode ser\n",
        "expressa como uma combinação linear das outras. A multicolinearidade\n",
        "ocorre quando:\n",
        "\n",
        "* Uma variável é incluída múltiplas vezes por erro.\n",
        "* P fictícios, em vez de P – 1 fictícios, são criados de uma variável\n",
        "fatorial (veja “Variáveis Fatoriais em Regressão”, antes, neste\n",
        "capítulo).\n",
        "* Duas variáveis são quase perfeitamente correlacionadas uma à outra.\n",
        "\n",
        "\n",
        "A multicolinearidade da regressão deve ser analisada — as variáveis devem\n",
        "ser removidas até que a multicolinearidade desapareça."
      ]
    },
    {
      "cell_type": "markdown",
      "metadata": {},
      "source": [
        "### Variáveis de Confundimento\n",
        "\n",
        "\n",
        "Com variáveis correlacionadas, o problema é de comissão: incluir diferentes\n",
        "variáveis que têm um relacionamento preditivo semelhante com a resposta.\n",
        "Com variáveis de confundimento, o problema é de omissão: uma variável\n",
        "importante não é incluída na equação de regressão. A interpretação ingênua\n",
        "dos coeficientes da equação pode levar a conclusões inválidas.\n"
      ]
    },
    {
      "cell_type": "markdown",
      "metadata": {},
      "source": [
        "## Diagnósticos de Regressão"
      ]
    },
    {
      "cell_type": "markdown",
      "metadata": {},
      "source": [
        "**Resíduos padronizados**\n",
        "\n",
        "Resíduos divididos pelo erro-padrão dos resíduos.\n",
        "\n",
        "**Outliers**\n",
        "Registros (ou valores resultantes) que estão distantes do restante dos dados (ou do resultado\n",
        "previsto).\n",
        "\n",
        "**Valor influente**\n",
        "Um valor ou registro cuja presença ou ausência faz uma grande diferença na equação de\n",
        "regressão.\n",
        "\n",
        "**Ponto alavanca**\n",
        "O grau de influência que um único registro tem em uma equação de regressão.\n",
        "\n",
        "**Resíduos não normais**\n",
        "Registros não normalmente distribuídos podem invalidar algumas exigências técnicas da\n",
        "regressão, mas não costumam ser uma preocupação na ciência de dados.\n",
        "\n",
        "**Heteroscedasticidade**\n",
        "Quando algumas faixas do resultado experimentam resíduos com maior variância (pode\n",
        "indicar um preditor faltante da equação).\n",
        "\n",
        "**Gráficos residuais parciais**\n",
        "Um gráfico de diagnóstico para exibir o relacionamento entre a variável resultante e uma\n",
        "única preditora.\n"
      ]
    },
    {
      "cell_type": "markdown",
      "metadata": {},
      "source": [
        "### Outliers\n",
        "\n",
        "Um valor extremo, também chamado de outlier, é aquele\n",
        "que é distante da maioria das outras observações."
      ]
    },
    {
      "cell_type": "markdown",
      "metadata": {},
      "source": [
        "Podemos detectar os outliers\n",
        "examinando os resíduos padronizados, que são os resíduos divididos pelo\n",
        "erro-padrão dos resíduos."
      ]
    },
    {
      "cell_type": "markdown",
      "metadata": {},
      "source": [
        "Não há uma teoria estatística que separa os outliers dos não outliers. Em vez\n",
        "disso, existem regras de ouro (arbitrárias) para quão distante uma observação\n",
        "deve estar para ser chamada de outlier. Por exemplo, com o boxplot, outliers\n",
        "são aqueles pontos de dados que estão muito acima ou abaixo dos limites da\n",
        "caixa, em que “muito longe” =\n",
        "“mais de 1,5 vezes a amplitude interquartil”."
      ]
    },
    {
      "cell_type": "markdown",
      "metadata": {},
      "source": [
        "## Valores Influentes\n"
      ]
    },
    {
      "cell_type": "markdown",
      "metadata": {},
      "source": [
        "Um valor cuja ausência poderia alterar significativamente a equação de\n",
        "regressão é chamado de observação influente"
      ]
    },
    {
      "cell_type": "markdown",
      "metadata": {},
      "source": [
        "os\n",
        "estatísticos desenvolveram diversas métricas para determinar a influência de\n",
        "um único registro em uma regressão. Uma medida comum de ponto alavanca\n",
        "é o valor chapéu. Valores acima de 2 P + 1 /n indicam um valor de dado de\n",
        "alta alavancagem."
      ]
    },
    {
      "cell_type": "markdown",
      "metadata": {},
      "source": [
        "Outra métrica é a **distância de Cook**, que define influência como uma\n",
        "combinação de alavancagem e tamanho residual. Uma regra de ouro é que\n",
        "uma observação tem grande influência se a distância de Cook exceder 4/(n −\n",
        "P − 1) "
      ]
    },
    {
      "cell_type": "markdown",
      "metadata": {},
      "source": [
        "## Heteroscedasticidade, Não Normalidade e Erros Correlacionados"
      ]
    },
    {
      "cell_type": "markdown",
      "metadata": {},
      "source": [
        "A distribuição dos resíduos é relevante principalmente para a validade da\n",
        "inferência estatística formal (testes de hipótese e valores p), a qual é de\n",
        "mínima importância para os cientistas de dados preocupados principalmente\n",
        "com precisão preditiva."
      ]
    },
    {
      "cell_type": "markdown",
      "metadata": {},
      "source": [
        "Heteroscedasticidade é a falta de variância residual constante através da\n",
        "amplitude dos valores previstos. Em outras palavras, os erros são maiores em\n",
        "algumas porções da amplitude do que em outras."
      ]
    },
    {
      "cell_type": "markdown",
      "metadata": {},
      "source": [
        "**A heteroscedasticidade indica que os erros de previsão são diferentes para diferentes\n",
        "amplitudes de valores previstos, e pode sugerir um modelo incompleto.**"
      ]
    },
    {
      "cell_type": "markdown",
      "metadata": {},
      "source": [
        "* Os outliers podem causar problemas em pequenos conjuntos de dados, mas o interesse\n",
        "principal com eles é identificar problemas nos dados ou localizar anomalias.\n",
        "Registros únicos (incluindo outliers de regressão) podem ter grande influência em uma\n",
        "equação de regressão com dados pequenos, mas esse efeito desaparece em dados\n",
        "grandes.\n",
        "\n",
        "* Se o modelo de regressão for usado para inferência formal (valores p e semelhantes),\n",
        "então certas suposições sobre a distribuição dos resíduos devem ser verificadas. Em\n",
        "geral, no entanto, a distribuição dos resíduos não é crucial na ciência de dados.\n",
        "\n",
        "* O gráfico residual parcial pode ser usado para avaliar quantitativamente o ajuste para\n",
        "cada termo da regressão, possivelmente levando a especificações alternativas no\n",
        "modelo.\n"
      ]
    },
    {
      "cell_type": "markdown",
      "metadata": {},
      "source": [
        "## Regressão Polinomial e Spline (Regressão Não Linear)\n"
      ]
    },
    {
      "cell_type": "markdown",
      "metadata": {},
      "source": [
        "**Regressão polinomial** \n",
        "\n",
        "Adiciona termos polinomiais (quadrados, cubos etc.) a uma regressão.\n",
        "\n",
        "**Regressão spline**\n",
        "\n",
        "Ajusta uma curva de suavização com uma série de seguimentos polinomiais.\n",
        "\n",
        "**Nós**\n",
        "\n",
        "Valores que separam seguimentos spline.\n",
        "\n",
        "**Modelos aditivos generalizados (GAM)**\n",
        "\n",
        "Modelos spline com seleção automatizada de nós.\n",
        "\n"
      ]
    },
    {
      "cell_type": "markdown",
      "metadata": {},
      "source": [
        "#### Regressão Não Linear\n",
        "Quando os estatísticos falam sobre regressão não linear, estão se referindo a modelos que não podem ser ajustados usando mínimos quadrados. Os\n",
        "modelos de regressão não linear são mais difíceis e mais computacionalmente intensivos\n",
        "de ajustar, já que exigem otimização numérica"
      ]
    },
    {
      "cell_type": "markdown",
      "metadata": {},
      "source": [
        "### Polinomial"
      ]
    },
    {
      "cell_type": "markdown",
      "metadata": {},
      "source": [
        "Regressão polinomial envolve a inclusão de termos a uma equação de\n",
        "regressão. "
      ]
    },
    {
      "attachments": {
        "image.png": {
          "image/png": "[encoded data removed]"
        }
      },
      "cell_type": "markdown",
      "metadata": {},
      "source": [
        "![image.png](attachment:image.png)"
      ]
    },
    {
      "cell_type": "markdown",
      "metadata": {},
      "source": [
        "### Splines"
      ]
    },
    {
      "cell_type": "markdown",
      "metadata": {},
      "source": [
        "A regressão polinomial captura apenas uma certa quantidade de curvaturas\n",
        "em um relacionamento não linear. A adição de termos de ordem maior, como\n",
        "um polinômio cúbico, costuma gerar um indesejável “agito” na equação de\n",
        "regressão. Uma abordagem alternativa, e geralmente superior para modelar\n",
        "relacionamentos não lineares, é o uso de splines, que oferecem um meio de\n",
        "interpolar suavemente com os pontos fixados. Foram usados originalmente\n",
        "por projetistas para desenhar uma curva suave, especialmente na construção\n",
        "de navios e aviões."
      ]
    },
    {
      "cell_type": "markdown",
      "metadata": {},
      "source": [
        "### Modelos Aditivos Generalizados\n"
      ]
    },
    {
      "cell_type": "markdown",
      "metadata": {},
      "source": [
        " Os modelos aditivos generalizados, ou GAM, são uma\n",
        "técnica para ajustar automaticamente uma regressão spline."
      ]
    },
    {
      "cell_type": "markdown",
      "metadata": {},
      "source": [
        "* Os outliers em uma regressão são registros com um grande resíduo.\n",
        "\n",
        "* A multicolinearidade pode causar instabilidade numérica no ajuste de uma equação de\n",
        "regressão.\n",
        "\n",
        "* Uma variável de confundimento é uma preditora importante que é omitida de um\n",
        "modelo e pode levar a uma equação de regressão com relacionamentos falsos.\n",
        "\n",
        "* Um termo de interação entre duas variáveis é necessário se o efeito de uma variável\n",
        "depende do nível da outra.\n",
        "\n",
        "* A regressão polinomial pode ajustar relacionamentos não lineares entre preditoras e a\n",
        "variável resultante.\n",
        "\n",
        "* Os splines são uma série de segmentos polinomiais alinhados juntos, juntando todos os\n",
        "nós.\n",
        "\n",
        "* Os modelos aditivos generalizados (GAM) automatizam o processo de especificação\n",
        "dos nós nos splines"
      ]
    },
    {
      "cell_type": "markdown",
      "metadata": {},
      "source": [
        "# Classificação"
      ]
    },
    {
      "cell_type": "markdown",
      "metadata": {},
      "source": [
        "A classificação é, talvez, a forma mais importante de previsão: o objetivo é prever se um registro é um 0 ou um\n",
        "1, ou, em alguns casos, uma entre muitas categorias.\n",
        "\n",
        "Geralmente, precisamos de mais do que uma simples classificação binária:\n",
        "queremos saber a probabilidade prevista de um caso pertencer a uma classe.\n",
        "Em vez de ter um modelo simplesmente atribuindo uma classificação binária,\n",
        "a maioria dos algoritmos pode retornar uma pontuação (propensão) de\n",
        "probabilidade de pertencimento à classe de interesse."
      ]
    },
    {
      "cell_type": "markdown",
      "metadata": {},
      "source": [
        "Pode ser usado um corte deslizante para converter a pontuação de propensão para uma decisão.\n",
        "A abordagem geral é a seguinte:\n",
        "1. Estabelecer uma probabilidade de corte para a classe de interesse\n",
        "acima da qual consideramos um registro como pertencente àquela\n",
        "classe.\n",
        "2. Estimar (com qualquer modelo) a probabilidade de um registro\n",
        "pertencer à classe de interesse.\n",
        "3. Se tal probabilidade estiver acima da probabilidade de corte, atribuir\n",
        "o novo registro à classe de interesse.\n"
      ]
    },
    {
      "cell_type": "markdown",
      "metadata": {},
      "source": [
        "## Naive Bayes\n",
        "\n",
        "O algoritmo Naive Bayes usa a probabilidade de observação de valores\n",
        "preditores, dado um resultado, para estimar a probabilidade de observar o\n",
        "resultado Y = i, dado um conjunto de valores preditores."
      ]
    },
    {
      "cell_type": "markdown",
      "metadata": {},
      "source": [
        "**Probabilidade condicional** \n",
        "\n",
        "A probabilidade de observar algum evento (digamos X = i) dado algum outro evento (digamos\n",
        "Y = i), escrito como P(Xi | Yi).\n",
        "\n",
        "**Probabilidade posterior** \n",
        "\n",
        "A probabilidade de um resultado após a informação preditora ter sido incorporada (ao\n",
        "contrário da probabilidade de resultados anterior, não considerando a informação preditora).\n"
      ]
    },
    {
      "cell_type": "markdown",
      "metadata": {},
      "source": [
        "Para entender a classificação Bayesiana, podemos começar imaginando a\n",
        "classificação Bayesiana “não naive”. Para cada registro a ser classificado:\n",
        "\n",
        "1. Encontre todos os outros registros com o mesmo perfil preditivo (ou\n",
        "seja, nos quais os valores preditores sejam os mesmos).\n",
        "2. Determine a quais classes aqueles registros pertencem e qual classe é\n",
        "prevalente (ou seja, provável).\n",
        "3. Atribua aquela classe ao novo registro.\n",
        "\n",
        "\n",
        "A abordagem anterior equivale a encontrar todos os registros na amostra que\n",
        "sejam exatamente como o novo registro a ser classificado, sendo que todos os\n",
        "valores preditores são idênticos."
      ]
    },
    {
      "cell_type": "markdown",
      "metadata": {},
      "source": [
        "*Apesar de seu nome, o Naive Bayes não é considerado um método de estatística\n",
        "Bayesiana. Naive Bayes é um método empírico, orientado por dados, que exige\n",
        "relativamente pouca expertise estatística. O nome vem da regra de Bayes — como\n",
        "cálculo na formação de previsões —, especificamente o cálculo inicial das probabilidades\n",
        "de valor preditor dado um resultado, e então o cálculo final das probabilidades\n",
        "resultantes*"
      ]
    },
    {
      "cell_type": "markdown",
      "metadata": {},
      "source": [
        "Na solução **Naive Bayes**, não restringimos mais o cálculo da probabilidade\n",
        "àqueles registros que se correspondem com o registro a ser classificado. Em\n",
        "vez disso, usamos todo o conjunto de dados. A modificação Naive Bayes é a\n",
        "seguinte:\n",
        "1. Para uma resposta binária Y = i (i = 0 ou 1), estime as probabilidades\n",
        "condicionais individuais para cada preditor P(Xj | Y) = i ; estas são as\n",
        "probabilidades de o valor preditor estar no registro quando\n",
        "observamos Y = i. Essa probabilidade é estimada pela proporção de\n",
        "valores Xj entre os registros Y = i no conjunto de treinamento.\n",
        "2. Multiplique essas probabilidades uma pela outra, e então pela\n",
        "proporção de registros pertencentes a Y = i.\n",
        "3. Repita os Passos 1 e 2 para todas as classes.\n",
        "4. Estime uma probabilidade para o resultado i assumindo o valor\n",
        "calculado no Passo 2 para classe i e dividindo-o pela soma de tais\n",
        "valores para todas as classes.\n",
        "5. Atribua o registro à classe com a maior probabilidade para esse\n",
        "conjunto de valores preditores."
      ]
    },
    {
      "cell_type": "markdown",
      "metadata": {},
      "source": [
        "**O classificador Bayesiano Naive é conhecido por produzir\n",
        "estimativas enviesadas**\n",
        "\n",
        "\n",
        "**No entanto, no que o objetivo seja ordenar os\n",
        "registros conforme a probabilidade de Y = 1, as estimativas de probabilidade\n",
        "não enviesadas não são necessárias, e o Naive Bayes produz bons resultados**"
      ]
    },
    {
      "cell_type": "markdown",
      "metadata": {},
      "source": [
        "## Variáveis Preditoras Numéricas\n"
      ]
    },
    {
      "cell_type": "markdown",
      "metadata": {},
      "source": [
        "Para aplicar Naive Bayes a preditores numéricos, devemos\n",
        "adotar uma das seguintes abordagens:\n",
        "\n",
        "* Discretizar e converter as preditoras numéricas em preditoras\n",
        "categóricas e aplicar o algoritmo da seção anterior.\n",
        "\n",
        "* Usar um modelo de probabilidade — por exemplo, a distribuição\n",
        "normal — para estimar\n",
        "a probabilidade condicional P(Xj | Y = i)."
      ]
    },
    {
      "cell_type": "markdown",
      "metadata": {},
      "source": [
        "## Análise Discriminante\n"
      ]
    },
    {
      "cell_type": "markdown",
      "metadata": {},
      "source": [
        "**Covariância**\n",
        "\n",
        "Uma medida da extensão em que uma variável varia em conjunto com outra (ou seja,\n",
        "magnitude e direção semelhantes).\n",
        "\n",
        "**Função discriminante**\n",
        "\n",
        "A função que, quando aplicada às variáveis preditoras, maximiza a separação das classes.\n",
        "\n",
        "**Pesos discriminantes**\n",
        "\n",
        "As pontuações que resultam da aplicação da função discriminante e são usadas para estimar as\n",
        "probabilidades de pertencer a uma ou outra classe."
      ]
    },
    {
      "cell_type": "markdown",
      "metadata": {},
      "source": [
        "A análise discriminante engloba diversas técnicas, mas a mais comumente\n",
        "usada é a análise discriminante linear, ou LDA"
      ]
    },
    {
      "cell_type": "markdown",
      "metadata": {},
      "source": [
        "A análise discriminante pode fornecer uma medida\n",
        "da importância preditora e é usada como um método computacionalmente\n",
        "eficiente para a seleção de características.\n"
      ]
    },
    {
      "cell_type": "markdown",
      "metadata": {},
      "source": [
        "## Matriz de Covariância\n"
      ]
    },
    {
      "cell_type": "markdown",
      "metadata": {},
      "source": [
        "Para entender a análise discriminante, é necessário primeiro apresentar o\n",
        "conceito de covariância entre duas ou mais variáveis. A covariância mede o\n",
        "relacionamento entre duas variáveis x e z."
      ]
    },
    {
      "attachments": {
        "image.png": {
          "image/png": "[encoded data removed]"
        }
      },
      "cell_type": "markdown",
      "metadata": {},
      "source": [
        "![image.png](attachment:image.png)"
      ]
    },
    {
      "cell_type": "markdown",
      "metadata": {},
      "source": [
        "Da mesma forma que com o coeficiente de correlação, valores positivos indicam um relacionamento positivo e valores\n",
        "negativos indicam um relacionamento negativo. A correlação, no entanto, é\n",
        "restrita a estar entre –1 e 1, enquanto a covariância está na mesma escala que\n",
        "as variáveis x e z. A matriz de covariância Σ para x e z é composta pelas\n",
        "variâncias individuais das variáveis, e , na diagonal (em que linha e coluna\n",
        "são a mesma variável) e as covariâncias entre os pares de variáveis fora da\n",
        "diagonal."
      ]
    },
    {
      "cell_type": "markdown",
      "metadata": {},
      "source": [
        "## Discriminante Linear de Fisher"
      ]
    },
    {
      "cell_type": "markdown",
      "metadata": {},
      "source": [
        "Tecnicamente, a análise discriminante supõe que\n",
        "as variáveis preditoras são variáveis contínuas normalmente distribuídas,\n",
        "mas, na prática, o método funciona bem mesmo em partidas não extremas da\n",
        "normalidade e para preditoras binárias. A discriminante linear de Fisher\n",
        "distingue, por um lado, a variação entre os grupos e, por outro lado, a\n",
        "variação dentro dos grupos."
      ]
    },
    {
      "attachments": {
        "image.png": {
          "image/png": "[encoded data removed]"
        }
      },
      "cell_type": "markdown",
      "metadata": {},
      "source": [
        "![image.png](attachment:image.png)"
      ]
    },
    {
      "cell_type": "markdown",
      "metadata": {},
      "source": [
        "### Usando a Análise Discriminante para Seleção de Características\n",
        "\n",
        "Se as variáveis preditoras são normalizadas antes da execução da LDA, os pesos\n",
        "discriminantes são medidas de importância variável, oferecendo, assim, um método\n",
        "computacionalmente eficiente para a seleção de características."
      ]
    },
    {
      "cell_type": "markdown",
      "metadata": {},
      "source": [
        "Usando os pesos da função discriminante, a LDA divide o espaço preditor em\n",
        "duas regiões, como mostrado pela linha sólida. As previsões mais distantes da\n",
        "linha têm maior nível de confiança (ou seja, uma probabilidade ainda mais\n",
        "distante de 0,5)."
      ]
    },
    {
      "cell_type": "markdown",
      "metadata": {},
      "source": [
        "* A análise discriminante funciona com preditoras contínuas ou categóricas, bem como\n",
        "com resultados categóricos.\n",
        "\n",
        "* Usando a matriz de covariância, ela calcula uma função discriminante linear, a qual é\n",
        "usada para distinguir os registros que pertencem a uma classe daqueles que pertencem à\n",
        "outra.\n",
        "\n",
        "* Essa função é aplicada nos registros para derivar os pesos, ou notas, para cada registro\n",
        "(um peso para cada classe possível) que determina sua classe estimada"
      ]
    },
    {
      "cell_type": "markdown",
      "metadata": {},
      "source": [
        "## Regressão Logística\n"
      ]
    },
    {
      "cell_type": "markdown",
      "metadata": {},
      "source": [
        "A regressão logística é análoga à regressão linear múltipla, exceto pelo seu\n",
        "resultado ser binário. São empregadas diversas transformações para converter\n",
        "o problema para um no qual se possa ajustar um modelo linear. Como a\n",
        "análise discriminante é diferente de K-Vizinhos Mais Próximos e Naive\n",
        "Bayes, a regressão logística é uma abordagem de modelo estruturado, e não\n",
        "uma abordagem centrada em dados. É um método popular devido à sua\n",
        "grande velocidade computacional e seu resultado de um modelo que se presta\n",
        "à rápida pontuação de novos dados.\n"
      ]
    },
    {
      "cell_type": "markdown",
      "metadata": {},
      "source": [
        "**Logito (hances de log (veja abaixo))**\n",
        "\n",
        "A função que mapeia a probabilidade de pertencimento a uma classe com amplitude de ± ∞\n",
        "(em vez de 0 a 1).\n",
        "\n",
        "**Chances**\n",
        "\n",
        "A proporção entre “sucesso” (1) e “não sucesso” (0).\n",
        "\n",
        "**Chances de log**\n",
        "\n",
        "A resposta no modelo transformado (agora linear), que é mapeada até uma probabilidade."
      ]
    },
    {
      "cell_type": "markdown",
      "metadata": {},
      "source": [
        "## Função de Resposta Logística e Logito\n"
      ]
    },
    {
      "cell_type": "markdown",
      "metadata": {},
      "source": [
        "Os principais ingredientes são a função de resposta logística e o logito, em\n",
        "que mapeamos a probabilidade (que fica em uma escala 0–1) para uma escala\n",
        "mais expansiva para modelagem linear.\n",
        "O primeiro passo é pensar na variável resultante não como um rótulo binário,\n",
        "mas como a probabilidade p de que o rótulo seja um “1”. Ingenuamente,\n",
        "podemos ficar tentados a modelar p como uma função linear das variáveis\n",
        "preditoras:\n"
      ]
    },
    {
      "attachments": {
        "image.png": {
          "image/png": "[encoded data removed]"
        }
      },
      "cell_type": "markdown",
      "metadata": {},
      "source": [
        "![image.png](attachment:image.png)"
      ]
    },
    {
      "cell_type": "markdown",
      "metadata": {},
      "source": [
        "No entanto, ajustar esse modelo não garante que p ficará entre 0 e 1, como\n",
        "uma probabilidade deveria.\n",
        "Em vez disso, modelamos p aplicando uma função resposta logística ou\n",
        "logito inverso nas preditoras"
      ]
    },
    {
      "attachments": {
        "image.png": {
          "image/png": "[encoded data removed]"
        }
      },
      "cell_type": "markdown",
      "metadata": {},
      "source": [
        "![image.png](attachment:image.png)"
      ]
    },
    {
      "cell_type": "markdown",
      "metadata": {},
      "source": [
        "Essa transformação garante que p fique entre 0 e 1.\n",
        "Para tirar a expressão exponencial do denominador, consideramos chances\n",
        "em vez de probabilidades. Chances, familiares para apostadores de todo\n",
        "lugar, são a proporção de “sucessos” (1) e “não sucessos” (0). Em termos de\n",
        "probabilidades, as chances são a probabilidade de um evento dividida pela\n",
        "probabilidade de que o evento não ocorra. Por exemplo, se a probabilidade de\n",
        "que um cavalo ganhe é 0,5, a probabilidade de que não ganhe é (1 – 0,5) =\n",
        "0,5, e as chances são 1,0."
      ]
    },
    {
      "attachments": {
        "image.png": {
          "image/png": "[encoded data removed]"
        }
      },
      "cell_type": "markdown",
      "metadata": {},
      "source": [
        "\n",
        "![image.png](attachment:image.png)"
      ]
    },
    {
      "cell_type": "markdown",
      "metadata": {},
      "source": [
        "Podemos obter a probabilidade a partir das chances usando a função odds\n",
        "inversamente:"
      ]
    },
    {
      "attachments": {
        "image.png": {
          "image/png": "[encoded data removed]"
        }
      },
      "cell_type": "markdown",
      "metadata": {},
      "source": [
        "![image.png](attachment:image.png)"
      ]
    },
    {
      "cell_type": "markdown",
      "metadata": {},
      "source": [
        "Combinamos isso com a função resposta logística, mostrada anteriormente,\n",
        "para ter:"
      ]
    },
    {
      "attachments": {
        "image.png": {
          "image/png": "[encoded data removed]"
        }
      },
      "cell_type": "markdown",
      "metadata": {},
      "source": [
        "![image.png](attachment:image.png)"
      ]
    },
    {
      "cell_type": "markdown",
      "metadata": {},
      "source": [
        "Finalmente, pegando o logaritmo dos dois lados, temos uma expressão que\n",
        "envolve uma função linear dos preditores:"
      ]
    },
    {
      "attachments": {
        "image.png": {
          "image/png": "[encoded data removed]"
        }
      },
      "cell_type": "markdown",
      "metadata": {},
      "source": [
        "![image.png](attachment:image.png)"
      ]
    },
    {
      "cell_type": "markdown",
      "metadata": {},
      "source": [
        "A função log-chances, também conhecida como função logito, mapeia a\n",
        "probabilidade p de (0, 1) para qualquer valor (− ∞, + ∞). Veja a Figura 5-2. O\n",
        "ciclo de transformação está completo. Usamos um modelo linear para prever\n",
        "uma probabilidade, que em contrapartida podemos mapear para um rótulo de\n",
        "classe através de aplicação de uma regra de corte — qualquer registro com\n",
        "uma probabilidade maior do que o corte é classificado como 1.\n"
      ]
    },
    {
      "cell_type": "markdown",
      "metadata": {},
      "source": [
        "## Regressão Logística e o GLM\n"
      ]
    },
    {
      "cell_type": "markdown",
      "metadata": {},
      "source": [
        "A resposta na fórmula de regressão logística é a chance de log de um\n",
        "resultado binário de 1. Nós observamos apenas o resultado binário, não as\n",
        "chances de log, então os métodos estatísticos especiais são necessários para\n",
        "ajustar a equação. A regressão logística é um exemplo especial de um modelo\n",
        "linear generalizado (GLM) desenvolvido para estender a regressão linear a\n",
        "outras configurações.\n"
      ]
    },
    {
      "cell_type": "markdown",
      "metadata": {},
      "source": [
        "## Modelos Lineares Generalizados\n"
      ]
    },
    {
      "cell_type": "markdown",
      "metadata": {},
      "source": [
        "GLMs são caracterizados por dois componentes principais:\n",
        "* Uma distribuição de probabilidade ou família (binomial, no caso de\n",
        "regressão logística).\n",
        "\n",
        "* Uma função de ligação mapeando a resposta até os preditores (logito,\n",
        "em caso de regressão logística).\n"
      ]
    },
    {
      "cell_type": "markdown",
      "metadata": {},
      "source": [
        "A regressão logística é, de longe, a forma mais comum de GLM. Um\n",
        "cientista de dados encontrará outros tipos de GLMs. Algumas vezes, uma\n",
        "função de ligação de log é usada, em vez de logito. Na prática, o uso de uma\n",
        "ligação de log não costuma levar a resultados muito diferentes para a maioria\n",
        "das aplicações. A distribuição de poisson é comumente usada para modelar\n",
        "dados de contagem (por exemplo, o número de vezes que um usuário visita\n",
        "uma página da web em um certo período de tempo).\n",
        "\n",
        "Outras famílias incluem\n",
        "binomial e gama negativos, geralmente usados para modelar o tempo\n",
        "percorrido (por exemplo, tempo para a falha). Ao contrário da regressão\n",
        "logística, a aplicação de GLMs com esses modelos é mais sutil e demanda\n",
        "mais cuidado. É melhor evitá-las, a menos que esteja familiarizado e entenda\n",
        "a utilidade e as armadilhas desses métodos."
      ]
    },
    {
      "cell_type": "markdown",
      "metadata": {},
      "source": [
        "## Valores Previstos a Partir da Regressão Logística"
      ]
    },
    {
      "cell_type": "markdown",
      "metadata": {},
      "source": [
        "O valor previsto da regressão logística é em termos de chances de log: = log\n",
        "(Chances (Y = 1)). A probabilidade prevista é dada pela função de resposta\n",
        "logística:"
      ]
    },
    {
      "attachments": {
        "image.png": {
          "image/png": "[encoded data removed]"
        }
      },
      "cell_type": "markdown",
      "metadata": {},
      "source": [
        "![image.png](attachment:image.png)"
      ]
    },
    {
      "cell_type": "markdown",
      "metadata": {},
      "source": [
        "## Interpretando os Coeficientes e as Razões de Chances\n"
      ]
    },
    {
      "cell_type": "markdown",
      "metadata": {},
      "source": [
        "Uma vantagem da regressão logística é que ela produz um modelo que pode\n",
        "ser pontuado a novos dados rapidamente, sem recálculo. Outra é a facilidade\n",
        "relativa de interpretação do modelo, se comparado com outros métodos de\n",
        "classificação. A ideia conceitual principal é o entendimento da razão de\n",
        "chances. A razão de chances é mais fácil de entender para uma variável\n",
        "fatorial binária X:"
      ]
    },
    {
      "attachments": {
        "image.png": {
          "image/png": "[encoded data removed]"
        }
      },
      "cell_type": "markdown",
      "metadata": {},
      "source": [
        "![image.png](attachment:image.png)"
      ]
    },
    {
      "cell_type": "markdown",
      "metadata": {},
      "source": [
        "Isso é interpretado como as chances de Y = 1 quando X = 1 versus as chances\n",
        "de Y = 1 quando X = 0. Se a razão de chances for 2, então as chances de Y = 1\n",
        "são duas vezes maiores quando X = 1 do que quando X = 0.\n",
        "Por que se preocupar com a razão de chances em vez das probabilidades?\n",
        "Nós trabalhamos com chances porque o coeficiente βj na regressão logística é\n",
        "o log da razão de chances para Xj."
      ]
    },
    {
      "cell_type": "markdown",
      "metadata": {},
      "source": [
        "## Regressão Linear e Logística: Semelhanças e Diferenças\n"
      ]
    },
    {
      "cell_type": "markdown",
      "metadata": {},
      "source": [
        "A regressão linear múltipla e a regressão logística têm muito em comum.\n",
        "Ambas assumem uma forma paramétrica linear em relação às preditoras com\n",
        "a resposta. A exploração e o encontro do melhor modelo são feitos de formas\n",
        "muito semelhantes. Generalidades ao modelo linear em usar uma\n",
        "transformação spline da preditora são igualmente aplicáveis na configuração\n",
        "da regressão logística. A regressão logística difere de dois modos\n",
        "fundamentais:\n",
        "\n",
        "O modo como o modelo é ajustado (mínimos quadrados não se\n",
        "aplicam).\n",
        "\n",
        "A natureza e a análise dos resíduos do modelo.\n",
        "\n",
        "\n",
        "## Ajustando o modelo\n",
        "\n",
        "A regressão linear é ajustada usando mínimos quadrados, e a qualidade do\n",
        "ajuste é avaliada usando estatísticas RMSE e R-quadrado. Em regressão\n",
        "logística (diferente da regressão linear), não existe solução fechada, e o\n",
        "modelo deve ser ajustado usando **estimação de máxima verossimilhança**\n",
        "(MLE, da sigla em inglês). Estimação de máxima verossimilhança é um\n",
        "processo que tenta encontrar o modelo que mais provavelmente produziu os\n",
        "dados que observamos. Na equação de regressão logística, a resposta não é 0\n",
        "ou 1, mas, sim, uma estimativa das chances de log de que a resposta seja 1. A\n",
        "MLE encontra a solução de forma que as chances de log estimadas melhor\n",
        "descrevam o resultado observado. A mecânica do algoritmo envolve uma\n",
        "otimização quase Newton, o que itera entre o passo de pontuação (pontuação\n",
        "de Fisher), baseado nos parâmetros atuais, e uma atualização nos parâmetros\n",
        "para melhorar o ajuste."
      ]
    },
    {
      "cell_type": "markdown",
      "metadata": {},
      "source": [
        "### Estimação de Máxima Verossimilhança\n"
      ]
    },
    {
      "cell_type": "markdown",
      "metadata": {},
      "source": [
        "Mais detalhadamente, se você gosta de símbolos estatísticos: começa com um conjunto de\n",
        "dados (X1, X2, …, Xn) e um modelo de probabilidade θ(X1, X2, …, Xn) que depende de um\n",
        "conjunto de parâmetros θ. O objetivo da MLE é encontrar o conjunto de parâmetros que\n",
        "maximiza o valor de θ(X1, X2, …, Xn), ou seja, maximiza a probabilidade de observar (X1,\n",
        "X2, …, Xn), dado o modelo . No processo de ajuste, o modelo é avaliado usando uma\n",
        "métrica chamada desviância:\n"
      ]
    },
    {
      "attachments": {
        "image.png": {
          "image/png": "[encoded data removed]"
        }
      },
      "cell_type": "markdown",
      "metadata": {},
      "source": [
        "![image.png](attachment:image.png)"
      ]
    },
    {
      "cell_type": "markdown",
      "metadata": {},
      "source": [
        "## Avaliando Modelos de Classificação\n"
      ]
    },
    {
      "cell_type": "markdown",
      "metadata": {},
      "source": [
        "**Precisão**\n",
        "O percentual (ou proporção) de casos classificados corretamente.\n",
        "\n",
        "\n",
        "**Matriz de confusão**\n",
        "Uma exibição tabular (2×2, no caso binário) das contagens do registro por seu status de classificação previsto e real.\n",
        "\n",
        "\n",
        "**Sensibilidade (revocação)**\n",
        "O percentual (ou proporção) de 1s corretamente classificados.\n",
        "\n",
        "**Especificidade**\n",
        "O percentual (ou proporção) de 0s corretamente classificados. Exatidão\n",
        "O percentual (proporção) de 1s previstos que são realmente 1s.\n",
        "\n",
        "**Curva ROC**\n",
        "Um gráfico de sensibilidade versus especificidade.\n",
        "\n",
        "\n",
        "**Lift**\n",
        "Uma medida de quão eficaz é o modelo em identificar (comparativamente raros) 1s em diferentes cortes de probabilidade"
      ]
    },
    {
      "cell_type": "markdown",
      "metadata": {},
      "source": [
        "### Precisão"
      ]
    },
    {
      "cell_type": "markdown",
      "metadata": {},
      "source": [
        "Um jeito simples de medir o desempenho da classificação é contar a\n",
        "proporção de previsões que estão corretas"
      ]
    },
    {
      "attachments": {
        "image.png": {
          "image/png": "[encoded data removed]"
        }
      },
      "cell_type": "markdown",
      "metadata": {},
      "source": [
        "![image.png](attachment:image.png)"
      ]
    },
    {
      "cell_type": "markdown",
      "metadata": {},
      "source": [
        "### Matriz de Confusão"
      ]
    },
    {
      "cell_type": "markdown",
      "metadata": {},
      "source": [
        "No centro das métricas de classificação está a matriz de confusão, que é uma\n",
        "tabela que mostra o número de previsões corretas e incorretas categorizadas\n",
        "por tipo de resposta."
      ]
    },
    {
      "cell_type": "markdown",
      "metadata": {},
      "source": [
        "Os resultados previstos são as colunas, e os resultados reais são as linhas. Os\n",
        "elementos diagonais da matriz mostram o número de previsões corretas, e os\n",
        "elementos fora da diagonal mostram o número de previsões incorretas"
      ]
    },
    {
      "attachments": {
        "image.png": {
          "image/png": "[encoded data removed]"
        }
      },
      "cell_type": "markdown",
      "metadata": {},
      "source": [
        "![image.png](attachment:image.png)"
      ]
    },
    {
      "cell_type": "markdown",
      "metadata": {},
      "source": [
        "## Precisão, Revocação e Especificidade"
      ]
    },
    {
      "cell_type": "markdown",
      "metadata": {},
      "source": [
        "A exatidão mede a precisão de um resultado previsto como\n",
        "positivo"
      ]
    },
    {
      "attachments": {
        "image.png": {
          "image/png": "[encoded data removed]"
        }
      },
      "cell_type": "markdown",
      "metadata": {},
      "source": [
        "![image.png](attachment:image.png)"
      ]
    },
    {
      "cell_type": "markdown",
      "metadata": {},
      "source": [
        "A revocação, também conhecida como sensibilidade, mede a força do\n",
        "modelo em prever um resultado positivo"
      ]
    },
    {
      "attachments": {
        "image.png": {
          "image/png": "[encoded data removed]"
        }
      },
      "cell_type": "markdown",
      "metadata": {},
      "source": [
        "![image.png](attachment:image.png)"
      ]
    },
    {
      "cell_type": "markdown",
      "metadata": {},
      "source": [
        "especificidade, que mede a habilidade de um modelo\n",
        "prever um resultado negativo"
      ]
    },
    {
      "attachments": {
        "image.png": {
          "image/png": "[encoded data removed]"
        }
      },
      "cell_type": "markdown",
      "metadata": {},
      "source": [
        "![image.png](attachment:image.png)"
      ]
    },
    {
      "cell_type": "markdown",
      "metadata": {},
      "source": [
        "## Curva ROC"
      ]
    },
    {
      "cell_type": "markdown",
      "metadata": {},
      "source": [
        "C. A curva ROC plota a\n",
        "revocação (sensibilidade) no eixo y contra a especificidade no eixo x,\n",
        "4 e ela\n",
        "mostra a troca entre revocação e especificidade conforme o corte é mudado\n",
        "para classificar um registro. A sensibilidade (revocação) é representada no\n",
        "eixo y, e é possível encontrar duas formas de como o eixo x é rotulado:\n",
        "Especificidade representada no eixo x, com 1 à esquerda e 0 à\n",
        "direita.\n",
        "Especificidade representada no eixo x, com 0 à esquerda e 1 à\n",
        "direita.\n",
        "A curva continua igual de qualquer maneira que seja feita. O processo para\n",
        "calcular a curva ROC é:\n",
        "1. Organize os dados pela probabilidade prevista de serem 1,\n",
        "começando com o mais provável e terminando com o menos\n",
        "provável.\n",
        "2. Calcule a especificidade e a revocação cumulativas com base nos\n",
        "registros organizados."
      ]
    },
    {
      "cell_type": "markdown",
      "metadata": {},
      "source": [
        "Curva de Precisão-Revocação\n",
        "Além das curvas ROC, pode ser esclarecedor examinar a curva de precisão-revocação\n",
        "(PR), que é calculada de modo semelhante, exceto pelo fato de os dados serem ordenados\n",
        "do menos ao mais provável, e são calculadas estatísticas cumulativas de precisão e\n",
        "revocação. As curvas PR são especialmente úteis na avaliação de dados com resultados\n",
        "altamente desequilibrados"
      ]
    },
    {
      "cell_type": "markdown",
      "metadata": {},
      "source": [
        "AUC\n",
        "A curva ROC é uma valiosa ferramenta gráfica, mas sozinha não constitui\n",
        "uma única medida para o desempenho de um classificador. A curva ROC\n",
        "pode ser usada, no entanto, para produzir a métrica de área sob a curva\n",
        "(AUC). A AUC é simplesmente a área total sob a curva ROC. Quanto maior\n",
        "o valor da AUC, mais eficaz é o classificador. Uma AUC de 1 indica um\n",
        "classificador perfeito: classifica todos os 1s corretamente, e não classifica\n",
        "erroneamente nenhum 0 como 1."
      ]
    },
    {
      "cell_type": "markdown",
      "metadata": {},
      "source": [
        "Um classificador completamente ineficiente — a linha diagonal — terá uma\n",
        "AUC de 0,5."
      ]
    },
    {
      "cell_type": "markdown",
      "metadata": {},
      "source": [
        "Confusão de Taxa de Falso Positivo\n",
        "As taxas de falso positivo/negativo costumam ser confundidas ou associadas com\n",
        "especificidade ou sensibilidade (mesmo em publicações e softwares!). Às vezes, a taxa\n",
        "de falso positivo é definida como a proporção de negativos reais que são testados como\n",
        "positivos. Em muitos casos (como na detecção de intrusos em redes), o termo é usado\n",
        "para se referir à proporção de sinais positivos que são negativos reais"
      ]
    },
    {
      "cell_type": "markdown",
      "metadata": {},
      "source": [
        "Usar a AUC como métrica é um avanço além da simples precisão, pois pode\n",
        "avaliar quão bem um classificador lida com a troca entre a precisão geral e a\n",
        "necessidade de identificar os 1s mais importantes. Mas ela não aborda\n",
        "totalmente o problema de casos raros, em que é necessário diminuir o corte\n",
        "de probabilidade do modelo abaixo de 0,5 para evitar que todos os registros\n",
        "sejam classificados como 0. Nesses casos, para que um registro seja\n",
        "classificado como 1, deve ser suficiente que tenha uma probabilidade de 0,4,\n",
        "0,3 ou menos. Efetivamente, acabamos superidentificando 1s, refletindo sua\n",
        "maior importância.\n"
      ]
    },
    {
      "cell_type": "markdown",
      "metadata": {},
      "source": [
        "# Lift"
      ]
    },
    {
      "cell_type": "markdown",
      "metadata": {},
      "source": [
        "Um gráfico de lift (gráfico de ganhos)\n",
        "quantifica isso acima da faixa dos dados. Pode ser produzido decil a decil, ou\n",
        "continuamente acima da faixa dos dados.\n",
        "Para calcular um gráfico de lift, primeiro produzimos um gráfico de ganhos\n",
        "cumulativos que mostra a revocação no eixo y e o número total de registros\n",
        "no eixo x. A curva lift é a razão dos ganhos cumulativos contra a linha\n",
        "diagonal correspondente à seleção aleatória. Gráficos de ganhos de decil são\n",
        "algumas das técnicas mais antigas em modelagem preditiva, originados nos\n",
        "dias anteriores ao comércio na internet. Eram muito populares entre os\n",
        "profissionais de mala direta, que é um método caro de propaganda, se\n",
        "aplicado indiscriminadamente, e os anunciantes usavam modelos preditivos\n",
        "(alguns muito simples nos primórdios) para identificar os potenciais clientes\n",
        "com a maior prospecção de compra."
      ]
    },
    {
      "cell_type": "markdown",
      "metadata": {},
      "source": [
        "Uma curva lift permite que vejamos as consequências de definir diferentes\n",
        "cortes de probabilidade para a classificação de registros como 1s. Pode ser\n",
        "um passo intermediário na definição de um nível de corte adequado. Por\n",
        "exemplo, uma autoridade fiscal pode ter apenas certa quantidade de recursos\n",
        "que pode investir em auditorias fiscais, que quer aplicá-los nas sonegações de\n",
        "impostos mais comuns. Com essa restrição em mente, a autoridade utilizaria\n",
        "um gráfico lift para estimar onde separar os recebimentos de impostos\n",
        "selecionados para auditoria daqueles que não foram selecionados."
      ]
    },
    {
      "cell_type": "markdown",
      "metadata": {},
      "source": [
        "## Estratégias para Dados Desequilibrados\n"
      ]
    },
    {
      "cell_type": "markdown",
      "metadata": {},
      "source": [
        "**Undersample** - Usar menos registros da classe prevalente no modelo de classificação.\n",
        "\n",
        "**Oversample** - Usar mais registros da classe rara no modelo de classificação, bootstrapping, se necessário.\n",
        "\n",
        "**Ponderação acima ou ponderação abaixo** - Aplicar mais (ou menos) peso à classe rara (ou prevalente) no modelo.\n",
        "\n",
        "**Geração de dados** - Igual ao bootstrapping, exceto pelo fato de que cada novo registro bootstrapped é ligeiramente diferente de sua fonte.\n",
        "\n",
        "**Escore Z** - O resultante depois da padronização.\n",
        "\n",
        "**K** - O número de vizinhos considerados no cálculo de vizinho mais próximo."
      ]
    },
    {
      "cell_type": "markdown",
      "metadata": {},
      "source": [
        "### Undersampling"
      ]
    },
    {
      "cell_type": "markdown",
      "metadata": {},
      "source": [
        "s. A ideia básica da undersampling é a de que os dados da classe dominante\n",
        "têm muitos registros redundantes. Lidar com um conjunto de dados menor e\n",
        "mais equilibrado traz benefícios ao desempenho do modelo e facilita o\n",
        "preparo dos dados e a exploração e pilotagem do modelo."
      ]
    },
    {
      "cell_type": "markdown",
      "metadata": {},
      "source": [
        "# Aprendizado de Máquina Estatístico\n"
      ]
    },
    {
      "cell_type": "markdown",
      "metadata": {},
      "source": [
        "## K-Vizinhos Mais Próximos\n"
      ]
    },
    {
      "cell_type": "markdown",
      "metadata": {},
      "source": [
        "Para cada registro a ser classificado ou previsto:\n",
        "1. Encontre K registros que tenham características similares (ou seja,\n",
        "valores preditivos semelhantes).\n",
        "2. Para classificação: descubra qual é a classe majoritária entre esses\n",
        "registros semelhantes e atribua tal classe ao novo registro.\n",
        "3. Para previsão (também chamada de regressão KNN): encontre a\n",
        "média entre aqueles registros semelhantes e preveja tal média para o\n",
        "novo registro."
      ]
    },
    {
      "cell_type": "markdown",
      "metadata": {},
      "source": [
        "KNN é uma das técnicas mais simples de previsão/classificação: não existem\n",
        "modelos a serem ajustados (como na regressão). Isso não significa que usar o\n",
        "KNN seja um procedimento automático. Os resultados previstos dependem\n",
        "de como as características foram escalonadas, como a similaridade foi\n",
        "medida e qual o tamanho em que K foi definido"
      ]
    },
    {
      "cell_type": "markdown",
      "metadata": {},
      "source": [
        "## Métricas de Distância\n"
      ]
    },
    {
      "cell_type": "markdown",
      "metadata": {},
      "source": [
        "A métrica de distância entre dois\n",
        "vetores mais popular é a distância Euclidiana. Para medir a distância\n",
        "Euclidiana entre dois vetores, subtraia um do outro, multiplique a diferença\n",
        "por si mesma, some e tire a raiz quadrada"
      ]
    },
    {
      "cell_type": "markdown",
      "metadata": {},
      "source": [
        "A distância euclidiana oferece vantagens computacionais especiais. Isso é\n",
        "ainda mais importante para grandes conjuntos de dados, já que o KNN\n",
        "envolve comparações em pares K × n, em que n é o número de linhas.\n",
        "Outra métrica de distância comum para dados numéricos é a distância de\n",
        "Manhattan"
      ]
    },
    {
      "cell_type": "markdown",
      "metadata": {},
      "source": [
        "A distância Euclidiana corresponde à distância em linha reta entre dois\n",
        "pontos. A distância de Manhattan é a distância entre dois pontos traçada em\n",
        "uma única direção de cada vez (por exemplo, caminhar ao redor de\n",
        "quarteirões). Por isso, a distância de Manhattan é uma aproximação útil se a\n",
        "similaridade for definida como uma viagem de um ponto a outro de cada vez.\n",
        "Ao medir a distância entre dois vetores, as variáveis (característica) que\n",
        "forem medidas com uma escala relativamente maior dominarão a medida. Por\n",
        "exemplo, nos dados de empréstimo, a distância seria quase totalmente uma\n",
        "função das variáveis de renda e da quantia de empréstimo, que são medidas\n",
        "em dezenas ou centenas de milhares"
      ]
    },
    {
      "cell_type": "markdown",
      "metadata": {},
      "source": [
        "Para\n",
        "dados numéricos, a distância de Mahalanobis é atraente, pois considera a correlação\n",
        "entre duas variáveis. Isso é útil, pois se duas variáveis são altamente correlacionadas, a\n",
        "Mahalanobis basicamente as tratará como uma única variável em termos de distância. As\n",
        "distâncias Euclidiana e de Manhattan não consideram a correlação, efetivamente\n",
        "aplicando maior peso no atributo que baseia tais características. O lado ruim de usar a\n",
        "distância de Mahalanobis é o maior esforço computacional e a complexidade. Ela é\n",
        "calculada usando a matriz de covariância."
      ]
    },
    {
      "cell_type": "markdown",
      "metadata": {},
      "source": [
        "## One Hot Encoder\n"
      ]
    },
    {
      "cell_type": "markdown",
      "metadata": {},
      "source": [
        "série de variáveis\n",
        "binárias fictícias contendo a mesma informação"
      ]
    },
    {
      "cell_type": "markdown",
      "metadata": {},
      "source": [
        "## Padronização (Normalização, Escores Z)\n"
      ]
    },
    {
      "cell_type": "markdown",
      "metadata": {},
      "source": [
        "A padronização, também chamada de\n",
        "normalização, põe todas as variáveis em escalas semelhantes através da\n",
        "subtração da média e divisão pelo desvio-padrão. Dessa forma, garantimos\n",
        "que uma variável não influencie exageradamente um modelo simplesmente\n",
        "pela escala de sua medição original.\n"
      ]
    },
    {
      "attachments": {
        "image.png": {
          "image/png": "[encoded data removed]"
        }
      },
      "cell_type": "markdown",
      "metadata": {},
      "source": [
        "![image.png](attachment:image.png)"
      ]
    },
    {
      "cell_type": "markdown",
      "metadata": {},
      "source": [
        "Usar o escore z é apenas um meio de redimensionar as variáveis. Em vez da média, pode\u0002se usar uma estimativa de localização mais robusta, como a mediana. Da mesma forma,\n",
        "poderia ser usada uma estimativa de escala diferente, como a amplitude interquartil, em\n",
        "vez do desvio-padrão. Algumas vezes as variáveis são “esmagadas” na amplitude 0–1.\n",
        "Também é importante perceber que escalonar cada variável para ter variância unitária é\n",
        "algo um tanto arbitrário. Isso implica supor que cada variável tenha a mesma importância\n",
        "em potência preditiva. Se tivermos o conhecimento subjetivo de que algumas variáveis\n",
        "são mais importantes que outras, então estas poderão ser escalonadas. Por exemplo, nos\n",
        "dados de empréstimo, é razoável esperar que a razão pagamento para renda seja muito\n",
        "importante."
      ]
    },
    {
      "cell_type": "markdown",
      "metadata": {},
      "source": [
        "## Escolhendo K\n",
        "\n",
        "e K for muito baixo, podemos estar sobreajustando:\n",
        "incluindo o ruído nos dados. Valores de K maiores oferecem uma suavização\n",
        "que reduz o risco de sobreajuste nos dados de treinamento. Por outro lado, se\n",
        "K for muito alto, podemos supersuavizar os dados e perder a habilidade dos\n",
        "KNN de capturar a estrutura local dos dados, uma de suas muitas vantagens.\n",
        "O K que melhor se equilibra entre sobreajuste e supersuavização costuma ser\n",
        "determinado pelas métricas de precisão e, especialmente, precisão com dados\n",
        "de retenção ou validação. "
      ]
    },
    {
      "cell_type": "markdown",
      "metadata": {},
      "source": [
        "* Os K-vizinhos Mais Próximos (KNN) classificam um registro atribuindo-o à classe que\n",
        "contém registros semelhantes.\n",
        "* A similaridade (distância) é determinada pela distância Euclidiana ou outras métricas\n",
        "relacionadas.\n",
        "* O número de vizinhos mais próximos contra os quais comparar um registro, K, é\n",
        "determinado pelo desempenho do algoritmo nos dados de treinamento usando-se\n",
        "diferentes valores em K.\n",
        "* Geralmente as variáveis preditoras são padronizadas de modo que as variáveis de alta\n",
        "escala não dominem a métrica de distância.\n",
        "* KNN costuma ser usado como um primeiro estágio na modelagem preditiva, e o valor\n",
        "previsto é adicionado de volta aos dados como uma preditora para modelagem de\n",
        "segundo estágio (não KNN).\n"
      ]
    },
    {
      "cell_type": "markdown",
      "metadata": {},
      "source": [
        "## Modelos de Árvore\n"
      ]
    },
    {
      "cell_type": "markdown",
      "metadata": {},
      "source": [
        "são um método\n",
        "de classificação (e regressão) efetivo e popular, inicialmente desenvolvido\n",
        "por Leo Breiman e outros em 1984. Os modelos de árvore e seus\n",
        "descendentes mais potentes, florestas aleatórias e boosting, formam\n",
        "a base das ferramentas de modelagem preditiva mais potentes e amplamente\n",
        "usadas na ciência de dados tanto para regressão quanto para classificação."
      ]
    },
    {
      "cell_type": "markdown",
      "metadata": {},
      "source": [
        "**Repartição recursiva*\n",
        "Dividir e subdividir repetitivamente os dados com o objetivo de tornar os resultados\n",
        "homogêneos em cada subdivisão final o mais possível.\n",
        "**Valor dividido**\n",
        "Um valor preditor que divide os registros naqueles em que o preditor é menor que o valor\n",
        "dividido e aqueles em que é maior.\n",
        "**Nó**\n",
        "Na árvore de decisão ou no conjunto de regras de ramificação correspondentes, um nó é a\n",
        "representação gráfica ou de regra de um valor dividido.\n",
        "**Folha**\n",
        "O fim de um conjunto de regras if-then, ou galhos de uma árvore — a regra que leva àquela\n",
        "folha fornece uma das regras de classificação para qualquer registro na árvore.\n",
        "**Perda**\n",
        "O número de classificações errôneas em um estágio do processo de divisão. Quanto mais\n",
        "perdas, mais impureza.\n",
        "**Impureza**\n",
        "A extensão da mistura de classes em uma subpartição dos dados (quanto mais misturado, mais\n",
        "impuro).\n",
        "Sinônimo\n",
        "**heterogeneidade** -  (homogeneidade, pureza)\n",
        "\n",
        "**Poda** - O processo de pegar uma árvore totalmente desenvolvida e cortar seus galhos\n",
        "progressivamente para reduzir o sobreajuste."
      ]
    },
    {
      "cell_type": "markdown",
      "metadata": {},
      "source": [
        "Um modelo de árvore é um conjunto de regras “if-then-else” que são fáceis\n",
        "de entender e implementar. Diferente da regressão e da regressão logística, as\n",
        "árvores têm a habilidade de descobrir padrões escondidos correspondentes a\n",
        "iterações complexas nos dados. No entanto, diferente do KNN ou Naive\n",
        "Bayes, modelos de árvore simples podem ser expressos em termos de\n",
        "relacionamentos de preditoras que são facilmente interpretáveis.\n"
      ]
    },
    {
      "cell_type": "markdown",
      "metadata": {},
      "source": [
        "Árvores de Decisão em Pesquisa de Operações\n",
        "O termo árvores de decisão tem um significado diferente (e mais antigo) de ciência de\n",
        "decisões e pesquisa de operações, em que se refere a um processo de análise da decisão\n",
        "humana. Nesse significado, os pontos de decisão, possíveis resultados e suas\n",
        "probabilidades estimadas são dispostos em um diagrama ramificado, e o caminho de\n",
        "decisão com o valor máximo esperado é escolhido"
      ]
    },
    {
      "cell_type": "markdown",
      "metadata": {},
      "source": [
        "A profundidade da árvore é exibida pelo traço. Cada nó corresponde a uma\n",
        "classificação provisória determinada pelo resultado prevalente naquela\n",
        "repartição. A “perda” é o número de classificações errôneas geradas pela\n",
        "classificação provisória em uma repartição. P"
      ]
    },
    {
      "cell_type": "markdown",
      "metadata": {},
      "source": [
        "## Medindo Homogeneidade ou Impureza"
      ]
    },
    {
      "cell_type": "markdown",
      "metadata": {},
      "source": [
        "duas medidas comuns para impureza são impureza de Gini e entropia ou\n",
        "informação. Enquanto estas (e outras) medidas de impureza se aplicam a\n",
        "problemas de classificação com mais de duas classes, focamos o caso binário.\n"
      ]
    },
    {
      "attachments": {
        "image.png": {
          "image/png": "[encoded data removed]"
        }
      },
      "cell_type": "markdown",
      "metadata": {},
      "source": [
        "GINI \n",
        "\n",
        "![image.png](attachment:image.png)"
      ]
    },
    {
      "attachments": {
        "image.png": {
          "image/png": "[encoded data removed]"
        }
      },
      "cell_type": "markdown",
      "metadata": {},
      "source": [
        "Entropia\n",
        "\n",
        "![image.png](attachment:image.png)"
      ]
    },
    {
      "cell_type": "markdown",
      "metadata": {},
      "source": [
        "**Coeficiente de Gini** -\n",
        "A impureza de Gini não deve ser confundida com o coeficiente de Gini. Eles representam\n",
        "conceitos semelhantes, mais o coeficiente de Gini é limitado ao problema de\n",
        "classificação binária e é relacionado à métrica AUC"
      ]
    },
    {
      "cell_type": "markdown",
      "metadata": {},
      "source": [
        "A métrica de impureza é usada no algoritmo de divisão descrito\n",
        "anteriormente. Para cada repartição de dados proposta, a impureza é medida\n",
        "para cada uma das repartições resultantes. Uma média ponderada é então\n",
        "calculada, e seja qual for a repartição (em qualquer estágio) que produzir, a\n",
        "média ponderada mais baixa será selecionada.\n"
      ]
    },
    {
      "cell_type": "markdown",
      "metadata": {},
      "source": [
        "## Prevendo um Valor Contínuo\n"
      ]
    },
    {
      "cell_type": "markdown",
      "metadata": {},
      "source": [
        "A previsão de um valor contínuo (também chamado de regressão) com uma\n",
        "árvore segue também a mesma lógica e o mesmo procedimento, exceto pelo\n",
        "fato de a impureza ser medida pelos desvios quadráticos da média (erros\n",
        "quadráticos) em cada sub-repartição, e o desempenho preditivo ser julgado\n",
        "pela raiz quadrada do erro quadrado médio (RMSE)"
      ]
    },
    {
      "cell_type": "markdown",
      "metadata": {},
      "source": [
        "* As árvores de decisão produzem um conjunto de regras para classificar ou prever um\n",
        "resultado.\n",
        "* As regras correspondem à divisão sucessiva dos dados em sub-repartições.\n",
        "* Cada repartição, ou divisão, se refere a um valor específico de uma variável preditora e\n",
        "divide os dados em registros em que aquele valor preditor está acima ou abaixo do\n",
        "valor dividido.\n",
        "* Em cada estágio, o algoritmo de árvore escolhe a divisão que minimiza a impureza do\n",
        "resultado dentro de cada sub-repartição.\n",
        "* Quando não puder haver mais nenhuma sub-repartição, a árvore estará totalmente\n",
        "crescida e cada nó terminal, ou folha, possuirá registros de uma única classe. Novos\n",
        "casos seguindo aquele caminho de regra (divisão) seriam atribuídos àquela classe.\n",
        "* Uma árvore totalmente crescida sobreajusta os dados e deve ser podada de modo a\n",
        "capturar sinais, e não ruídos.\n",
        "* Algoritmos de árvores múltiplas, como as florestas aleatórias e as árvores boosted,\n",
        "resultam melhor desempenho preditivo, mas perdem o poder comunicativo baseado em\n",
        "regras das árvores únicas."
      ]
    },
    {
      "cell_type": "markdown",
      "metadata": {},
      "source": [
        "## Bagging e a Floresta Aleatória\n"
      ]
    },
    {
      "cell_type": "markdown",
      "metadata": {},
      "source": [
        "**Agrupamento** - Formar uma previsão usando uma coletânea de modelos. (média de modelos)\n",
        "\n",
        "**Bagging** - Uma técnica geral para formar uma coleção de modelos através de bootstrapping dos dados. (agregação por bootstrap)\n",
        "\n",
        "**Floresta aleatória** -  Um tipo de estimativa bagged baseada em modelos de árvore de decisão. (árvores de decisão bagged)\n",
        "\n",
        "**Importância de variável** - Uma medida da importância de uma variável preditora no desempenho do modelo."
      ]
    },
    {
      "cell_type": "markdown",
      "metadata": {},
      "source": [
        "### Bagging"
      ]
    },
    {
      "cell_type": "markdown",
      "metadata": {},
      "source": [
        "Bagging é como o algoritmo básico de agrupamentos, exceto pelo fato de\n",
        "que, em vez de ajustar diversos modelos aos mesmos dados, cada modelo é\n",
        "ajustado a uma reamostra bootstrap."
      ]
    },
    {
      "cell_type": "markdown",
      "metadata": {},
      "source": [
        "A estimativa de erro out-of-bag (OOB) é a taxa de erro para os modelos\n",
        "treinados"
      ]
    },
    {
      "cell_type": "markdown",
      "metadata": {},
      "source": [
        "## Hiperparâmetros"
      ]
    },
    {
      "cell_type": "markdown",
      "metadata": {},
      "source": [
        "a. Essas manivelas são chamadas de\n",
        "hiperparâmetros, que são parâmetros que devem ser ajustados antes de\n",
        "ajustar um modelo"
      ]
    },
    {
      "cell_type": "markdown",
      "metadata": {},
      "source": [
        "* Modelos de agrupamento aumentam a precisão do modelo através da combinação de\n",
        "resultados de muitos modelos.\n",
        "* Bagging é um tipo especial de modelo de agrupamento baseado no ajuste de muitos\n",
        "modelos para amostras bootstrapped dos dados e tirando a média dos modelos.\n",
        "* A floresta aleatória é um tipo especial de bagging aplicado em árvores de decisão.\n",
        "* Além da reamostragem dos dados, o algoritmo de floresta aleatória amostra as variáveis\n",
        "preditoras ao dividir as árvores.\n",
        "* Um resultado útil da floresta aleatória é uma medida de importância de variável que\n",
        "classifica as preditoras em termos de sua contribuição para a precisão do modelo.\n",
        "* A floresta aleatória tem um conjunto de hiperparâmetros que devem ser ajustados\n",
        "usando validação cruzada para evitar o sobreajuste"
      ]
    },
    {
      "cell_type": "markdown",
      "metadata": {},
      "source": [
        "## Boosting"
      ]
    },
    {
      "cell_type": "markdown",
      "metadata": {},
      "source": [
        "O boosting é uma técnica geral para criar um\n",
        "agrupamento de modelos."
      ]
    },
    {
      "cell_type": "markdown",
      "metadata": {},
      "source": [
        "**Agrupar** - (cálculo da média do modelo)\n",
        "Formar uma previsão através do uso de uma coleção de modelos.\n",
        "\n",
        "**Boosting** - Uma técnica geral para ajustar uma sequência de modelos através da aplicação de mais peso\n",
        "em registros com grandes resíduos para cada rodada sucessiva.\n",
        "\n",
        "**Adaboost** - \n",
        "Uma versão anterior do boosting baseada em reponderação dos dados com base nos resíduos.\n",
        "\n",
        "**Boosting gradiente** - \n",
        "Uma forma mais geral de boosting moldada em termos de minimizar uma função de custo.\n",
        "\n",
        "**Boosting gradiente estocástico** - \n",
        "O algoritmo mais geral para boosting que incorpora a reamostragem de registros e colunas em\n",
        "cada rodada.\n",
        "\n",
        "**Regularização** - \n",
        "Uma técnica para evitar o sobreajuste através da adição de um termo de penalidade para a\n",
        "função de custo no número de parâmetros no modelo.\n",
        "\n",
        "**Hiperparâmetros** - \n",
        "Os parâmetros que precisam ser ajustados antes de ajustar o algoritmo."
      ]
    },
    {
      "cell_type": "markdown",
      "metadata": {},
      "source": [
        "## Ridge e Lasso"
      ]
    },
    {
      "cell_type": "markdown",
      "metadata": {},
      "source": [
        "  regressão ridge minimiza a\n",
        "soma dos resíduos quadrados mais uma penalidade no tamanho e no número dos coeficientes.\n",
        "O valor de λ determina o quanto os coeficientes são penalizados. Valores maiores produzem\n",
        "modelos que são menos propensos a sobreajustar os dados."
      ]
    },
    {
      "attachments": {
        "image.png": {
          "image/png": "[encoded data removed]"
        }
      },
      "cell_type": "markdown",
      "metadata": {},
      "source": [
        "![image.png](attachment:image.png)"
      ]
    },
    {
      "cell_type": "markdown",
      "metadata": {},
      "source": [
        " A Lasso é semelhante, exceto por usar a distância de Manhattan, em vez da distância Euclidiana,"
      ]
    },
    {
      "attachments": {
        "image.png": {
          "image/png": "[encoded data removed]"
        }
      },
      "cell_type": "markdown",
      "metadata": {},
      "source": [
        "![image.png](attachment:image.png)"
      ]
    },
    {
      "cell_type": "markdown",
      "metadata": {},
      "source": [
        "## Validação Cruzada\n",
        "\n",
        "A validação cruzada divide os dados aleatoriamente em K grupos\n",
        "diferentes, também chamados de dobras. Para cada dobra, um modelo é\n",
        "treinado nos dados fora da dobra e então avaliado ali. Isso gera uma medida\n",
        "de precisão de modelo em dados fora da amostra. O melhor conjunto de\n",
        "hiperparâmetros é aquele dado pelo modelo com o menor erro global\n",
        "conforme calculado pela média dos erros de cada uma das dobras.\n"
      ]
    },
    {
      "cell_type": "markdown",
      "metadata": {},
      "source": [
        "* O boosting é uma classe de modelos de agrupamento baseada no ajuste de uma\n",
        "sequência de modelos, com mais peso dado a registros com erros grandes e rodadas\n",
        "sucessivas.\n",
        "* O boosting gradiente estocástico é o tipo mais geral de boosting e oferece o melhor\n",
        "desempenho. A forma mais comum de boosting gradiente estocástico usa modelos de\n",
        "árvore.\n",
        "* O XGBoost é um pacote de software popular e computacionalmente eficiente para\n",
        "boosting gradiente estocástico; está disponível em todas as linguagens comumente\n",
        "usadas na ciência de dados.\n",
        "* O boosting tende a sobreajustar os dados, e os hiperparâmetros precisam ser ajustados\n",
        "para evitar isso.\n",
        "* A regularização é um jeito de evitar o sobreajuste através da inclusão de um termo de\n",
        "penalidade no número de parâmetros (por exemplo, tamanho da árvore) em um modelo.\n",
        "* A validação cruzada é especialmente importante para o boosting devido ao grande\n",
        "número de hiperparâmetros que precisam ser ajustados.\n"
      ]
    },
    {
      "cell_type": "markdown",
      "metadata": {},
      "source": [
        "## Aprendizado Não Supervisionado\n"
      ]
    },
    {
      "cell_type": "markdown",
      "metadata": {},
      "source": [
        "O aprendizado não supervisionado\n",
        "também constrói um modelo dos dados, mas não distingue entre variável\n",
        "responsiva e variáveis preditoras."
      ]
    },
    {
      "cell_type": "markdown",
      "metadata": {},
      "source": [
        "## Análise dos Componentes Principais\n",
        "\n",
        "Geralmente as variáveis variam em conjunto (covariam), e algumas variações\n",
        "em uma delas são, na verdade, duplicadas pela variação em outra. A análise\n",
        "de componentes principais (PCA) é uma técnica para descobrir o modo como\n",
        "as variáveis numéricas covariam\n"
      ]
    },
    {
      "cell_type": "markdown",
      "metadata": {},
      "source": [
        "**Componente principal**\n",
        "Uma combinação linear das variáveis preditoras.\n",
        "\n",
        "**Cargas** - (pesos)\n",
        "Os pesos que transformam as preditoras em componentes.\n",
        "\n",
        "**Screeplot**\n",
        "Um gráfico das variâncias dos componentes, mostrando a importância relativa dos\n",
        "componentes.\n"
      ]
    },
    {
      "cell_type": "markdown",
      "metadata": {},
      "source": [
        "A ideia na PCA é combinar múltiplas variáveis preditoras numéricas em um\n",
        "conjunto menor de variáveis, que são combinações lineares ponderadas do\n",
        "conjunto original. O menor conjunto de variáveis, os componentes principais,\n",
        "“explica” a maior parte da variabilidade do conjunto completo de variáveis,\n",
        "reduzindo a dimensão dos dados. Os pesos usados para formar os\n",
        "componentes principais revelam as contribuições relativas das variáveis\n",
        "originais para os novos componentes principais."
      ]
    },
    {
      "cell_type": "markdown",
      "metadata": {},
      "source": [
        "* Os componentes principais são combinações lineares de variáveis preditoras (apenas\n",
        "dados numéricos).\n",
        "* São calculados de modo a minimizar a correlação entre os componentes, reduzindo a\n",
        "redundância.\n",
        "* Um número limitado de componentes normalmente explicará a maior parte da variância\n",
        "na variável resultante.\n",
        "* O conjunto limitado de componentes principais pode então ser usado no lugar das (mais\n",
        "numerosas) preditoras originais, reduzindo a dimensionalidade.\n"
      ]
    },
    {
      "cell_type": "markdown",
      "metadata": {},
      "source": [
        "## Agrupamento por K-Médias\n"
      ]
    },
    {
      "cell_type": "markdown",
      "metadata": {},
      "source": [
        "O agrupamento é uma técnica para dividir os dados em diferentes grupos, na\n",
        "qual os registros em cada grupo são semelhantes uns aos outros. Um objetivo\n",
        "do agrupamento é identificar grupos de dados significantes e significativos.\n",
        "Os grupos podem ser usados diretamente, analisados mais a fundo ou\n",
        "passados como uma característica ou resultado para um modelo de regressão\n",
        "ou classificação. K-médias foi o primeiro método de agrupamento\n",
        "desenvolvido, e ainda é muito usado, devendo sua popularidade à relativa\n",
        "simplicidade do algoritmo e sua habilidade de escalar grandes conjuntos de\n",
        "dados.\n"
      ]
    },
    {
      "cell_type": "markdown",
      "metadata": {},
      "source": [
        "**Grupo** - \n",
        "Um conjunto de registros que são semelhantes.\n",
        "**Média do grupo** - \n",
        "O vetor das médias das variáveis para os registros em um grupo.\n",
        "**K** - \n",
        "O número de grupos.\n"
      ]
    },
    {
      "cell_type": "markdown",
      "metadata": {},
      "source": [
        "As K-médias dividem os dados em K grupos através da minimização da soma\n",
        "das distâncias quadráticas de cada registro à média de seu grupo atribuído.\n",
        "Isso é chamado de soma dos quadrados dentro do grupo ou SS dentro do\n",
        "grupo. As K-médias não garantem que os grupos tenham o mesmo tamanho,\n",
        "mas encontra grupos que sejam melhores separados.\n"
      ]
    },
    {
      "cell_type": "markdown",
      "metadata": {},
      "source": [
        "## Escolhendo o Número de Grupos\n"
      ]
    },
    {
      "cell_type": "markdown",
      "metadata": {},
      "source": [
        "método cotovelo, é identificar quando\n",
        "o conjunto de grupos explica a “maioria” da variância nos dados. Adicionar\n",
        "novos grupos além desse gera uma contribuição incremental relativamente\n",
        "pequena na variância explicada. O cotovelo é o ponto em que a variância\n",
        "explicada cumulativa se estabiliza depois de uma subida brusca, por isso o\n",
        "nome do método."
      ]
    },
    {
      "cell_type": "markdown",
      "metadata": {},
      "source": [
        "## Agrupamento Hierárquico\n"
      ]
    },
    {
      "cell_type": "markdown",
      "metadata": {},
      "source": [
        "**Dendrograma**\n",
        "Uma representação visual dos registros e da hierarquia dos grupos aos quais pertencem.\n",
        "\n",
        "**Distância**\n",
        "Uma medida da proximidade entre um registro e outro.\n",
        "\n",
        "**Dissimilaridade**\n",
        "Uma medida da proximidade entre um grupo e outro.\n"
      ]
    },
    {
      "cell_type": "markdown",
      "metadata": {},
      "source": [
        "# O Algoritmo Aglomerativo\n",
        "\n",
        "O principal algoritmo para agrupamento hierárquico é o algoritmo\n",
        "aglomerativo, que funde iterativamente grupos semelhantes. O algoritmo\n",
        "aglomerativo começa com cada registro constituindo seu próprio grupo de\n",
        "um registro, e então constrói grupos cada vez maiores. O primeiro passo é\n",
        "calcular as distâncias entre todos os pares de registros"
      ]
    },
    {
      "cell_type": "markdown",
      "metadata": {},
      "source": [
        "# Medidas de Dissimilaridade\n"
      ]
    },
    {
      "cell_type": "markdown",
      "metadata": {},
      "source": [
        "Existem quatro medidas de dissimilaridade comuns: ligação total, ligação\n",
        "única, ligação média e variância mínima."
      ]
    },
    {
      "cell_type": "markdown",
      "metadata": {},
      "source": [
        "O método de ligação única é a distância mínima entre os registros em dois grupos"
      ]
    },
    {
      "attachments": {
        "image.png": {
          "image/png": "[encoded data removed]"
        }
      },
      "cell_type": "markdown",
      "metadata": {},
      "source": [
        "![image.png](attachment:image.png)"
      ]
    },
    {
      "cell_type": "markdown",
      "metadata": {},
      "source": [
        "Esse método é “ganancioso” e produz agrupamentos que podem conter\n",
        "elementos bastante discrepantes. O método de ligação média é a média de\n",
        "todos os pares de distâncias, e representa um meio-termo entre os métodos de\n",
        "ligação única e total. Finalmente, o método de variância mínima, também\n",
        "chamado de método de Ward, é semelhante ao K-médias, pois minimiza a\n",
        "soma dos quadrados dentro do grupo"
      ]
    },
    {
      "cell_type": "markdown",
      "metadata": {},
      "source": [
        "Os resultados são muito diferentes: a medida de ligação única atribui quase\n",
        "todos os pontos a um único grupo. Com exceção do método de variância\n",
        "mínima (Ward.D), todas as medidas acabam com ao menos um grupo com\n",
        "apenas alguns pontos remotos. O método de variância mínima é mais\n",
        "semelhante ao agrupamento por K-médias. "
      ]
    },
    {
      "cell_type": "markdown",
      "metadata": {},
      "source": [
        "# Agrupamento Baseado em Modelos\n"
      ]
    },
    {
      "cell_type": "markdown",
      "metadata": {},
      "source": [
        "## Distribuição Normal Multivariada\n"
      ]
    },
    {
      "cell_type": "markdown",
      "metadata": {},
      "source": [
        "A distribuição normal multivariada é uma\n",
        "generalização da distribuição normal para definir um conjunto de p variáveis.\n",
        "\n",
        "A distribuição é definida por um conjunto de médias μ = μ1, μ2,\n",
        "..., μp e uma matriz de covariância Σ. A matriz de covariância é uma medida\n",
        "de como as variáveis se correlacionam umas com as outras\n"
      ]
    },
    {
      "cell_type": "markdown",
      "metadata": {},
      "source": [
        "# Escalonamento e Variáveis Categóricas\n",
        "\n"
      ]
    },
    {
      "cell_type": "markdown",
      "metadata": {},
      "source": [
        "**Escalonamento**\n",
        "Comprimir ou expandir dados, geralmente para trazer múltiplas variáveis à mesma escala.\n",
        "\n",
        "**Normalização**\n",
        "Um método de escalonamento — subtraindo a média e dividindo pelo desvio-padrão.\n",
        "Sinônimo\n",
        "padronização\n",
        "\n",
        "**Distância de Gower**\n",
        "Um algoritmo de escalonamento aplicado a dados numéricos e categóricos para trazer todas as\n",
        "variáveis para uma amplitude de 0–1."
      ]
    },
    {
      "cell_type": "markdown",
      "metadata": {},
      "source": [
        "## Escalonando as Variáveis\n"
      ]
    },
    {
      "cell_type": "markdown",
      "metadata": {},
      "source": [
        "Variáveis com escala e unidades muito diferentes precisam ser\n",
        "adequadamente normalizadas antes da aplicação de um procedimento de\n",
        "agrupamento.\n",
        "\n",
        "Uma abordagem comum para escalonar as variáveis é convertê-las em\n",
        "escores z, subtraindo a média e dividindo pelo desvio-padrão. Isso é chamado\n",
        "de padronização ou normalização"
      ]
    },
    {
      "cell_type": "markdown",
      "metadata": {},
      "source": [
        "## Dados Categóricos e Distância de Gower\n"
      ]
    },
    {
      "cell_type": "markdown",
      "metadata": {},
      "source": [
        "No caso dos dados categóricos, é necessário convertê-los em dados\n",
        "numéricos através de classificação (para um fator ordenado) ou de\n",
        "codificação como um conjunto de variáveis binárias (fictícias). Se os dados\n",
        "forem compostos por variáveis contínuas e binárias misturadas, normalmente\n",
        "será melhor escalar as variáveis de modo que as amplitudes sejam\n",
        "semelhantes"
      ]
    },
    {
      "cell_type": "markdown",
      "metadata": {},
      "source": [
        "**Um método popular é usar a distância de Gower.**\n",
        "\n",
        "A ideia básica por trás da distância de Gower é a aplicação de uma métrica de\n",
        "distância diferente para cada variável conforme o tipo dos dados:\n",
        "* Para variáveis numéricas e fatores ordenados, a distância é calculada\n",
        "como o valor absoluto da diferença entre dois registros (distância de\n",
        "Manhattan).\n",
        "* Para variáveis categóricas, a distância é 1 se as categorias entre dois\n",
        "registros são diferentes, e 0 se as categorias são iguais."
      ]
    },
    {
      "cell_type": "markdown",
      "metadata": {},
      "source": [
        "A distância de Gower é calculada da seguinte forma:\n",
        "1. Calcule a distância di, j para todos os pares de variáveis i e j para\n",
        "cada registro.\n",
        "2. Escale cada par di, j de modo que o mínimo seja 0, e o máximo, 1.\n",
        "3. Some as distâncias pareadas entre as variáveis, seja usando uma\n",
        "média simples ou ponderada, para criar a matriz de distância."
      ]
    },
    {
      "cell_type": "markdown",
      "metadata": {},
      "source": [
        "## Problemas com Agrupamento de Dados Mistos"
      ]
    },
    {
      "cell_type": "markdown",
      "metadata": {},
      "source": [
        "K-médias e PCA são mais adequados para variáveis contínuas. Para\n",
        "conjuntos de dados menores, é melhor usar o agrupamento hierárquico com\n",
        "distância de Gower. Em princípio, não existe razão pela qual K-médias não\n",
        "possa ser aplicado em dados binários ou categóricos. Seria mais comum usar\n",
        "a representação “one hot encoder” para converter os dados categóricos em valores numéricos."
      ]
    },
    {
      "cell_type": "markdown",
      "metadata": {},
      "source": [
        "* As variáveis medidas em diferentes escalas precisam ser transformadas em escalas\n",
        "semelhantes, de modo que seu impacto nos algoritmos não seja determinado\n",
        "principalmente por sua escala.\n",
        "* Um método de escalonamento comum é a normalização (padronização) — subtrair a\n",
        "média e dividir pelo desvio-padrão.\n",
        "* Outro método é a distância de Gower, que escalona todas as variáveis para a amplitude\n",
        "0–1 (costuma ser usada com dados categóricos e numéricos misturados).\n"
      ]
    },
    {
      "cell_type": "markdown",
      "metadata": {},
      "source": []
    }
  ],
  "metadata": {
    "colab": {
      "authorship_tag": "ABX9TyPM0NRuIWNYRFvnIThZQgkq",
      "include_colab_link": true,
      "provenance": []
    },
    "kernelspec": {
      "display_name": "Python 3",
      "name": "python3"
    },
    "language_info": {
      "codemirror_mode": {
        "name": "ipython",
        "version": 3
      },
      "file_extension": ".py",
      "mimetype": "text/x-python",
      "name": "python",
      "nbconvert_exporter": "python",
      "pygments_lexer": "ipython3",
      "version": "3.10.7"
    }
  },
  "nbformat": 4,
  "nbformat_minor": 0
}
