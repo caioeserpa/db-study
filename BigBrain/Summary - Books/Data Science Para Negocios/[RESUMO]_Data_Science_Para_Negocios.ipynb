{
 "cells": [
  {
   "cell_type": "markdown",
   "metadata": {},
   "source": [
    "# Introdução: Pensamento Analítico de Dados"
   ]
  },
  {
   "cell_type": "markdown",
   "metadata": {},
   "source": [
    "A mineração de dados é usada para\n",
    "gestão de relacionamento com o cliente para analisar seu comportamento a\n",
    "fim de gerenciar o desgaste e maximizar o valor esperado do cliente"
   ]
  },
  {
   "cell_type": "markdown",
   "metadata": {},
   "source": [
    "**Data mining** é a extração de conhecimento a partir deles, por meio de\n",
    "tecnologias que incorporam esses princípios. Como termo, “data science”\n",
    "muitas vezes é aplicado mais amplamente do que o uso tradicional de “data\n",
    "mining”, mas as técnicas de mineração de dados fornecem alguns dos mais\n",
    "claros exemplos de princípios de data science."
   ]
  },
  {
   "cell_type": "markdown",
   "metadata": {},
   "source": []
  }
 ],
 "metadata": {
  "language_info": {
   "name": "python"
  }
 },
 "nbformat": 4,
 "nbformat_minor": 2
}
