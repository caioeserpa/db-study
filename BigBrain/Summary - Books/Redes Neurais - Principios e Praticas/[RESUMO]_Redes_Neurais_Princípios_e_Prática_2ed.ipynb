{
  "cells": [
    {
      "cell_type": "markdown",
      "metadata": {
        "colab_type": "text",
        "id": "view-in-github"
      },
      "source": [
        "<a href=\"https://colab.research.google.com/github/caioeserpa/data-brain/blob/main/%5BRESUMO%5D_Redes_Neurais_Princ%C3%ADpios_e_Pr%C3%A1tica_2ed.ipynb\" target=\"_parent\"><img src=\"https://colab.research.google.com/assets/colab-badge.svg\" alt=\"Open In Colab\"/></a>"
      ]
    },
    {
      "cell_type": "markdown",
      "metadata": {},
      "source": [
        "# O que é uma Rede Neural?"
      ]
    },
    {
      "cell_type": "markdown",
      "metadata": {},
      "source": [
        "É um sistema que imita o cérebro humano ao tentar processar informações através de neurônios (artificiais); As redes reuniais tem como objetivo replicar/aplicar processo naturais ao corpo humano em ambientes ao qual predomina processos eletrônicos"
      ]
    },
    {
      "cell_type": "markdown",
      "metadata": {},
      "source": [
        "\"Uma máquina que é projetada para modelar a maneira como o cérebro realiza uma tarefa particular ou função de interesse;\""
      ]
    },
    {
      "cell_type": "markdown",
      "metadata": {},
      "source": [
        "Para alcançarem bom desempenho, as redes neurais empregam uma interligação maciça de células computacionais simples denominadas \"neurônios\" ou \"unidades de processamento\";"
      ]
    },
    {
      "cell_type": "markdown",
      "metadata": {},
      "source": [
        "// Outra visão - \n",
        "\n",
        "Uma rede neural é um processador maciçamente paralelamente distribuído constituído de unidades de processamento simples, que têm a propensão natural para armazenar conhecimento experimental e torná-lo disponível para o uso. \n",
        "\n",
        "\n",
        "Na rede neural ela se assemelha ao cérebro em dois aspectos:\n",
        "\n",
        "1 - O conhecimento é adquirido pela rede a partir de seu ambiente através de um processo de aprendizagem;\n",
        "\n",
        "2 - Forças de conexão entre neurônios, conhecidas como pesos sinápticos, são utilizadas para armazenar o conhecimento adquirido."
      ]
    },
    {
      "cell_type": "markdown",
      "metadata": {},
      "source": [
        "A rede neural aprende através do algoritmo de aprendizagem, ao qual função é adaptar pesos sinápticos da rede de forma ordenada para alcançar os seus objetivos"
      ]
    },
    {
      "cell_type": "markdown",
      "metadata": {},
      "source": [
        "# Benefícios do uso de RNAs\n",
        "\n",
        "- Generalização -> Refere-se ao fato da rede neural produzir saídas adequadas para entradas que não estavam presentes durante o treinamento.\n",
        "\n",
        "- Não-linearidade -> Um neurônio artificial pode ser linear ou não-linear. \n",
        "\n",
        "- Mapeamento de Entrada-Saída -> Cada exemplo consiste de um sinal de entrada único e de uma resposta desejada correspondente.\n",
        "    O treinamento da rede é repetido para muitos exemplos do conjunto até que a rede alcance um estado estável onde não haja mais modificações significativas nos pesos sinápticos.\n",
        "\n",
        "- Adaptabilidade -> As redes neurais têm a capacidade inata de adapta seus pesos sinápticos a modificações do ambiente.\n",
        "\n",
        "- Respostas a Evidências"
      ]
    },
    {
      "cell_type": "code",
      "execution_count": 24,
      "metadata": {},
      "outputs": [],
      "source": [
        "import pandas as pd"
      ]
    },
    {
      "cell_type": "code",
      "execution_count": 1,
      "metadata": {
        "id": "wfEK1AsgY4Vb"
      },
      "outputs": [
        {
          "name": "stdout",
          "output_type": "stream",
          "text": [
            "Percentual Acumulado 1: 110.00%\n",
            "Percentual Acumulado 2: 132.00%\n",
            "Percentual Acumulado 3: 171.60%\n",
            "Percentual Acumulado 4: 240.24%\n",
            "Percentual Acumulado 5: 260.36%\n",
            "Percentual Acumulado Final: 260.36%\n"
          ]
        }
      ],
      "source": [
        "# Lista de valores como taxas de crescimento em formato decimal\n",
        "valores = [0.1, 0.2, 0.3, 0.4, 0.5]\n",
        "\n",
        "# Inicializa uma variável para a soma acumulada\n",
        "soma_acumulada = 1.0\n",
        "\n",
        "# Calcula os valores percentuais acumulados\n",
        "for i, valor in enumerate(valores):\n",
        "    soma_acumulada *= (1 + valor)\n",
        "    \n",
        "    # Se for o último número na lista, subtrai 1 para obter o percentual acumulado\n",
        "    if i == len(valores) - 1:\n",
        "        percentual_acumulado = (soma_acumulada - 1) * 100\n",
        "    else:\n",
        "        percentual_acumulado = soma_acumulada * 100\n",
        "    \n",
        "    print(f\"Percentual Acumulado {i+1}: {percentual_acumulado:.2f}%\")\n",
        "\n",
        "# O resultado final é o percentual acumulado do último valor na lista\n",
        "print(f\"Percentual Acumulado Final: {percentual_acumulado:.2f}%\")\n"
      ]
    },
    {
      "cell_type": "code",
      "execution_count": 11,
      "metadata": {},
      "outputs": [
        {
          "data": {
            "text/plain": [
              "1.1"
            ]
          },
          "execution_count": 11,
          "metadata": {},
          "output_type": "execute_result"
        }
      ],
      "source": [
        "0.1 +1 "
      ]
    },
    {
      "cell_type": "code",
      "execution_count": 12,
      "metadata": {},
      "outputs": [
        {
          "name": "stdout",
          "output_type": "stream",
          "text": [
            "0.1\n",
            "VALOR REAL 1.1\n",
            " PRODUTO APÓS SOMA 0.11000000000000001\n",
            "0.11000000000000001\n",
            "VALOR REAL 1.2\n",
            " PRODUTO APÓS SOMA 0.132\n",
            "0.132\n",
            "VALOR REAL 1.3\n",
            " PRODUTO APÓS SOMA 0.1716\n",
            "0.1716\n",
            "VALOR REAL 1.4\n",
            " PRODUTO APÓS SOMA 0.24023999999999998\n",
            "0.24023999999999998\n",
            "VALOR REAL 1.5\n",
            " PRODUTO APÓS SOMA 0.36035999999999996\n",
            "Percentual Acumulado: -63.96%\n"
          ]
        }
      ],
      "source": [
        "# Lista de valores como taxas de crescimento em formato decimal\n",
        "valores = [0.1, 0.2, 0.3, 0.4, 0.5]\n",
        "\n",
        "# Inicializa uma variável para o produto acumulado\n",
        "produto_acumulado = \n",
        "\n",
        "# Calcula o produto acumulado dos valores\n",
        "for valor in valores:\n",
        "    print(produto_acumulado)\n",
        "    produto_acumulado *= (1.0 + valor)\n",
        "    print(f\"VALOR REAL {(1.0 + valor)}\")\n",
        "    print(f' PRODUTO APÓS SOMA {produto_acumulado}')\n",
        "\n",
        "# Calcula o percentual acumulado\n",
        "percentual_acumulado = (produto_acumulado - 1) * 100\n",
        "\n",
        "print(f\"Percentual Acumulado: {percentual_acumulado:.2f}%\")\n",
        "\n"
      ]
    },
    {
      "cell_type": "code",
      "execution_count": 15,
      "metadata": {},
      "outputs": [
        {
          "data": {
            "text/plain": [
              "5"
            ]
          },
          "execution_count": 15,
          "metadata": {},
          "output_type": "execute_result"
        }
      ],
      "source": [
        "len(valores)"
      ]
    },
    {
      "cell_type": "code",
      "execution_count": 22,
      "metadata": {},
      "outputs": [],
      "source": [
        "produto_acumulado = 0 "
      ]
    },
    {
      "cell_type": "code",
      "execution_count": 23,
      "metadata": {},
      "outputs": [
        {
          "name": "stdout",
          "output_type": "stream",
          "text": [
            "0\n",
            "1.1\n",
            "1.1\n",
            "1.32\n",
            "1.32\n",
            "1.7160000000000002\n",
            "1.7160000000000002\n",
            "2.4024\n",
            "2.4024\n",
            "2.6036\n"
          ]
        }
      ],
      "source": [
        "for i, valor in enumerate(valores):\n",
        "    print(produto_acumulado)\n",
        "        # Verifica se é o primeiro valor na lista\n",
        "    if i == 0:\n",
        "        produto_acumulado = valor +1\n",
        "        print(produto_acumulado)\n",
        "    elif i < len(valores) - 1:\n",
        "        produto_acumulado *= (1 + valor)\n",
        "        print(produto_acumulado)\n",
        "    elif i == len(valores) -1:\n",
        "          produto_acumulado *= (1 + valor)\n",
        "          produto_acumulado = (produto_acumulado - 1)\n",
        "          print(produto_acumulado)\n",
        "          \n",
        "        "
      ]
    }
  ],
  "metadata": {
    "colab": {
      "authorship_tag": "ABX9TyOdVfoHneWnJ4XKkJik743/",
      "include_colab_link": true,
      "provenance": []
    },
    "kernelspec": {
      "display_name": "disponibilidade_ug",
      "language": "python",
      "name": "disponibilidade_ug"
    },
    "language_info": {
      "codemirror_mode": {
        "name": "ipython",
        "version": 3
      },
      "file_extension": ".py",
      "mimetype": "text/x-python",
      "name": "python",
      "nbconvert_exporter": "python",
      "pygments_lexer": "ipython3",
      "version": "3.10.7"
    }
  },
  "nbformat": 4,
  "nbformat_minor": 0
}
